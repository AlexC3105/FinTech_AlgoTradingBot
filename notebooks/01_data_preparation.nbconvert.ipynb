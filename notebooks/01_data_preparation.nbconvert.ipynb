{
 "cells": [
  {
   "cell_type": "markdown",
   "metadata": {},
   "source": [
    "# 01_data_preparation.ipynb\n",
    "\n",
    "## Notebook Purpose\n",
    "This notebook is designed to load, clean, and preprocess historical cryptocurrency data. It will also calculate technical indicators that will be used for further analysis and model training.\n",
    "\n",
    "## Instructions\n",
    "1. **Import Necessary Libraries**:\n",
    "   - Import `pandas` for data manipulation.\n",
    "   - Import functions from `utils.py` for loading, preprocessing data, and calculating technical indicators.\n",
    "\n",
    "2. **Load Data**:\n",
    "   - Use the `load_data` function to load the CSV file containing historical cryptocurrency data.\n",
    "\n",
    "3. **Preprocess Data**:\n",
    "   - Use the `preprocess_data` function to clean and preprocess the loaded data.\n",
    "   - Ensure any missing values are handled appropriately.\n",
    "\n",
    "4. **Calculate Technical Indicators**:\n",
    "   - Use the `calculate_indicators` function to add technical indicators (e.g., SMA, EMA, RSI) to the data.\n",
    "\n",
    "5. **Save Preprocessed Data**:\n",
    "   - Save the cleaned and preprocessed data, including the calculated technical indicators, to a new CSV file for later use.\n",
    "\n",
    "6. **Review Data**:\n",
    "   - Display the first few rows of the preprocessed data to ensure it looks correct.\n",
    "\n",
    "## Example Code\n",
    "```python\n",
    "# Import necessary libraries\n",
    "import pandas as pd\n",
    "from scripts.utils import load_data, preprocess_data, calculate_indicators\n",
    "\n",
    "# Load data\n",
    "data_path = 'data/historical_data/btc_usd.csv'  # Update this path based on the selected cryptocurrency\n",
    "data = load_data(data_path)\n",
    "\n",
    "# Preprocess data\n",
    "data = preprocess_data(data)\n",
    "\n",
    "# Calculate technical indicators\n",
    "data = calculate_indicators(data)\n",
    "\n",
    "# Save the preprocessed data\n",
    "data.to_csv('data/historical_data/btc_usd_preprocessed.csv')\n",
    "\n",
    "# Display the first few rows of the preprocessed data\n",
    "data.head()"
   ]
  },
  {
   "cell_type": "code",
   "execution_count": 1,
   "metadata": {
    "execution": {
     "iopub.execute_input": "2024-07-11T23:56:27.927348Z",
     "iopub.status.busy": "2024-07-11T23:56:27.926956Z",
     "iopub.status.idle": "2024-07-11T23:56:28.740304Z",
     "shell.execute_reply": "2024-07-11T23:56:28.740054Z"
    }
   },
   "outputs": [
    {
     "name": "stdout",
     "output_type": "stream",
     "text": [
      "Libraries loaded successfully. Let's proceed!\n"
     ]
    }
   ],
   "source": [
    "# Cell 1: Import necessary libraries and verify\n",
    "try:\n",
    "    import pandas as pd\n",
    "    import numpy as np\n",
    "    import matplotlib.pyplot as plt\n",
    "    import seaborn as sns\n",
    "    import requests\n",
    "    import os\n",
    "    from dotenv import load_dotenv\n",
    "    from datetime import datetime\n",
    "    %matplotlib inline\n",
    "    print(\"Libraries loaded successfully. Let's proceed!\")\n",
    "except ImportError as e:\n",
    "    print(f\"Uh-oh! Please verify the installation of: {e.name}\")\n"
   ]
  },
  {
   "cell_type": "code",
   "execution_count": 2,
   "metadata": {
    "execution": {
     "iopub.execute_input": "2024-07-11T23:56:28.756015Z",
     "iopub.status.busy": "2024-07-11T23:56:28.755852Z",
     "iopub.status.idle": "2024-07-11T23:56:28.758827Z",
     "shell.execute_reply": "2024-07-11T23:56:28.758608Z"
    }
   },
   "outputs": [],
   "source": [
    "# Cell 2: Load environment variables and fetch API keys\n",
    "load_dotenv()\n",
    "\n",
    "# Fetch API keys\n",
    "COINBASE_API_KEY = os.getenv(\"COINBASE_API_KEY\")\n",
    "COINBASE_API_SECRET = os.getenv(\"COINBASE_API_SECRET\")\n",
    "ALPHA_VANTAGE_API_KEY = os.getenv(\"ALPHA_VANTAGE_API_KEY\")\n",
    "CRYPTOCOMPARE_API_KEY = os.getenv(\"CRYPTOCOMPARE_API_KEY\")\n"
   ]
  },
  {
   "cell_type": "code",
   "execution_count": 3,
   "metadata": {
    "execution": {
     "iopub.execute_input": "2024-07-11T23:56:28.759995Z",
     "iopub.status.busy": "2024-07-11T23:56:28.759912Z",
     "iopub.status.idle": "2024-07-11T23:56:28.762372Z",
     "shell.execute_reply": "2024-07-11T23:56:28.762144Z"
    }
   },
   "outputs": [],
   "source": [
    "# Cell 3: Function to fetch data from Alpha Vantage\n",
    "def fetch_alpha_vantage_data(symbol):\n",
    "    base_url = \"https://www.alphavantage.co/query\"\n",
    "    params = {\n",
    "        \"function\": \"DIGITAL_CURRENCY_DAILY\",\n",
    "        \"symbol\": symbol,\n",
    "        \"market\": \"USD\",\n",
    "        \"apikey\": ALPHA_VANTAGE_API_KEY\n",
    "    }\n",
    "    try:\n",
    "        response = requests.get(base_url, params=params)\n",
    "        response.raise_for_status()\n",
    "        data = response.json()\n",
    "        if 'Time Series (Digital Currency Daily)' in data:\n",
    "            time_series = data['Time Series (Digital Currency Daily)']\n",
    "            df = pd.DataFrame.from_dict(time_series, orient='index')\n",
    "            df = df.rename(columns={\n",
    "                '1a. open (USD)': 'Open',\n",
    "                '2a. high (USD)': 'High',\n",
    "                '3a. low (USD)': 'Low',\n",
    "                '4a. close (USD)': 'Close',\n",
    "                '5. volume': 'Volume'\n",
    "            })\n",
    "            df.index = pd.to_datetime(df.index)\n",
    "            df.reset_index(inplace=True)\n",
    "            df = df.rename(columns={'index': 'Date'})\n",
    "            return df\n",
    "        else:\n",
    "            print(f\"No 'Time Series (Digital Currency Daily)' data found for {symbol}\")\n",
    "            return None\n",
    "    except requests.exceptions.RequestException as e:\n",
    "        print(f\"API request failed: {e}\")\n",
    "        return None\n"
   ]
  },
  {
   "cell_type": "code",
   "execution_count": 4,
   "metadata": {
    "execution": {
     "iopub.execute_input": "2024-07-11T23:56:28.763575Z",
     "iopub.status.busy": "2024-07-11T23:56:28.763485Z",
     "iopub.status.idle": "2024-07-11T23:56:28.765562Z",
     "shell.execute_reply": "2024-07-11T23:56:28.765373Z"
    }
   },
   "outputs": [],
   "source": [
    "# Cell 4: Function to fetch data from Coinbase\n",
    "def fetch_coinbase_data(currency_pair):\n",
    "    base_url = f\"https://api.coinbase.com/v2/prices/{currency_pair}/spot\"\n",
    "    try:\n",
    "        response = requests.get(base_url)\n",
    "        response.raise_for_status()\n",
    "        data = response.json()\n",
    "        if 'data' in data and 'amount' in data['data']:\n",
    "            df = pd.DataFrame([data['data']])\n",
    "            df['Date'] = pd.to_datetime('now')\n",
    "            df = df.rename(columns={'amount': 'Close'})\n",
    "            df['Close'] = df['Close'].astype(float)\n",
    "            return df[['Date', 'Close']]\n",
    "        else:\n",
    "            print(f\"No 'amount' data found for {currency_pair} in Coinbase response\")\n",
    "            return None\n",
    "    except requests.exceptions.RequestException as e:\n",
    "        print(f\"API request failed: {e}\")\n",
    "        return None\n"
   ]
  },
  {
   "cell_type": "code",
   "execution_count": 5,
   "metadata": {
    "execution": {
     "iopub.execute_input": "2024-07-11T23:56:28.766718Z",
     "iopub.status.busy": "2024-07-11T23:56:28.766640Z",
     "iopub.status.idle": "2024-07-11T23:56:28.769047Z",
     "shell.execute_reply": "2024-07-11T23:56:28.768849Z"
    }
   },
   "outputs": [],
   "source": [
    "# Cell 5: Function to fetch data from CryptoCompare\n",
    "def fetch_cryptocompare_data(symbol, start_date, end_date):\n",
    "    base_url = f\"https://min-api.cryptocompare.com/data/v2/histoday\"\n",
    "    params = {\n",
    "        \"fsym\": symbol,\n",
    "        \"tsym\": \"USD\",\n",
    "        \"toTs\": int(pd.Timestamp(end_date).timestamp()),\n",
    "        \"limit\": 2000,  # CryptoCompare allows fetching up to 2000 days in one call\n",
    "        \"api_key\": CRYPTOCOMPARE_API_KEY\n",
    "    }\n",
    "    try:\n",
    "        response = requests.get(base_url, params=params)\n",
    "        response.raise_for_status()\n",
    "        data = response.json()\n",
    "        if 'Data' in data and 'Data' in data['Data']:\n",
    "            data = data['Data']['Data']\n",
    "            df = pd.DataFrame(data)\n",
    "            df['Date'] = pd.to_datetime(df['time'], unit='s')\n",
    "            df = df.rename(columns={'open': 'Open', 'high': 'High', 'low': 'Low', 'close': 'Close', 'volumeto': 'Volume'})\n",
    "            df = df[['Date', 'Open', 'High', 'Low', 'Close', 'Volume']]\n",
    "            return df\n",
    "        else:\n",
    "            print(f\"No data available for {symbol} from CryptoCompare\")\n",
    "            return None\n",
    "    except requests.exceptions.RequestException as e:\n",
    "        print(f\"API request failed: {e}\")\n",
    "        return None\n"
   ]
  },
  {
   "cell_type": "code",
   "execution_count": 6,
   "metadata": {
    "execution": {
     "iopub.execute_input": "2024-07-11T23:56:28.770087Z",
     "iopub.status.busy": "2024-07-11T23:56:28.770022Z",
     "iopub.status.idle": "2024-07-11T23:56:28.771538Z",
     "shell.execute_reply": "2024-07-11T23:56:28.771337Z"
    }
   },
   "outputs": [],
   "source": [
    "# Cell 6: Function to save data to a CSV file\n",
    "def save_data_to_csv(data, filename):\n",
    "    if data is not None and not data.empty:\n",
    "        data.to_csv(filename, index=False)\n",
    "        print(f\"Data saved to {filename}\")\n",
    "    else:\n",
    "        print(f\"No data to save for {filename}\")\n"
   ]
  },
  {
   "cell_type": "code",
   "execution_count": 7,
   "metadata": {
    "execution": {
     "iopub.execute_input": "2024-07-11T23:56:28.772563Z",
     "iopub.status.busy": "2024-07-11T23:56:28.772488Z",
     "iopub.status.idle": "2024-07-11T23:56:28.774303Z",
     "shell.execute_reply": "2024-07-11T23:56:28.774102Z"
    }
   },
   "outputs": [],
   "source": [
    "# Cell 7: Load manually downloaded data\n",
    "def load_manual_data():\n",
    "    manual_data = {}\n",
    "    cryptos = [\"BTC\", \"ETH\", \"SOL\"]\n",
    "    for crypto in cryptos:\n",
    "        try:\n",
    "            data = pd.read_csv(f'../data/historical_data/{crypto}-USD.csv', parse_dates=['Date'])\n",
    "            data.rename(columns={'Date': 'Date'}, inplace=True)\n",
    "            manual_data[crypto] = data\n",
    "            print(f\"Manual data loaded for {crypto}\")\n",
    "        except Exception as e:\n",
    "            print(f\"Error loading manually downloaded data for {crypto}: {e}\")\n",
    "    return manual_data\n"
   ]
  },
  {
   "cell_type": "code",
   "execution_count": 8,
   "metadata": {
    "execution": {
     "iopub.execute_input": "2024-07-11T23:56:28.775389Z",
     "iopub.status.busy": "2024-07-11T23:56:28.775253Z",
     "iopub.status.idle": "2024-07-11T23:56:28.777607Z",
     "shell.execute_reply": "2024-07-11T23:56:28.777416Z"
    }
   },
   "outputs": [],
   "source": [
    "# Cell 8: Fetch data from APIs\n",
    "def fetch_api_data():\n",
    "    api_data = {}\n",
    "    cryptos = [\"BTC\", \"ETH\", \"SOL\"]\n",
    "    for crypto in cryptos:\n",
    "        # Fetch data from Alpha Vantage\n",
    "        alpha_vantage_data = fetch_alpha_vantage_data(crypto)\n",
    "        if isinstance(alpha_vantage_data, pd.DataFrame):\n",
    "            save_data_to_csv(alpha_vantage_data, f'../data/historical_data/alpha_vantage/{crypto}_alpha_vantage.csv')\n",
    "            api_data[f\"{crypto}_alpha_vantage\"] = alpha_vantage_data\n",
    "        \n",
    "        # Fetch data from Coinbase\n",
    "        coinbase_data = fetch_coinbase_data(f\"{crypto}-USD\")\n",
    "        if isinstance(coinbase_data, pd.DataFrame):\n",
    "            save_data_to_csv(coinbase_data, f'../data/historical_data/coinbase/{crypto}_coinbase.csv')\n",
    "            api_data[f\"{crypto}_coinbase\"] = coinbase_data\n",
    "        \n",
    "        # Fetch data from CryptoCompare\n",
    "        for year in range(2018, 2024):\n",
    "            start_date = f\"{year}-01-01\"\n",
    "            end_date = f\"{year}-12-31\"\n",
    "            cryptocompare_data = fetch_cryptocompare_data(crypto, start_date, end_date)\n",
    "            if isinstance(cryptocompare_data, pd.DataFrame):\n",
    "                save_data_to_csv(cryptocompare_data, f'../data/historical_data/cryptocompare/{crypto}_cryptocompare_{year}.csv')\n",
    "                api_data[f\"{crypto}_cryptocompare_{year}\"] = cryptocompare_data\n",
    "    \n",
    "    return api_data\n"
   ]
  },
  {
   "cell_type": "code",
   "execution_count": 9,
   "metadata": {
    "execution": {
     "iopub.execute_input": "2024-07-11T23:56:28.778706Z",
     "iopub.status.busy": "2024-07-11T23:56:28.778609Z",
     "iopub.status.idle": "2024-07-11T23:56:28.780792Z",
     "shell.execute_reply": "2024-07-11T23:56:28.780582Z"
    }
   },
   "outputs": [],
   "source": [
    "# Cell 9: Combine data from all sources\n",
    "def combine_data_sources(api_data, manual_data):\n",
    "    combined_data = {}\n",
    "    cryptos = [\"BTC\", \"ETH\", \"SOL\"]\n",
    "    for crypto in cryptos:\n",
    "        combined_df = pd.DataFrame()\n",
    "        for source in ['alpha_vantage', 'coinbase', 'cryptocompare']:\n",
    "            for key, df in api_data.items():\n",
    "                if key.startswith(f\"{crypto}_{source}\"):\n",
    "                    combined_df = pd.concat([combined_df, df], ignore_index=True)\n",
    "        if crypto in manual_data:\n",
    "            df_manual = manual_data[crypto]\n",
    "            combined_df = pd.concat([combined_df, df_manual], ignore_index=True)\n",
    "        \n",
    "        combined_df = combined_df.sort_values('Date').drop_duplicates(subset='Date').reset_index(drop=True)\n",
    "        combined_data[crypto] = combined_df\n",
    "    return combined_data\n"
   ]
  },
  {
   "cell_type": "code",
   "execution_count": 10,
   "metadata": {
    "execution": {
     "iopub.execute_input": "2024-07-11T23:56:28.781843Z",
     "iopub.status.busy": "2024-07-11T23:56:28.781771Z",
     "iopub.status.idle": "2024-07-11T23:56:28.783291Z",
     "shell.execute_reply": "2024-07-11T23:56:28.783098Z"
    }
   },
   "outputs": [],
   "source": [
    "# Cell 10: Save combined data to CSV\n",
    "def save_combined_data(combined_data):\n",
    "    for crypto, df in combined_data.items():\n",
    "        df = df[['Date', 'Open', 'High', 'Low', 'Close', 'Volume']]\n",
    "        file_path = f'../data/cleaned_data/{crypto}_cleaned.csv'\n",
    "        df.to_csv(file_path, index=False)\n",
    "        print(f\"Combined data saved to {file_path}\")\n"
   ]
  },
  {
   "cell_type": "code",
   "execution_count": 11,
   "metadata": {
    "execution": {
     "iopub.execute_input": "2024-07-11T23:56:28.784268Z",
     "iopub.status.busy": "2024-07-11T23:56:28.784201Z",
     "iopub.status.idle": "2024-07-11T23:57:12.545787Z",
     "shell.execute_reply": "2024-07-11T23:57:12.545545Z"
    }
   },
   "outputs": [
    {
     "name": "stdout",
     "output_type": "stream",
     "text": [
      "Fetching API data...\n",
      "No 'Time Series (Digital Currency Daily)' data found for BTC\n"
     ]
    },
    {
     "name": "stderr",
     "output_type": "stream",
     "text": [
      "/var/folders/wq/yrwdfvsn52l4zzjxfytvq8300000gn/T/ipykernel_7824/2033784587.py:10: FutureWarning: The parsing of 'now' in pd.to_datetime without `utc=True` is deprecated. In a future version, this will match Timestamp('now') and Timestamp.now()\n",
      "  df['Date'] = pd.to_datetime('now')\n"
     ]
    },
    {
     "name": "stdout",
     "output_type": "stream",
     "text": [
      "Data saved to ../data/historical_data/coinbase/BTC_coinbase.csv\n",
      "Data saved to ../data/historical_data/cryptocompare/BTC_cryptocompare_2018.csv\n",
      "Data saved to ../data/historical_data/cryptocompare/BTC_cryptocompare_2019.csv\n",
      "Data saved to ../data/historical_data/cryptocompare/BTC_cryptocompare_2020.csv\n",
      "Data saved to ../data/historical_data/cryptocompare/BTC_cryptocompare_2021.csv\n",
      "Data saved to ../data/historical_data/cryptocompare/BTC_cryptocompare_2022.csv\n",
      "Data saved to ../data/historical_data/cryptocompare/BTC_cryptocompare_2023.csv\n",
      "No 'Time Series (Digital Currency Daily)' data found for ETH\n"
     ]
    },
    {
     "name": "stderr",
     "output_type": "stream",
     "text": [
      "/var/folders/wq/yrwdfvsn52l4zzjxfytvq8300000gn/T/ipykernel_7824/2033784587.py:10: FutureWarning: The parsing of 'now' in pd.to_datetime without `utc=True` is deprecated. In a future version, this will match Timestamp('now') and Timestamp.now()\n",
      "  df['Date'] = pd.to_datetime('now')\n"
     ]
    },
    {
     "name": "stdout",
     "output_type": "stream",
     "text": [
      "Data saved to ../data/historical_data/coinbase/ETH_coinbase.csv\n",
      "Data saved to ../data/historical_data/cryptocompare/ETH_cryptocompare_2018.csv\n",
      "Data saved to ../data/historical_data/cryptocompare/ETH_cryptocompare_2019.csv\n",
      "Data saved to ../data/historical_data/cryptocompare/ETH_cryptocompare_2020.csv\n",
      "Data saved to ../data/historical_data/cryptocompare/ETH_cryptocompare_2021.csv\n",
      "Data saved to ../data/historical_data/cryptocompare/ETH_cryptocompare_2022.csv\n",
      "Data saved to ../data/historical_data/cryptocompare/ETH_cryptocompare_2023.csv\n",
      "No 'Time Series (Digital Currency Daily)' data found for SOL\n"
     ]
    },
    {
     "name": "stderr",
     "output_type": "stream",
     "text": [
      "/var/folders/wq/yrwdfvsn52l4zzjxfytvq8300000gn/T/ipykernel_7824/2033784587.py:10: FutureWarning: The parsing of 'now' in pd.to_datetime without `utc=True` is deprecated. In a future version, this will match Timestamp('now') and Timestamp.now()\n",
      "  df['Date'] = pd.to_datetime('now')\n"
     ]
    },
    {
     "name": "stdout",
     "output_type": "stream",
     "text": [
      "Data saved to ../data/historical_data/coinbase/SOL_coinbase.csv\n",
      "Data saved to ../data/historical_data/cryptocompare/SOL_cryptocompare_2018.csv\n",
      "Data saved to ../data/historical_data/cryptocompare/SOL_cryptocompare_2019.csv\n",
      "Data saved to ../data/historical_data/cryptocompare/SOL_cryptocompare_2020.csv\n",
      "Data saved to ../data/historical_data/cryptocompare/SOL_cryptocompare_2021.csv\n",
      "Data saved to ../data/historical_data/cryptocompare/SOL_cryptocompare_2022.csv\n",
      "Data saved to ../data/historical_data/cryptocompare/SOL_cryptocompare_2023.csv\n",
      "Loading manual data...\n",
      "Manual data loaded for BTC\n",
      "Manual data loaded for ETH\n",
      "Manual data loaded for SOL\n",
      "Combining data sources...\n",
      "Saving combined data...\n",
      "Combined data saved to ../data/cleaned_data/BTC_cleaned.csv\n",
      "Combined data saved to ../data/cleaned_data/ETH_cleaned.csv\n",
      "Combined data saved to ../data/cleaned_data/SOL_cleaned.csv\n",
      "Data preparation complete.\n"
     ]
    }
   ],
   "source": [
    "# Cell 11: Execute the data preparation steps\n",
    "print(\"Fetching API data...\")\n",
    "api_data = fetch_api_data()\n",
    "\n",
    "print(\"Loading manual data...\")\n",
    "manual_data = load_manual_data()\n",
    "\n",
    "print(\"Combining data sources...\")\n",
    "combined_data = combine_data_sources(api_data, manual_data)\n",
    "\n",
    "print(\"Saving combined data...\")\n",
    "save_combined_data(combined_data)\n",
    "\n",
    "print(\"Data preparation complete.\")\n"
   ]
  },
  {
   "cell_type": "code",
   "execution_count": null,
   "metadata": {},
   "outputs": [],
   "source": []
  }
 ],
 "metadata": {
  "kernelspec": {
   "display_name": "Python (base)",
   "language": "python",
   "name": "base"
  },
  "language_info": {
   "codemirror_mode": {
    "name": "ipython",
    "version": 3
   },
   "file_extension": ".py",
   "mimetype": "text/x-python",
   "name": "python",
   "nbconvert_exporter": "python",
   "pygments_lexer": "ipython3",
   "version": "3.11.7"
  }
 },
 "nbformat": 4,
 "nbformat_minor": 2
}
