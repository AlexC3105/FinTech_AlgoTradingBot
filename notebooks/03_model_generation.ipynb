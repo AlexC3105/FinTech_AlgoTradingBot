{
 "cells": [
  {
   "cell_type": "markdown",
   "metadata": {},
   "source": [
    "# 03_model_generation.ipynb\n",
    "\n",
    "## Notebook Purpose\n",
    "This notebook is designed to develop and train machine learning models using the preprocessed cryptocurrency data. The trained models will be used for making predictions in subsequent notebooks.\n",
    "\n",
    "## Instructions\n",
    "1. **Import Necessary Libraries**:\n",
    "   - Import `pandas` for data manipulation.\n",
    "   - Import functions from `models.py` for training models.\n",
    "\n",
    "2. **Load Preprocessed Data**:\n",
    "   - Load the preprocessed CSV file created in the first notebook.\n",
    "\n",
    "3. **Train Machine Learning Models**:\n",
    "   - Use the `train_model` function to train a machine learning model (e.g., Random Forest) on the historical data.\n",
    "   - Split the data into training and testing sets.\n",
    "\n",
    "4. **Save the Trained Model**:\n",
    "   - Save the trained model to a file for later use in making predictions.\n",
    "\n",
    "5. **Evaluate Model Performance**:\n",
    "   - Evaluate the model's performance using appropriate metrics (e.g., R^2 score).\n",
    "\n",
    "## Example Code\n",
    "```python\n",
    "# Import necessary libraries\n",
    "import pandas as pd\n",
    "from scripts.models import train_model\n",
    "import joblib\n",
    "\n",
    "# Load preprocessed data\n",
    "data_path = 'data/historical_data/btc_usd_preprocessed.csv'  # Update this path based on the selected cryptocurrency\n",
    "data = pd.read_csv(data_path, parse_dates=['Date'], index_col='Date')\n",
    "\n",
    "# Train model\n",
    "model, X_test, y_test = train_model(data)\n",
    "\n",
    "# Save the model and test data\n",
    "joblib.dump(model, 'models/trained_model.pkl')\n",
    "X_test.to_csv('data/historical_data/X_test.csv')\n",
    "y_test.to_csv('data/historical_data/y_test.csv')\n",
    "\n",
    "# Display model performance\n",
    "print(f\"Model trained. R^2 score on training data: {model.score(X_test, y_test)}\")\n"
   ]
  },
  {
   "cell_type": "code",
   "execution_count": null,
   "metadata": {},
   "outputs": [],
   "source": [
    "# Import necessary libraries and verify\n",
    "try:\n",
    "    import pandas as pd\n",
    "    from sklearn.model_selection import train_test_split\n",
    "    from sklearn.ensemble import RandomForestRegressor\n",
    "    from sklearn.metrics import mean_squared_error, r2_score\n",
    "    import joblib\n",
    "    import os\n",
    "    print(\"Libraries imported successfully.\")\n",
    "except ImportError as e:\n",
    "    print(f\"Error importing libraries: {e}\")\n"
   ]
  },
  {
   "cell_type": "code",
   "execution_count": null,
   "metadata": {},
   "outputs": [],
   "source": [
    "# Load preprocessed data\n",
    "def load_data(data_path):\n",
    "    try:\n",
    "        data = pd.read_csv(data_path, parse_dates=['time'], index_col='time')\n",
    "        print(f\"Data loaded successfully from {data_path}.\")\n",
    "        return data\n",
    "    except FileNotFoundError as e:\n",
    "        print(f\"Error loading data: {e}\")\n",
    "        return None\n",
    "\n",
    "data_path = 'data/cleaned_data/BTC_cleaned.csv'  # Update this path based on the selected cryptocurrency\n",
    "data = load_data(data_path)\n",
    "\n",
    "if data is not None:\n",
    "    display(data.head())\n"
   ]
  },
  {
   "cell_type": "code",
   "execution_count": null,
   "metadata": {},
   "outputs": [],
   "source": [
    "# Prepare features and target variable\n",
    "def prepare_features_target(data):\n",
    "    data = data.copy()\n",
    "    data['returns'] = data['close'].pct_change()\n",
    "    data.dropna(inplace=True)\n",
    "    \n",
    "    X = data.drop(columns=['close', 'returns'])\n",
    "    y = data['returns']\n",
    "    \n",
    "    return X, y\n",
    "\n",
    "if data is not None:\n",
    "    X, y = prepare_features_target(data)\n",
    "    print(f\"Features and target variable prepared. X shape: {X.shape}, y shape: {y.shape}\")\n"
   ]
  },
  {
   "cell_type": "code",
   "execution_count": null,
   "metadata": {},
   "outputs": [],
   "source": [
    "# Split data into training and testing sets\n",
    "def split_data(X, y):\n",
    "    X_train, X_test, y_train, y_test = train_test_split(X, y, test_size=0.2, random_state=42)\n",
    "    return X_train, X_test, y_train, y_test\n",
    "\n",
    "if data is not None:\n",
    "    X_train, X_test, y_train, y_test = split_data(X, y)\n",
    "    print(f\"Data split into training and testing sets. X_train shape: {X_train.shape}, X_test shape: {X_test.shape}\")\n"
   ]
  },
  {
   "cell_type": "code",
   "execution_count": null,
   "metadata": {},
   "outputs": [],
   "source": [
    "# Train the machine learning model\n",
    "def train_model(X_train, y_train):\n",
    "    model = RandomForestRegressor(n_estimators=100, random_state=42)\n",
    "    model.fit(X_train, y_train)\n",
    "    return model\n",
    "\n",
    "if data is not None:\n",
    "    model = train_model(X_train, y_train)\n",
    "    print(\"Model trained successfully.\")\n"
   ]
  },
  {
   "cell_type": "code",
   "execution_count": null,
   "metadata": {},
   "outputs": [],
   "source": [
    "# Evaluate model performance\n",
    "def evaluate_model(model, X_test, y_test):\n",
    "    y_pred = model.predict(X_test)\n",
    "    mse = mean_squared_error(y_test, y_pred)\n",
    "    r2 = r2_score(y_test, y_pred)\n",
    "    print(f\"Model evaluation - MSE: {mse}, R2: {r2}\")\n",
    "    return mse, r2\n",
    "\n",
    "if data is not None:\n",
    "    mse, r2 = evaluate_model(model, X_test, y_test)\n"
   ]
  },
  {
   "cell_type": "code",
   "execution_count": null,
   "metadata": {},
   "outputs": [],
   "source": [
    "# Save the trained model and test data\n",
    "def save_model_data(model, X_test, y_test, model_path, X_test_path, y_test_path):\n",
    "    joblib.dump(model, model_path)\n",
    "    X_test.to_csv(X_test_path)\n",
    "    y_test.to_csv(y_test_path)\n",
    "    print(f\"Model and test data saved to {model_path}, {X_test_path}, {y_test_path}\")\n",
    "\n",
    "if data is not None:\n",
    "    model_path = 'models/trained_model.pkl'\n",
    "    X_test_path = 'data/historical_data/X_test.csv'\n",
    "    y_test_path = 'data/historical_data/y_test.csv'\n",
    "    \n",
    "    save_model_data(model, X_test, y_test, model_path, X_test_path, y_test_path)\n"
   ]
  },
  {
   "cell_type": "code",
   "execution_count": null,
   "metadata": {},
   "outputs": [],
   "source": [
    "# Display model performance\n",
    "if data is not None:\n",
    "    print(f\"Model trained. R^2 score on test data: {r2}\")\n"
   ]
  },
  {
   "cell_type": "code",
   "execution_count": null,
   "metadata": {},
   "outputs": [],
   "source": []
  }
 ],
 "metadata": {
  "kernelspec": {
   "display_name": "Python (base)",
   "language": "python",
   "name": "base"
  },
  "language_info": {
   "name": "python",
   "version": "3.11.7"
  }
 },
 "nbformat": 4,
 "nbformat_minor": 2
}
