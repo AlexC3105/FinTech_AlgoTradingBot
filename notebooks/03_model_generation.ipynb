{
 "cells": [
  {
   "cell_type": "markdown",
   "metadata": {},
   "source": [
    "\n",
    "### 03_model_generation.ipynb\n",
    "```markdown\n",
    "# 03_model_generation.ipynb\n",
    "\n",
    "## Notebook Purpose\n",
    "This notebook is designed to develop and train machine learning models using the preprocessed cryptocurrency data. The trained models will be used for making predictions in subsequent notebooks.\n",
    "\n",
    "## Instructions\n",
    "1. **Import Necessary Libraries**:\n",
    "   - Import `pandas` for data manipulation.\n",
    "   - Import functions from `models.py` for training models.\n",
    "\n",
    "2. **Load Preprocessed Data**:\n",
    "   - Load the preprocessed CSV file created in the first notebook.\n",
    "\n",
    "3. **Train Machine Learning Models**:\n",
    "   - Use the `train_model` function to train a machine learning model (e.g., Random Forest) on the historical data.\n",
    "   - Split the data into training and testing sets.\n",
    "\n",
    "4. **Save the Trained Model**:\n",
    "   - Save the trained model to a file for later use in making predictions.\n",
    "\n",
    "5. **Evaluate Model Performance**:\n",
    "   - Evaluate the model's performance using appropriate metrics (e.g., R^2 score).\n",
    "\n",
    "## Example Code\n",
    "```python\n",
    "# Import necessary libraries\n",
    "import pandas as pd\n",
    "from scripts.models import train_model\n",
    "import joblib\n",
    "\n",
    "# Load preprocessed data\n",
    "data_path = 'data/historical_data/btc_usd_preprocessed.csv'  # Update this path based on the selected cryptocurrency\n",
    "data = pd.read_csv(data_path, parse_dates=['Date'], index_col='Date')\n",
    "\n",
    "# Train model\n",
    "model, X_test, y_test = train_model(data)\n",
    "\n",
    "# Save the model and test data\n",
    "joblib.dump(model, 'models/trained_model.pkl')\n",
    "X_test.to_csv('data/historical_data/X_test.csv')\n",
    "y_test.to_csv('data/historical_data/y_test.csv')\n",
    "\n",
    "# Display model performance\n",
    "print(f\"Model trained. R^2 score on training data: {model.score(X_test, y_test)}\")\n"
   ]
  },
  {
   "cell_type": "code",
   "execution_count": 1,
   "metadata": {},
   "outputs": [
    {
     "name": "stdout",
     "output_type": "stream",
     "text": [
      "Libraries imported successfully.\n"
     ]
    }
   ],
   "source": [
    "# Cell 1: Import Necessary Libraries\n",
    "try:\n",
    "    import pandas as pd\n",
    "    import numpy as np\n",
    "    from sklearn.model_selection import train_test_split\n",
    "    from sklearn.ensemble import RandomForestRegressor\n",
    "    from sklearn.metrics import mean_squared_error, r2_score\n",
    "    import joblib  # For saving the model\n",
    "    import matplotlib.pyplot as plt\n",
    "    import seaborn as sns\n",
    "    print(\"Libraries imported successfully.\")\n",
    "except ImportError as e:\n",
    "    print(f\"Error importing libraries: {e.name}\")\n"
   ]
  },
  {
   "cell_type": "code",
   "execution_count": 16,
   "metadata": {},
   "outputs": [
    {
     "name": "stdout",
     "output_type": "stream",
     "text": [
      "Columns in BTC data: ['date', 'open', 'high', 'low', 'close', 'volume', 'price', 'bad_data']\n",
      "         date   open    high    low  close      volume      price  bad_data\n",
      "0  2013-07-10  76.70   89.84  75.53  88.00  4916740.89  60910.985     False\n",
      "1  2013-07-11  88.00   90.70  85.00  88.98  3084484.64  60910.985     False\n",
      "2  2013-07-12  88.98  104.17  88.00  93.99  9759561.48  60910.985     False\n",
      "3  2013-07-13  93.99   98.32  87.76  98.32  3186590.74  60910.985     False\n",
      "4  2013-07-14  98.32   99.00  92.86  94.42  1171458.48  60910.985     False\n",
      "First few rows of BTC data:\n",
      "          date   open    high    low  close      volume      price  bad_data\n",
      "0  2013-07-10  76.70   89.84  75.53  88.00  4916740.89  60910.985     False\n",
      "1  2013-07-11  88.00   90.70  85.00  88.98  3084484.64  60910.985     False\n",
      "2  2013-07-12  88.98  104.17  88.00  93.99  9759561.48  60910.985     False\n",
      "3  2013-07-13  93.99   98.32  87.76  98.32  3186590.74  60910.985     False\n",
      "4  2013-07-14  98.32   99.00  92.86  94.42  1171458.48  60910.985     False\n",
      "Data loaded successfully from ../data/cleaned_data/BTC_cleaned.csv.\n",
      "Columns in ETH data: ['date', 'open', 'high', 'low', 'close', 'volume', 'price', 'bad_data']\n",
      "         date    open     high     low   close     volume    price  bad_data\n",
      "0  2013-07-10  0.0000   0.0000  0.0000  0.0000       0.00  3379.98     False\n",
      "1  2015-08-07  0.7812  27.7900  0.7809  2.7730  148608.32  3379.98     False\n",
      "2  2015-08-08  2.7730   2.5810  0.5958  0.8076  583543.48  3379.98     False\n",
      "3  2015-08-09  0.8076   0.9581  0.6043  0.7428  547528.03  3379.98     False\n",
      "4  2015-08-10  0.7428   0.7628  0.5990  0.6846  401107.09  3379.98     False\n",
      "First few rows of ETH data:\n",
      "          date    open     high     low   close     volume    price  bad_data\n",
      "0  2013-07-10  0.0000   0.0000  0.0000  0.0000       0.00  3379.98     False\n",
      "1  2015-08-07  0.7812  27.7900  0.7809  2.7730  148608.32  3379.98     False\n",
      "2  2015-08-08  2.7730   2.5810  0.5958  0.8076  583543.48  3379.98     False\n",
      "3  2015-08-09  0.8076   0.9581  0.6043  0.7428  547528.03  3379.98     False\n",
      "4  2015-08-10  0.7428   0.7628  0.5990  0.6846  401107.09  3379.98     False\n",
      "Data loaded successfully from ../data/cleaned_data/ETH_cleaned.csv.\n",
      "Columns in SOL data: ['date', 'open', 'high', 'low', 'close', 'volume', 'price', 'bad_data']\n",
      "         date    open    high     low   close      volume    price  bad_data\n",
      "0  2013-07-10  0.0000  0.0000  0.0000  0.0000        0.00  141.675     False\n",
      "1  2020-04-10  0.8198  1.3300  0.7289  0.9496  2635148.84  141.675     False\n",
      "2  2020-04-11  0.9496  1.0510  0.7689  0.7973  1429348.17  141.675     False\n",
      "3  2020-04-12  0.7973  0.9403  0.7797  0.8830   915618.65  141.675     False\n",
      "4  2020-04-13  0.8830  0.9301  0.7755  0.7772   369573.05  141.675     False\n",
      "First few rows of SOL data:\n",
      "          date    open    high     low   close      volume    price  bad_data\n",
      "0  2013-07-10  0.0000  0.0000  0.0000  0.0000        0.00  141.675     False\n",
      "1  2020-04-10  0.8198  1.3300  0.7289  0.9496  2635148.84  141.675     False\n",
      "2  2020-04-11  0.9496  1.0510  0.7689  0.7973  1429348.17  141.675     False\n",
      "3  2020-04-12  0.7973  0.9403  0.7797  0.8830   915618.65  141.675     False\n",
      "4  2020-04-13  0.8830  0.9301  0.7755  0.7772   369573.05  141.675     False\n",
      "Data loaded successfully from ../data/cleaned_data/SOL_cleaned.csv.\n",
      "All data loaded successfully.\n"
     ]
    }
   ],
   "source": [
    "# Cell 2: Load Preprocessed Data for BTC, ETH, and SOL\n",
    "cryptos = ['BTC', 'ETH', 'SOL']\n",
    "crypto_data = {}\n",
    "\n",
    "for crypto in cryptos:\n",
    "    data_path = f'../data/cleaned_data/{crypto}_cleaned.csv'\n",
    "    try:\n",
    "        data = pd.read_csv(data_path)\n",
    "        print(f\"Columns in {crypto} data: {data.columns.tolist()}\")\n",
    "        print(data.head())  # Show the first few rows to understand the structure\n",
    "        \n",
    "        # Print the column names and first few rows to debug\n",
    "        print(f\"First few rows of {crypto} data:\\n\", data.head())\n",
    "        \n",
    "        if 'Date' in data.columns:\n",
    "            data['Date'] = pd.to_datetime(data['Date'])\n",
    "            data.set_index('Date', inplace=True)\n",
    "        elif 'date' in data.columns:  # Handle the lowercase 'date' column\n",
    "            data['date'] = pd.to_datetime(data['date'])\n",
    "            data.set_index('date', inplace=True)\n",
    "        elif 'time' in data.columns:\n",
    "            data['time'] = pd.to_datetime(data['time'])\n",
    "            data.set_index('time', inplace=True)\n",
    "        elif 'Time' in data.columns:\n",
    "            data['Time'] = pd.to_datetime(data['Time'])\n",
    "            data.set_index('Time', inplace=True)\n",
    "        else:\n",
    "            raise ValueError(f\"No date column found in {crypto} data\")\n",
    "        crypto_data[crypto] = data\n",
    "        print(f\"Data loaded successfully from {data_path}.\")\n",
    "    except FileNotFoundError as e:\n",
    "        print(f\"Error loading data for {crypto}: {e}\")\n",
    "\n",
    "print(\"All data loaded successfully.\")\n"
   ]
  },
  {
   "cell_type": "code",
   "execution_count": 18,
   "metadata": {},
   "outputs": [
    {
     "name": "stdout",
     "output_type": "stream",
     "text": [
      "Columns in BTC data before feature creation: ['open', 'high', 'low', 'close', 'volume', 'price', 'bad_data']\n",
      "Features created successfully for BTC.\n",
      "Columns in BTC data after feature creation: ['open', 'high', 'low', 'close', 'volume', 'price', 'bad_data', 'Close', 'SMA_20', 'SMA_50', 'EMA_20', 'EMA_50', 'Return', 'Volatility']\n",
      "Columns in ETH data before feature creation: ['open', 'high', 'low', 'close', 'volume', 'price', 'bad_data']\n",
      "Features created successfully for ETH.\n",
      "Columns in ETH data after feature creation: ['open', 'high', 'low', 'close', 'volume', 'price', 'bad_data', 'Close', 'SMA_20', 'SMA_50', 'EMA_20', 'EMA_50', 'Return', 'Volatility']\n",
      "Columns in SOL data before feature creation: ['open', 'high', 'low', 'close', 'volume', 'price', 'bad_data']\n",
      "Features created successfully for SOL.\n",
      "Columns in SOL data after feature creation: ['open', 'high', 'low', 'close', 'volume', 'price', 'bad_data', 'Close', 'SMA_20', 'SMA_50', 'EMA_20', 'EMA_50', 'Return', 'Volatility']\n"
     ]
    }
   ],
   "source": [
    "# Cell 3: Create Features for the Model\n",
    "def create_features(df):\n",
    "    if 'close' in df.columns:\n",
    "        df['Close'] = df['close']  # If the column is lowercase, rename it to uppercase\n",
    "    elif 'price' in df.columns:\n",
    "        df['Close'] = df['price']  # If the column is 'price', rename it to 'Close'\n",
    "    else:\n",
    "        raise KeyError(\"No 'Close' or 'price' column found in the data.\")\n",
    "    \n",
    "    df['SMA_20'] = df['Close'].rolling(window=20).mean()\n",
    "    df['SMA_50'] = df['Close'].rolling(window=50).mean()\n",
    "    df['EMA_20'] = df['Close'].ewm(span=20, adjust=False).mean()\n",
    "    df['EMA_50'] = df['Close'].ewm(span=50, adjust=False).mean()\n",
    "    df['Return'] = df['Close'].pct_change()\n",
    "    df['Volatility'] = df['Return'].rolling(window=20).std()\n",
    "    df = df.dropna()\n",
    "    return df\n",
    "\n",
    "for crypto, data in crypto_data.items():\n",
    "    print(f\"Columns in {crypto} data before feature creation: {data.columns.tolist()}\")\n",
    "    crypto_data[crypto] = create_features(data)\n",
    "    print(f\"Features created successfully for {crypto}.\")\n",
    "    print(f\"Columns in {crypto} data after feature creation: {crypto_data[crypto].columns.tolist()}\")\n"
   ]
  },
  {
   "cell_type": "code",
   "execution_count": 19,
   "metadata": {},
   "outputs": [
    {
     "name": "stdout",
     "output_type": "stream",
     "text": [
      "Data split into training and testing sets for BTC.\n",
      "Training data shape: (3262, 13), Testing data shape: (816, 13)\n",
      "Data split into training and testing sets for ETH.\n",
      "Training data shape: (2656, 13), Testing data shape: (665, 13)\n",
      "Data split into training and testing sets for SOL.\n",
      "Training data shape: (1478, 13), Testing data shape: (370, 13)\n"
     ]
    }
   ],
   "source": [
    "# Cell 4: Split Data into Training and Testing Sets\n",
    "from sklearn.model_selection import train_test_split\n",
    "\n",
    "train_data = {}\n",
    "test_data = {}\n",
    "\n",
    "for crypto, data in crypto_data.items():\n",
    "    X = data.drop(columns=['Close'])\n",
    "    y = data['Close']\n",
    "    X_train, X_test, y_train, y_test = train_test_split(X, y, test_size=0.2, shuffle=False)\n",
    "    train_data[crypto] = (X_train, y_train)\n",
    "    test_data[crypto] = (X_test, y_test)\n",
    "    print(f\"Data split into training and testing sets for {crypto}.\")\n",
    "    print(f\"Training data shape: {X_train.shape}, Testing data shape: {X_test.shape}\")\n"
   ]
  },
  {
   "cell_type": "code",
   "execution_count": 20,
   "metadata": {},
   "outputs": [
    {
     "name": "stdout",
     "output_type": "stream",
     "text": [
      "Random Forest model trained for BTC.\n",
      "Random Forest model trained for ETH.\n",
      "Random Forest model trained for SOL.\n"
     ]
    }
   ],
   "source": [
    "# Cell 5: Train the Random Forest Model\n",
    "from sklearn.ensemble import RandomForestRegressor\n",
    "\n",
    "models = {}\n",
    "\n",
    "for crypto, (X_train, y_train) in train_data.items():\n",
    "    model = RandomForestRegressor(n_estimators=100, random_state=42)\n",
    "    model.fit(X_train, y_train)\n",
    "    models[crypto] = model\n",
    "    print(f\"Random Forest model trained for {crypto}.\")\n"
   ]
  },
  {
   "cell_type": "code",
   "execution_count": 21,
   "metadata": {},
   "outputs": [
    {
     "name": "stdout",
     "output_type": "stream",
     "text": [
      "Evaluation results for BTC:\n",
      "Train MSE: 1187.5786553279734, Train R2: 0.9999953563300599\n",
      "Test MSE: 791181.9746404784, Test R2: 0.9967433037702443\n",
      "Evaluation results for ETH:\n",
      "Train MSE: 2.8359457335444063, Train R2: 0.9999977010159834\n",
      "Test MSE: 20.163046351264395, Test R2: 0.9999562896614471\n",
      "Evaluation results for SOL:\n",
      "Train MSE: 0.05530670301114794, Train R2: 0.9999805088346241\n",
      "Test MSE: 0.4823760262702612, Test R2: 0.9998230732869194\n"
     ]
    }
   ],
   "source": [
    "# Cell 6: Evaluate the Model\n",
    "from sklearn.metrics import mean_squared_error, r2_score\n",
    "\n",
    "evaluation_results = {}\n",
    "\n",
    "for crypto, model in models.items():\n",
    "    X_train, y_train = train_data[crypto]\n",
    "    X_test, y_test = test_data[crypto]\n",
    "    \n",
    "    y_train_pred = model.predict(X_train)\n",
    "    y_test_pred = model.predict(X_test)\n",
    "    \n",
    "    train_mse = mean_squared_error(y_train, y_train_pred)\n",
    "    train_r2 = r2_score(y_train, y_train_pred)\n",
    "    test_mse = mean_squared_error(y_test, y_test_pred)\n",
    "    test_r2 = r2_score(y_test, y_test_pred)\n",
    "    \n",
    "    evaluation_results[crypto] = {\n",
    "        'train_mse': train_mse,\n",
    "        'train_r2': train_r2,\n",
    "        'test_mse': test_mse,\n",
    "        'test_r2': test_r2\n",
    "    }\n",
    "    \n",
    "    print(f\"Evaluation results for {crypto}:\")\n",
    "    print(f\"Train MSE: {train_mse}, Train R2: {train_r2}\")\n",
    "    print(f\"Test MSE: {test_mse}, Test R2: {test_r2}\")\n"
   ]
  },
  {
   "cell_type": "code",
   "execution_count": 22,
   "metadata": {},
   "outputs": [
    {
     "name": "stdout",
     "output_type": "stream",
     "text": [
      "Model saved to ../models/BTC_random_forest_model.pkl.\n",
      "Model saved to ../models/ETH_random_forest_model.pkl.\n",
      "Model saved to ../models/SOL_random_forest_model.pkl.\n"
     ]
    }
   ],
   "source": [
    "# Cell 7: Save the Trained Model\n",
    "import joblib\n",
    "import os\n",
    "\n",
    "os.makedirs(\"../models\", exist_ok=True)\n",
    "\n",
    "for crypto, model in models.items():\n",
    "    model_path = f\"../models/{crypto}_random_forest_model.pkl\"\n",
    "    joblib.dump(model, model_path)\n",
    "    print(f\"Model saved to {model_path}.\")\n"
   ]
  },
  {
   "cell_type": "code",
   "execution_count": 23,
   "metadata": {},
   "outputs": [
    {
     "name": "stdout",
     "output_type": "stream",
     "text": [
      "Model Summary for BTC using Random Forest:\n",
      "Train MSE: 1187.5786553279734, Train R2: 0.9999953563300599\n",
      "Test MSE: 791181.9746404784, Test R2: 0.9967433037702443\n",
      "Model saved to ../models/BTC_random_forest_model.pkl\n",
      "Model Summary for ETH using Random Forest:\n",
      "Train MSE: 2.8359457335444063, Train R2: 0.9999977010159834\n",
      "Test MSE: 20.163046351264395, Test R2: 0.9999562896614471\n",
      "Model saved to ../models/ETH_random_forest_model.pkl\n",
      "Model Summary for SOL using Random Forest:\n",
      "Train MSE: 0.05530670301114794, Train R2: 0.9999805088346241\n",
      "Test MSE: 0.4823760262702612, Test R2: 0.9998230732869194\n",
      "Model saved to ../models/SOL_random_forest_model.pkl\n"
     ]
    }
   ],
   "source": [
    "# Cell 8: Summary of Model Training\n",
    "for crypto, results in evaluation_results.items():\n",
    "    print(f\"Model Summary for {crypto} using Random Forest:\")\n",
    "    print(f\"Train MSE: {results['train_mse']}, Train R2: {results['train_r2']}\")\n",
    "    print(f\"Test MSE: {results['test_mse']}, Test R2: {results['test_r2']}\")\n",
    "    print(f\"Model saved to ../models/{crypto}_random_forest_model.pkl\")\n"
   ]
  },
  {
   "cell_type": "code",
   "execution_count": null,
   "metadata": {},
   "outputs": [],
   "source": []
  },
  {
   "cell_type": "code",
   "execution_count": null,
   "metadata": {},
   "outputs": [],
   "source": []
  },
  {
   "cell_type": "code",
   "execution_count": null,
   "metadata": {},
   "outputs": [],
   "source": []
  }
 ],
 "metadata": {
  "kernelspec": {
   "display_name": "Python (base)",
   "language": "python",
   "name": "base"
  },
  "language_info": {
   "codemirror_mode": {
    "name": "ipython",
    "version": 3
   },
   "file_extension": ".py",
   "mimetype": "text/x-python",
   "name": "python",
   "nbconvert_exporter": "python",
   "pygments_lexer": "ipython3",
   "version": "3.11.7"
  }
 },
 "nbformat": 4,
 "nbformat_minor": 2
}
