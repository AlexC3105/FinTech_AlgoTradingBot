{
 "cells": [
  {
   "cell_type": "markdown",
   "metadata": {},
   "source": [
    "\n",
    "### 03_model_generation.ipynb\n",
    "```markdown\n",
    "# 03_model_generation.ipynb\n",
    "\n",
    "## Notebook Purpose\n",
    "This notebook is designed to develop and train machine learning models using the preprocessed cryptocurrency data. The trained models will be used for making predictions in subsequent notebooks.\n",
    "\n",
    "## Instructions\n",
    "1. **Import Necessary Libraries**:\n",
    "   - Import `pandas` for data manipulation.\n",
    "   - Import functions from `models.py` for training models.\n",
    "\n",
    "2. **Load Preprocessed Data**:\n",
    "   - Load the preprocessed CSV file created in the first notebook.\n",
    "\n",
    "3. **Train Machine Learning Models**:\n",
    "   - Use the `train_model` function to train a machine learning model (e.g., Random Forest) on the historical data.\n",
    "   - Split the data into training and testing sets.\n",
    "\n",
    "4. **Save the Trained Model**:\n",
    "   - Save the trained model to a file for later use in making predictions.\n",
    "\n",
    "5. **Evaluate Model Performance**:\n",
    "   - Evaluate the model's performance using appropriate metrics (e.g., R^2 score).\n",
    "\n",
    "## Example Code\n",
    "```python\n",
    "# Import necessary libraries\n",
    "import pandas as pd\n",
    "from scripts.models import train_model\n",
    "import joblib\n",
    "\n",
    "# Load preprocessed data\n",
    "data_path = 'data/historical_data/btc_usd_preprocessed.csv'  # Update this path based on the selected cryptocurrency\n",
    "data = pd.read_csv(data_path, parse_dates=['Date'], index_col='Date')\n",
    "\n",
    "# Train model\n",
    "model, X_test, y_test = train_model(data)\n",
    "\n",
    "# Save the model and test data\n",
    "joblib.dump(model, 'models/trained_model.pkl')\n",
    "X_test.to_csv('data/historical_data/X_test.csv')\n",
    "y_test.to_csv('data/historical_data/y_test.csv')\n",
    "\n",
    "# Display model performance\n",
    "print(f\"Model trained. R^2 score on training data: {model.score(X_test, y_test)}\")\n"
   ]
  },
  {
   "cell_type": "code",
   "execution_count": null,
   "metadata": {},
   "outputs": [],
   "source": []
  }
 ],
 "metadata": {
  "language_info": {
   "name": "python"
  }
 },
 "nbformat": 4,
 "nbformat_minor": 2
}
