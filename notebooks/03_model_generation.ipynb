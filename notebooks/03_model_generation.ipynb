{
 "cells": [
  {
   "cell_type": "markdown",
   "metadata": {},
   "source": [
    "# 03_model_generation.ipynb\n",
    "\n",
    "## Notebook Purpose\n",
    "This notebook is designed to develop and train machine learning models using the preprocessed cryptocurrency data. The trained models will be used for making predictions in subsequent notebooks.\n",
    "\n",
    "## Instructions\n",
    "1. **Import Necessary Libraries**:\n",
    "   - Import `pandas` for data manipulation.\n",
    "   - Import functions from `models.py` for training models.\n",
    "\n",
    "2. **Load Preprocessed Data**:\n",
    "   - Load the preprocessed CSV file created in the first notebook.\n",
    "\n",
    "3. **Train Machine Learning Models**:\n",
    "   - Use the `train_model` function to train a machine learning model (e.g., Random Forest) on the historical data.\n",
    "   - Split the data into training and testing sets.\n",
    "\n",
    "4. **Save the Trained Model**:\n",
    "   - Save the trained model to a file for later use in making predictions.\n",
    "\n",
    "5. **Evaluate Model Performance**:\n",
    "   - Evaluate the model's performance using appropriate metrics (e.g., R^2 score).\n",
    "\n",
    "## Example Code\n",
    "```python\n",
    "# Import necessary libraries\n",
    "import pandas as pd\n",
    "from scripts.models import train_model\n",
    "import joblib\n",
    "\n",
    "# Load preprocessed data\n",
    "data_path = 'data/historical_data/btc_usd_preprocessed.csv'  # Update this path based on the selected cryptocurrency\n",
    "data = pd.read_csv(data_path, parse_dates=['Date'], index_col='Date')\n",
    "\n",
    "# Train model\n",
    "model, X_test, y_test = train_model(data)\n",
    "\n",
    "# Save the model and test data\n",
    "joblib.dump(model, 'models/trained_model.pkl')\n",
    "X_test.to_csv('data/historical_data/X_test.csv')\n",
    "y_test.to_csv('data/historical_data/y_test.csv')\n",
    "\n",
    "# Display model performance\n",
    "print(f\"Model trained. R^2 score on training data: {model.score(X_test, y_test)}\")\n"
   ]
  },
  {
   "cell_type": "code",
   "execution_count": 9,
   "metadata": {},
   "outputs": [
    {
     "name": "stdout",
     "output_type": "stream",
     "text": [
      "Libraries imported successfully.\n"
     ]
    }
   ],
   "source": [
    "# Cell 1: Import necessary libraries and verify\n",
    "try:\n",
    "    import pandas as pd\n",
    "    import numpy as np\n",
    "    from sklearn.model_selection import train_test_split\n",
    "    from sklearn.ensemble import RandomForestRegressor\n",
    "    from sklearn.metrics import mean_squared_error, r2_score\n",
    "    import joblib\n",
    "    import os\n",
    "    print(\"Libraries imported successfully.\")\n",
    "except ImportError as e:\n",
    "    print(f\"Error importing libraries: {e}\")\n"
   ]
  },
  {
   "cell_type": "code",
   "execution_count": 10,
   "metadata": {},
   "outputs": [
    {
     "name": "stdout",
     "output_type": "stream",
     "text": [
      "Data loaded successfully from ../data/cleaned_data/BTC_cleaned.csv.\n",
      "Data loaded successfully from ../data/cleaned_data/ETH_cleaned.csv.\n",
      "Data loaded successfully from ../data/cleaned_data/SOL_cleaned.csv.\n",
      "\n",
      "BTC data:\n",
      "             Open    High    Low  Close      Volume\n",
      "Date                                               \n",
      "2013-07-10  76.70   89.84  75.53  88.00  4916740.89\n",
      "2013-07-11  88.00   90.70  85.00  88.98  3084484.64\n",
      "2013-07-12  88.98  104.17  88.00  93.99  9759561.48\n",
      "2013-07-13  93.99   98.32  87.76  98.32  3186590.74\n",
      "2013-07-14  98.32   99.00  92.86  94.42  1171458.48\n",
      "\n",
      "ETH data:\n",
      "              Open     High     Low   Close     Volume\n",
      "Date                                                  \n",
      "2013-07-10  0.0000   0.0000  0.0000  0.0000       0.00\n",
      "2015-08-07  0.7812  27.7900  0.7809  2.7730  148608.32\n",
      "2015-08-08  2.7730   2.5810  0.5958  0.8076  583543.48\n",
      "2015-08-09  0.8076   0.9581  0.6043  0.7428  547528.03\n",
      "2015-08-10  0.7428   0.7628  0.5990  0.6846  401107.09\n",
      "\n",
      "SOL data:\n",
      "              Open    High     Low   Close       Volume\n",
      "Date                                                   \n",
      "2013-07-10  0.0000  0.0000  0.0000  0.0000         0.00\n",
      "2020-04-10  0.8681  1.3380  0.5501  0.9483  65581892.36\n",
      "2020-04-11  0.9496  1.0510  0.7689  0.7973   1429348.17\n",
      "2020-04-12  0.7893  0.9368  0.7633  0.8801  19348665.60\n",
      "2020-04-13  0.8801  0.8794  0.7751  0.7806   8548013.35\n"
     ]
    }
   ],
   "source": [
    "# Cell 2: Load preprocessed data\n",
    "def load_data(data_path):\n",
    "    try:\n",
    "        data = pd.read_csv(data_path, parse_dates=['Date'], index_col='Date')\n",
    "        print(f\"Data loaded successfully from {data_path}.\")\n",
    "        return data\n",
    "    except FileNotFoundError as e:\n",
    "        print(f\"Error loading data: {e}\")\n",
    "        return None\n",
    "    except ValueError as e:\n",
    "        print(f\"Error parsing dates: {e}\")\n",
    "        return pd.read_csv(data_path)\n",
    "\n",
    "data_paths = {\n",
    "    'BTC': '../data/cleaned_data/BTC_cleaned.csv',\n",
    "    'ETH': '../data/cleaned_data/ETH_cleaned.csv',\n",
    "    'SOL': '../data/cleaned_data/SOL_cleaned.csv'\n",
    "}\n",
    "\n",
    "crypto_data = {crypto: load_data(path) for crypto, path in data_paths.items()}\n",
    "\n",
    "# Verify loaded data\n",
    "for crypto, data in crypto_data.items():\n",
    "    if data is not None:\n",
    "        print(f\"\\n{crypto} data:\")\n",
    "        print(data.head())\n"
   ]
  },
  {
   "cell_type": "code",
   "execution_count": 11,
   "metadata": {},
   "outputs": [
    {
     "name": "stdout",
     "output_type": "stream",
     "text": [
      "Prepared features X and target y:\n",
      "X shape: (4020, 5)\n",
      "y shape: (4020,)\n",
      "Prepared features X and target y:\n",
      "X shape: (3251, 5)\n",
      "y shape: (3251,)\n",
      "Prepared features X and target y:\n",
      "X shape: (1543, 5)\n",
      "y shape: (1543,)\n",
      "\n",
      "BTC features and target:\n",
      "             Open    High    Low  Close      Volume\n",
      "Date                                               \n",
      "2013-07-11  88.00   90.70  85.00  88.98  3084484.64\n",
      "2013-07-12  88.98  104.17  88.00  93.99  9759561.48\n",
      "2013-07-13  93.99   98.32  87.76  98.32  3186590.74\n",
      "2013-07-14  98.32   99.00  92.86  94.42  1171458.48\n",
      "2013-07-15  94.42  101.94  93.11  98.89  3366165.02 Date\n",
      "2013-07-11    0.011136\n",
      "2013-07-12    0.056305\n",
      "2013-07-13    0.046069\n",
      "2013-07-14   -0.039666\n",
      "2013-07-15    0.047342\n",
      "Name: returns, dtype: float64\n",
      "\n",
      "ETH features and target:\n",
      "              Open    High     Low   Close      Volume\n",
      "Date                                                  \n",
      "2015-08-08  2.7730  2.5810  0.5958  0.8076   583543.48\n",
      "2015-08-09  0.8076  0.9581  0.6043  0.7428   547528.03\n",
      "2015-08-10  0.7428  0.7628  0.5990  0.6846   401107.09\n",
      "2015-08-11  0.6846  1.1650  0.6548  1.0590  1567648.93\n",
      "2015-08-12  1.0590  1.2940  0.8118  1.2520  2255077.13 Date\n",
      "2015-08-08   -0.708763\n",
      "2015-08-09   -0.080238\n",
      "2015-08-10   -0.078352\n",
      "2015-08-11    0.546889\n",
      "2015-08-12    0.182247\n",
      "Name: returns, dtype: float64\n",
      "\n",
      "SOL features and target:\n",
      "              Open    High     Low   Close       Volume\n",
      "Date                                                   \n",
      "2020-04-11  0.9496  1.0510  0.7689  0.7973   1429348.17\n",
      "2020-04-12  0.7893  0.9368  0.7633  0.8801  19348665.60\n",
      "2020-04-13  0.8801  0.8794  0.7751  0.7806   8548013.35\n",
      "2020-04-14  0.7806  0.8015  0.6264  0.6672   8436976.32\n",
      "2020-04-15  0.6672  0.6862  0.6100  0.6382   5369465.91 Date\n",
      "2020-04-11   -0.159232\n",
      "2020-04-12    0.103850\n",
      "2020-04-13   -0.113055\n",
      "2020-04-14   -0.145273\n",
      "2020-04-15   -0.043465\n",
      "Name: returns, dtype: float64\n"
     ]
    }
   ],
   "source": [
    "# Cell 3: Prepare features and target variable with added debug prints\n",
    "def prepare_features_target(data):\n",
    "    data = data.copy()\n",
    "    data['returns'] = data['Close'].pct_change()\n",
    "    data.dropna(inplace=True)\n",
    "    \n",
    "    # Remove any inf or -inf values from the target variable\n",
    "    y = data['returns'].replace([np.inf, -np.inf], np.nan).dropna()\n",
    "\n",
    "    # Align features with the cleaned target variable\n",
    "    X = data.loc[y.index].drop(columns=['returns'])\n",
    "    \n",
    "    print(f\"Prepared features X and target y:\")\n",
    "    print(f\"X shape: {X.shape}\")\n",
    "    print(f\"y shape: {y.shape}\")\n",
    "    \n",
    "    return X, y\n",
    "\n",
    "crypto_features_targets = {crypto: prepare_features_target(data) for crypto, data in crypto_data.items()}\n",
    "\n",
    "# Verify prepared features and targets\n",
    "for crypto, (X, y) in crypto_features_targets.items():\n",
    "    print(f\"\\n{crypto} features and target:\")\n",
    "    print(X.head(), y.head())\n"
   ]
  },
  {
   "cell_type": "code",
   "execution_count": 12,
   "metadata": {},
   "outputs": [
    {
     "name": "stdout",
     "output_type": "stream",
     "text": [
      "Splitting data: X shape: (4020, 5), y shape: (4020,)\n",
      "Data split: X_train shape: (3216, 5), X_test shape: (804, 5), y_train shape: (3216,), y_test shape: (804,)\n",
      "Splitting data: X shape: (3251, 5), y shape: (3251,)\n",
      "Data split: X_train shape: (2600, 5), X_test shape: (651, 5), y_train shape: (2600,), y_test shape: (651,)\n",
      "Splitting data: X shape: (1543, 5), y shape: (1543,)\n",
      "Data split: X_train shape: (1234, 5), X_test shape: (309, 5), y_train shape: (1234,), y_test shape: (309,)\n",
      "\n",
      "BTC data split:\n",
      "X_train shape: (3216, 5), X_test shape: (804, 5)\n",
      "y_train shape: (3216,), y_test shape: (804,)\n",
      "\n",
      "ETH data split:\n",
      "X_train shape: (2600, 5), X_test shape: (651, 5)\n",
      "y_train shape: (2600,), y_test shape: (651,)\n",
      "\n",
      "SOL data split:\n",
      "X_train shape: (1234, 5), X_test shape: (309, 5)\n",
      "y_train shape: (1234,), y_test shape: (309,)\n"
     ]
    }
   ],
   "source": [
    "# Cell 4: Split data into training and testing sets\n",
    "def split_data(X, y):\n",
    "    print(f\"Splitting data: X shape: {X.shape}, y shape: {y.shape}\")\n",
    "    min_length = min(len(X), len(y))\n",
    "    X = X.iloc[:min_length]\n",
    "    y = y.iloc[:min_length]\n",
    "    X_train, X_test, y_train, y_test = train_test_split(X, y, test_size=0.2, random_state=42)\n",
    "    print(f\"Data split: X_train shape: {X_train.shape}, X_test shape: {X_test.shape}, y_train shape: {y_train.shape}, y_test shape: {y_test.shape}\")\n",
    "    return X_train, X_test, y_train, y_test\n",
    "\n",
    "crypto_splits = {crypto: split_data(X, y) for crypto, (X, y) in crypto_features_targets.items()}\n",
    "\n",
    "# Verify data splits\n",
    "for crypto, (X_train, X_test, y_train, y_test) in crypto_splits.items():\n",
    "    print(f\"\\n{crypto} data split:\")\n",
    "    print(f\"X_train shape: {X_train.shape}, X_test shape: {X_test.shape}\")\n",
    "    print(f\"y_train shape: {y_train.shape}, y_test shape: {y_test.shape}\")\n"
   ]
  },
  {
   "cell_type": "code",
   "execution_count": 13,
   "metadata": {},
   "outputs": [
    {
     "name": "stdout",
     "output_type": "stream",
     "text": [
      "Training model for BTC\n",
      "Model trained successfully.\n",
      "Training model for ETH\n",
      "Model trained successfully.\n",
      "Training model for SOL\n",
      "Model trained successfully.\n",
      "BTC model trained successfully.\n",
      "ETH model trained successfully.\n",
      "SOL model trained successfully.\n"
     ]
    }
   ],
   "source": [
    "# Cell 5: Train the machine learning models with debug prints\n",
    "def train_model(X_train, y_train):\n",
    "    try:\n",
    "        model = RandomForestRegressor(n_estimators=100, random_state=42)\n",
    "        model.fit(X_train, y_train)\n",
    "        print(\"Model trained successfully.\")\n",
    "        return model\n",
    "    except Exception as e:\n",
    "        print(f\"Error training model: {e}\")\n",
    "        return None\n",
    "\n",
    "crypto_models = {}\n",
    "for crypto, (X_train, X_test, y_train, y_test) in crypto_splits.items():\n",
    "    print(f\"Training model for {crypto}\")\n",
    "    model = train_model(X_train, y_train)\n",
    "    if model is not None:\n",
    "        crypto_models[crypto] = model\n",
    "\n",
    "# Verify trained models\n",
    "for crypto, model in crypto_models.items():\n",
    "    print(f\"{crypto} model trained successfully.\")\n"
   ]
  },
  {
   "cell_type": "code",
   "execution_count": 14,
   "metadata": {},
   "outputs": [
    {
     "name": "stdout",
     "output_type": "stream",
     "text": [
      "Evaluating model for BTC\n",
      "Model evaluation - MSE: 0.0013882819810033034, R2: 0.14955368603725538\n",
      "Evaluating model for ETH\n",
      "Model evaluation - MSE: 0.0022350334221918956, R2: 0.4249551575065176\n",
      "Evaluating model for SOL\n",
      "Model evaluation - MSE: 0.0013102361347839438, R2: 0.6322384670840093\n",
      "BTC model - MSE: 0.0013882819810033034, R2: 0.14955368603725538\n",
      "ETH model - MSE: 0.0022350334221918956, R2: 0.4249551575065176\n",
      "SOL model - MSE: 0.0013102361347839438, R2: 0.6322384670840093\n"
     ]
    }
   ],
   "source": [
    "# Cell 6: Evaluate model performance with debug prints\n",
    "def evaluate_model(model, X_test, y_test):\n",
    "    try:\n",
    "        y_pred = model.predict(X_test)\n",
    "        mse = mean_squared_error(y_test, y_pred)\n",
    "        r2 = r2_score(y_test, y_pred)\n",
    "        print(f\"Model evaluation - MSE: {mse}, R2: {r2}\")\n",
    "        return mse, r2\n",
    "    except Exception as e:\n",
    "        print(f\"Error evaluating model: {e}\")\n",
    "        return None, None\n",
    "\n",
    "crypto_evaluations = {}\n",
    "for crypto, model in crypto_models.items():\n",
    "    X_test, y_test = crypto_splits[crypto][1], crypto_splits[crypto][3]\n",
    "    print(f\"Evaluating model for {crypto}\")\n",
    "    mse, r2 = evaluate_model(model, X_test, y_test)\n",
    "    if mse is not None and r2 is not None:\n",
    "        crypto_evaluations[crypto] = (mse, r2)\n",
    "\n",
    "# Verify model evaluations\n",
    "for crypto, (mse, r2) in crypto_evaluations.items():\n",
    "    print(f\"{crypto} model - MSE: {mse}, R2: {r2}\")\n"
   ]
  },
  {
   "cell_type": "code",
   "execution_count": 15,
   "metadata": {},
   "outputs": [
    {
     "name": "stdout",
     "output_type": "stream",
     "text": [
      "Saving model and test data for BTC\n",
      "Model and test data saved to ../models/BTC_trained_model.pkl, ../data/cleaned_data/BTC_X_test.csv, ../data/cleaned_data/BTC_y_test.csv\n",
      "Saving model and test data for ETH\n",
      "Model and test data saved to ../models/ETH_trained_model.pkl, ../data/cleaned_data/ETH_X_test.csv, ../data/cleaned_data/ETH_y_test.csv\n",
      "Saving model and test data for SOL\n",
      "Model and test data saved to ../models/SOL_trained_model.pkl, ../data/cleaned_data/SOL_X_test.csv, ../data/cleaned_data/SOL_y_test.csv\n"
     ]
    }
   ],
   "source": [
    "# Cell 7: Save the trained models and test data with debug prints\n",
    "def save_model_data(model, X_test, y_test, model_path, X_test_path, y_test_path):\n",
    "    try:\n",
    "        os.makedirs(os.path.dirname(model_path), exist_ok=True)\n",
    "        os.makedirs(os.path.dirname(X_test_path), exist_ok=True)\n",
    "        os.makedirs(os.path.dirname(y_test_path), exist_ok=True)\n",
    "        \n",
    "        joblib.dump(model, model_path)\n",
    "        X_test.to_csv(X_test_path)\n",
    "        y_test.to_csv(y_test_path)\n",
    "        print(f\"Model and test data saved to {model_path}, {X_test_path}, {y_test_path}\")\n",
    "    except Exception as e:\n",
    "        print(f\"Error saving model data: {e}\")\n",
    "\n",
    "for crypto, model in crypto_models.items():\n",
    "    X_train, X_test, y_train, y_test = crypto_splits[crypto]\n",
    "    print(f\"Saving model and test data for {crypto}\")\n",
    "    save_model_data(model, X_test, y_test, f'../models/{crypto}_trained_model.pkl', f'../data/cleaned_data/{crypto}_X_test.csv', f'../data/cleaned_data/{crypto}_y_test.csv')\n"
   ]
  },
  {
   "cell_type": "code",
   "execution_count": 16,
   "metadata": {},
   "outputs": [
    {
     "name": "stdout",
     "output_type": "stream",
     "text": [
      "Content of crypto_evaluations:\n",
      "{'BTC': (0.0013882819810033034, 0.14955368603725538), 'ETH': (0.0022350334221918956, 0.4249551575065176), 'SOL': (0.0013102361347839438, 0.6322384670840093)}\n",
      "BTC model - MSE: 0.0013882819810033034, R2: 0.14955368603725538\n",
      "ETH model - MSE: 0.0022350334221918956, R2: 0.4249551575065176\n",
      "SOL model - MSE: 0.0013102361347839438, R2: 0.6322384670840093\n"
     ]
    }
   ],
   "source": [
    "# Cell 8: Display model performance for each cryptocurrency\n",
    "print(\"Content of crypto_evaluations:\")\n",
    "print(crypto_evaluations)\n",
    "\n",
    "for crypto, (mse, r2) in crypto_evaluations.items():\n",
    "    print(f\"{crypto} model - MSE: {mse}, R2: {r2}\")\n"
   ]
  },
  {
   "cell_type": "code",
   "execution_count": null,
   "metadata": {},
   "outputs": [],
   "source": []
  }
 ],
 "metadata": {
  "kernelspec": {
   "display_name": "Python (base)",
   "language": "python",
   "name": "base"
  },
  "language_info": {
   "codemirror_mode": {
    "name": "ipython",
    "version": 3
   },
   "file_extension": ".py",
   "mimetype": "text/x-python",
   "name": "python",
   "nbconvert_exporter": "python",
   "pygments_lexer": "ipython3",
   "version": "3.11.7"
  }
 },
 "nbformat": 4,
 "nbformat_minor": 2
}
