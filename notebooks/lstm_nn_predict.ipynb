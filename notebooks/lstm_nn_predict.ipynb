{
 "cells": [
  {
   "cell_type": "markdown",
   "id": "3ed39a73",
   "metadata": {},
   "source": [
    "# lstm_nn_predict.ipynb\n",
    "\n",
    "## Notebook Purpose\n",
    "This notebook is designed to use the trained LSTM model to predict future cryptocurrency prices. It will load the trained LSTM model, apply it to the test data, and generate future predictions. The notebook will also visualize the predictions and compare them with the actual values.\n",
    "\n",
    "## Instructions\n",
    "1. **Import Necessary Libraries**:\n",
    "   - Import `pandas` for data manipulation.\n",
    "   - Import `joblib` to load the trained model.\n",
    "   - Import `matplotlib` for data visualization.\n",
    "\n",
    "2. **Load Preprocessed Data and Model**:\n",
    "   - Load the preprocessed CSV file created in the data preparation notebook.\n",
    "   - Load the trained LSTM model from the model generation notebook.\n",
    "\n",
    "3. **Generate Predictions**:\n",
    "   - Use the LSTM model to predict future prices.\n",
    "   - Apply the model to the test data to predict prices.\n",
    "\n",
    "4. **Visualize Predictions**:\n",
    "   - Generate a plot to compare the predicted prices with the actual closing prices.\n",
    "\n",
    "5. **Save Predictions**:\n",
    "   - Save the generated predictions to a new CSV file for future reference.\n",
    "\n",
    "## Example Code\n",
    "```python\n",
    "# Import necessary libraries\n",
    "import pandas as pd\n",
    "import joblib\n",
    "import matplotlib.pyplot as plt\n",
    "from tensorflow.keras.models import load_model\n",
    "\n",
    "# Load preprocessed data and model\n",
    "data_path = 'data/cleaned_data/BTC_cleaned.csv'  # Update this path based on the selected cryptocurrency\n",
    "data = pd.read_csv(data_path, parse_dates=['Date'], index_col='Date')\n",
    "model_path = 'models/trained_lstm_model.h5'\n",
    "model = load_model(model_path)\n",
    "\n",
    "# Prepare data for prediction\n",
    "X_test = data['Close'].values.reshape(-1, 1)\n",
    "\n",
    "# Make predictions\n",
    "predictions = model.predict(X_test)\n",
    "\n",
    "# Inverse transform predictions if necessary\n",
    "predictions = scaler.inverse_transform(predictions)\n",
    "\n",
    "# Save predictions\n",
    "results = data[['Close']].copy()\n",
    "results['Predictions'] = predictions\n",
    "results.to_csv('results/lstm_predictions.csv')\n",
    "\n",
    "# Display predictions\n",
    "results.head()\n",
    "\n",
    "# Plot predictions vs actual prices\n",
    "plt.figure(figsize=(14, 7))\n",
    "plt.plot(results.index, results['Close'], label='Actual Price')\n",
    "plt.plot(results.index, results['Predictions'], label='Predicted Price')\n",
    "plt.title('LSTM Model Predictions vs Actual Prices')\n",
    "plt.xlabel('Date')\n",
    "plt.ylabel('Price (USD)')\n",
    "plt.legend()\n",
    "plt.show()\n"
   ]
  },
  {
   "cell_type": "code",
   "execution_count": null,
   "id": "08c704b8-ecf6-46bf-a4d3-99013be3ffd5",
   "metadata": {},
   "outputs": [],
   "source": [
    "import pandas as pd\n",
    "import numpy as np\n",
    "import joblib\n",
    "import matplotlib.pyplot as plt\n",
    "from tensorflow.keras.models import load_model\n"
   ]
  },
  {
   "cell_type": "code",
   "execution_count": null,
   "id": "1af4f4c9-7a74-4cf6-a05f-0ecb05d29a14",
   "metadata": {},
   "outputs": [],
   "source": [
    "# Load preprocessed data\n",
    "data_path = 'data/cleaned_data/BTC_cleaned.csv'  # Update this path based on the selected cryptocurrency\n",
    "prices_df = pd.read_csv(data_path, parse_dates=['time'], index_col='time')\n"
   ]
  },
  {
   "cell_type": "code",
   "execution_count": null,
   "id": "30956a44",
   "metadata": {},
   "outputs": [],
   "source": [
    "# Load the trained LSTM model\n",
    "model_path = 'models/trained_lstm_model.h5'\n",
    "nn_model = load_model(model_path)\n"
   ]
  },
  {
   "cell_type": "code",
   "execution_count": null,
   "id": "0ba1f897",
   "metadata": {},
   "outputs": [],
   "source": [
    "# Function to create sequences of data\n",
    "def create_sequences(data, seq_length):\n",
    "    xs, ys = [], []\n",
    "    for i in range(len(data)-seq_length-1):\n",
    "        x = data[i:(i+seq_length), 0]\n",
    "        y = data[i+seq_length, 0]\n",
    "        xs.append(x)\n",
    "        ys.append(y)\n",
    "    return np.array(xs), np.array(ys)\n"
   ]
  },
  {
   "cell_type": "code",
   "execution_count": null,
   "id": "5ea5eb14",
   "metadata": {},
   "outputs": [],
   "source": [
    "# Extract closing prices\n",
    "close = prices_df['close'].values.reshape(-1,1)\n",
    "scaler = MinMaxScaler(feature_range=(0,1))\n",
    "scaled_close = scaler.fit_transform(close)\n",
    "\n",
    "# Create sequences based on the number of days\n",
    "seq_length = 60\n",
    "X, y = create_sequences(scaled_close, seq_length)\n",
    "\n",
    "# Split into training and testing data\n",
    "split = int(len(X) * .80)\n",
    "X_train, X_test, y_train, y_test = X[:split], X[split:], y[:split], y[split:]\n",
    "\n",
    "# Reshape data for LSTM input [samples, time steps, features]\n",
    "X_test = np.reshape(X_test, (X_test.shape[0], X_test.shape[1], 1))\n"
   ]
  },
  {
   "cell_type": "code",
   "execution_count": null,
   "id": "4172cde3",
   "metadata": {},
   "outputs": [],
   "source": [
    "# Generate predictions using the trained LSTM model\n",
    "y_pred = nn_model.predict(X_test)\n",
    "\n",
    "# Inverse transform the predictions and actual values to get actual prices\n",
    "y_pred = scaler.inverse_transform(y_pred)\n",
    "y_test_inv = scaler.inverse_transform(y_test.reshape(-1, 1))\n"
   ]
  },
  {
   "cell_type": "code",
   "execution_count": null,
   "id": "5c691892",
   "metadata": {},
   "outputs": [],
   "source": [
    "# Compare predictions vs actual values\n",
    "plt.figure(figsize=(14, 7))\n",
    "plt.plot(prices_df.index[-len(y_test):], y_test_inv, label='Actual Prices')\n",
    "plt.plot(prices_df.index[-len(y_test):], y_pred, label='Predicted Prices', linestyle='--')\n",
    "plt.title('Actual vs Predicted Prices')\n",
    "plt.xlabel('Date')\n",
    "plt.ylabel('Price (USD)')\n",
    "plt.legend()\n",
    "plt.show()\n"
   ]
  },
  {
   "cell_type": "code",
   "execution_count": null,
   "id": "98c86a9d",
   "metadata": {},
   "outputs": [],
   "source": [
    "# Predict future prices\n",
    "X_future = []\n",
    "start_index = len(scaled_close) - seq_length\n",
    "for i in range(start_index, start_index + 30):\n",
    "    seq = scaled_close[i-seq_length:i,0]\n",
    "    X_future.append(seq)\n",
    "\n",
    "# Convert X_future to numpy array and reshape for LSTM input [samples, time steps, features]\n",
    "X_future = np.array(X_future)\n",
    "X_future = np.reshape(X_future, (X_future.shape[0], X_future.shape[1], 1))\n",
    "\n",
    "# Predict future prices\n",
    "nn_future_predictions = nn_model.predict(X_future)\n",
    "nn_future_predictions = scaler.inverse_transform(nn_future_predictions)\n"
   ]
  },
  {
   "cell_type": "code",
   "execution_count": null,
   "id": "b680e70b",
   "metadata": {},
   "outputs": [],
   "source": [
    "# Plot future predictions\n",
    "last_date = prices_df.index[-1]\n",
    "next_30_days = pd.date_range(start=last_date + pd.Timedelta(days=1), periods=30)\n",
    "\n",
    "plt.figure(figsize=(14, 7))\n",
    "plt.plot(prices_df['close'], label='Historical Prices')\n",
    "plt.plot(next_30_days, nn_future_predictions, label='Future Predictions', linestyle='--')\n",
    "plt.title('Future Price Predictions using LSTM Neural Network')\n",
    "plt.xlabel('Date')\n",
    "plt.ylabel('Price (USD)')\n",
    "plt.legend()\n",
    "plt.show()\n",
    "\n",
    "# Save the future predictions\n",
    "future_predictions_df = pd.DataFrame({\n",
    "    'Date': next_30_days,\n",
    "    'Predicted_Price': nn_future_predictions.flatten()\n",
    "})\n",
    "future_predictions_df.to_csv('results/output_predictions/future_predictions.csv', index=False)\n"
   ]
  },
  {
   "cell_type": "code",
   "execution_count": null,
   "id": "f464bc29",
   "metadata": {},
   "outputs": [],
   "source": []
  }
 ],
 "metadata": {
  "kernelspec": {
   "display_name": "Python 3 (ipykernel)",
   "language": "python",
   "name": "python3"
  },
  "language_info": {
   "codemirror_mode": {
    "name": "ipython",
    "version": 3
   },
   "file_extension": ".py",
   "mimetype": "text/x-python",
   "name": "python",
   "nbconvert_exporter": "python",
   "pygments_lexer": "ipython3",
   "version": "3.11.7"
  }
 },
 "nbformat": 4,
 "nbformat_minor": 5
}
