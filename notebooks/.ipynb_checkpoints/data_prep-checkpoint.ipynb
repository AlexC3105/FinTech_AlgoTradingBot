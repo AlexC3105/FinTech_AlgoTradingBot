{
 "cells": [
  {
   "cell_type": "markdown",
   "id": "ef09fc00",
   "metadata": {},
   "source": [
    "# data_prep-checkpoint.ipynb\n",
    "\n",
    "## Notebook Purpose\n",
    "This notebook is designed to load, clean, and preprocess historical cryptocurrency data. It will handle missing values, convert data types, and prepare the data for further analysis and model training.\n",
    "\n",
    "## Instructions\n",
    "1. **Import Necessary Libraries**:\n",
    "   - Import `pandas` for data manipulation.\n",
    "   - Import `numpy` for numerical operations.\n",
    "   - Import `pathlib` for handling file paths.\n",
    "\n",
    "2. **Load Data**:\n",
    "   - Load the CSV file containing historical cryptocurrency data.\n",
    "\n",
    "3. **Preprocess Data**:\n",
    "   - Handle missing values.\n",
    "   - Convert data types as necessary.\n",
    "   - Ensure the data is properly indexed by date.\n",
    "\n",
    "4. **Save Preprocessed Data**:\n",
    "   - Save the cleaned and preprocessed data to a new CSV file for later use.\n",
    "\n",
    "5. **Review Data**:\n",
    "   - Display the first few rows of the preprocessed data to ensure it looks correct.\n",
    "\n",
    "## Example Code\n",
    "```python\n",
    "# Import necessary libraries\n",
    "import pandas as pd\n",
    "import numpy as np\n",
    "from pathlib import Path\n",
    "\n",
    "# Load data\n",
    "data_path = 'data/BTC-USD.csv'  # Update this path based on the selected cryptocurrency\n",
    "data = pd.read_csv(data_path, parse_dates=['Date'], index_col='Date')\n",
    "\n",
    "# Preprocess data\n",
    "data = data.dropna()  # Handle missing values\n",
    "data = data[['Close']]  # Select necessary columns\n",
    "\n",
    "# Save the preprocessed data\n",
    "data.to_csv('data/cleaned_data/BTC_cleaned.csv')\n",
    "\n",
    "# Display the first few rows of the preprocessed data\n",
    "data.head()\n"
   ]
  },
  {
   "cell_type": "code",
   "execution_count": 6,
   "id": "58b225ec-7e33-433c-9b33-c4e229ec09be",
   "metadata": {
    "tags": []
   },
   "outputs": [
    {
     "name": "stdout",
     "output_type": "stream",
     "text": [
      "Current working directory: /Users/alexandrclimenco/Documents/UM/homework/FinTech_AlgoTradingBot\n"
     ]
    }
   ],
   "source": [
    "# Cell 1: Import required libraries\n",
    "import pandas as pd\n",
    "from pathlib import Path\n",
    "import os\n",
    "\n",
    "# Define global variables\n",
    "global crypto_data\n",
    "\n",
    "# Print the current working directory\n",
    "print(\"Current working directory:\", os.getcwd())\n",
    "\n",
    "# Change to the root directory of the project if needed\n",
    "root_dir = '/Users/alexandrclimenco/Documents/UM/homework/FinTech_AlgoTradingBot'\n",
    "if os.getcwd() != root_dir:\n",
    "    os.chdir(root_dir)\n",
    "    print(\"New working directory:\", os.getcwd())\n"
   ]
  },
  {
   "cell_type": "code",
   "execution_count": 7,
   "id": "71ceba3c-04de-44e1-9a0e-bc809a48775d",
   "metadata": {
    "tags": []
   },
   "outputs": [
    {
     "name": "stdout",
     "output_type": "stream",
     "text": [
      "Files in data/historical_data directory: ['ETH-USD.csv', 'BTC-USD.csv', 'coinbase', 'alpha_vantage', 'SOL-USD.csv', 'cryptocompare']\n",
      "Bitcoin data loaded from data/historical_data/BTC-USD.csv\n",
      "Ethereum data loaded from data/historical_data/ETH-USD.csv\n",
      "Solana data loaded from data/historical_data/SOL-USD.csv\n",
      "\n",
      "Bitcoin data sample:\n"
     ]
    },
    {
     "data": {
      "text/html": [
       "<div>\n",
       "<style scoped>\n",
       "    .dataframe tbody tr th:only-of-type {\n",
       "        vertical-align: middle;\n",
       "    }\n",
       "\n",
       "    .dataframe tbody tr th {\n",
       "        vertical-align: top;\n",
       "    }\n",
       "\n",
       "    .dataframe thead th {\n",
       "        text-align: right;\n",
       "    }\n",
       "</style>\n",
       "<table border=\"1\" class=\"dataframe\">\n",
       "  <thead>\n",
       "    <tr style=\"text-align: right;\">\n",
       "      <th></th>\n",
       "      <th>Close</th>\n",
       "    </tr>\n",
       "    <tr>\n",
       "      <th>Date</th>\n",
       "      <th></th>\n",
       "    </tr>\n",
       "  </thead>\n",
       "  <tbody>\n",
       "    <tr>\n",
       "      <th>2021-07-01</th>\n",
       "      <td>33572.117188</td>\n",
       "    </tr>\n",
       "    <tr>\n",
       "      <th>2021-07-02</th>\n",
       "      <td>33897.046875</td>\n",
       "    </tr>\n",
       "    <tr>\n",
       "      <th>2021-07-03</th>\n",
       "      <td>34668.546875</td>\n",
       "    </tr>\n",
       "    <tr>\n",
       "      <th>2021-07-04</th>\n",
       "      <td>35287.781250</td>\n",
       "    </tr>\n",
       "    <tr>\n",
       "      <th>2021-07-05</th>\n",
       "      <td>33746.003906</td>\n",
       "    </tr>\n",
       "  </tbody>\n",
       "</table>\n",
       "</div>"
      ],
      "text/plain": [
       "                   Close\n",
       "Date                    \n",
       "2021-07-01  33572.117188\n",
       "2021-07-02  33897.046875\n",
       "2021-07-03  34668.546875\n",
       "2021-07-04  35287.781250\n",
       "2021-07-05  33746.003906"
      ]
     },
     "metadata": {},
     "output_type": "display_data"
    },
    {
     "name": "stdout",
     "output_type": "stream",
     "text": [
      "\n",
      "Ethereum data sample:\n"
     ]
    },
    {
     "data": {
      "text/html": [
       "<div>\n",
       "<style scoped>\n",
       "    .dataframe tbody tr th:only-of-type {\n",
       "        vertical-align: middle;\n",
       "    }\n",
       "\n",
       "    .dataframe tbody tr th {\n",
       "        vertical-align: top;\n",
       "    }\n",
       "\n",
       "    .dataframe thead th {\n",
       "        text-align: right;\n",
       "    }\n",
       "</style>\n",
       "<table border=\"1\" class=\"dataframe\">\n",
       "  <thead>\n",
       "    <tr style=\"text-align: right;\">\n",
       "      <th></th>\n",
       "      <th>Close</th>\n",
       "    </tr>\n",
       "    <tr>\n",
       "      <th>Date</th>\n",
       "      <th></th>\n",
       "    </tr>\n",
       "  </thead>\n",
       "  <tbody>\n",
       "    <tr>\n",
       "      <th>2021-07-01</th>\n",
       "      <td>2113.605469</td>\n",
       "    </tr>\n",
       "    <tr>\n",
       "      <th>2021-07-02</th>\n",
       "      <td>2150.040283</td>\n",
       "    </tr>\n",
       "    <tr>\n",
       "      <th>2021-07-03</th>\n",
       "      <td>2226.114258</td>\n",
       "    </tr>\n",
       "    <tr>\n",
       "      <th>2021-07-04</th>\n",
       "      <td>2321.724121</td>\n",
       "    </tr>\n",
       "    <tr>\n",
       "      <th>2021-07-05</th>\n",
       "      <td>2198.582520</td>\n",
       "    </tr>\n",
       "  </tbody>\n",
       "</table>\n",
       "</div>"
      ],
      "text/plain": [
       "                  Close\n",
       "Date                   \n",
       "2021-07-01  2113.605469\n",
       "2021-07-02  2150.040283\n",
       "2021-07-03  2226.114258\n",
       "2021-07-04  2321.724121\n",
       "2021-07-05  2198.582520"
      ]
     },
     "metadata": {},
     "output_type": "display_data"
    },
    {
     "name": "stdout",
     "output_type": "stream",
     "text": [
      "\n",
      "Solana data sample:\n"
     ]
    },
    {
     "data": {
      "text/html": [
       "<div>\n",
       "<style scoped>\n",
       "    .dataframe tbody tr th:only-of-type {\n",
       "        vertical-align: middle;\n",
       "    }\n",
       "\n",
       "    .dataframe tbody tr th {\n",
       "        vertical-align: top;\n",
       "    }\n",
       "\n",
       "    .dataframe thead th {\n",
       "        text-align: right;\n",
       "    }\n",
       "</style>\n",
       "<table border=\"1\" class=\"dataframe\">\n",
       "  <thead>\n",
       "    <tr style=\"text-align: right;\">\n",
       "      <th></th>\n",
       "      <th>Close</th>\n",
       "    </tr>\n",
       "    <tr>\n",
       "      <th>Date</th>\n",
       "      <th></th>\n",
       "    </tr>\n",
       "  </thead>\n",
       "  <tbody>\n",
       "    <tr>\n",
       "      <th>2021-07-01</th>\n",
       "      <td>33.404034</td>\n",
       "    </tr>\n",
       "    <tr>\n",
       "      <th>2021-07-02</th>\n",
       "      <td>34.020481</td>\n",
       "    </tr>\n",
       "    <tr>\n",
       "      <th>2021-07-03</th>\n",
       "      <td>34.478817</td>\n",
       "    </tr>\n",
       "    <tr>\n",
       "      <th>2021-07-04</th>\n",
       "      <td>34.310600</td>\n",
       "    </tr>\n",
       "    <tr>\n",
       "      <th>2021-07-05</th>\n",
       "      <td>32.984589</td>\n",
       "    </tr>\n",
       "  </tbody>\n",
       "</table>\n",
       "</div>"
      ],
      "text/plain": [
       "                Close\n",
       "Date                 \n",
       "2021-07-01  33.404034\n",
       "2021-07-02  34.020481\n",
       "2021-07-03  34.478817\n",
       "2021-07-04  34.310600\n",
       "2021-07-05  32.984589"
      ]
     },
     "metadata": {},
     "output_type": "display_data"
    }
   ],
   "source": [
    "# Cell 2: Load data for all cryptocurrencies\n",
    "cryptos = [\"Bitcoin\", \"Ethereum\", \"Solana\"]\n",
    "crypto_paths = {\n",
    "    \"Bitcoin\": \"data/historical_data/BTC-USD.csv\",\n",
    "    \"Ethereum\": \"data/historical_data/ETH-USD.csv\",\n",
    "    \"Solana\": \"data/historical_data/SOL-USD.csv\"\n",
    "}\n",
    "\n",
    "crypto_data = {}\n",
    "\n",
    "# List and print files in the data/historical_data directory\n",
    "data_dir = 'data/historical_data'\n",
    "print(f\"Files in {data_dir} directory: {os.listdir(data_dir)}\")\n",
    "\n",
    "for crypto, path in crypto_paths.items():\n",
    "    try:\n",
    "        prices_df = pd.read_csv(\n",
    "            path, \n",
    "            index_col=\"Date\", \n",
    "            parse_dates=True\n",
    "        )\n",
    "        # Drop columns except Date and Close\n",
    "        prices_df = prices_df[[\"Close\"]]\n",
    "        # Drop Nulls\n",
    "        prices_df = prices_df.dropna()\n",
    "        # Save to the dictionary\n",
    "        crypto_data[crypto] = prices_df\n",
    "        print(f\"{crypto} data loaded from {path}\")\n",
    "    except FileNotFoundError:\n",
    "        print(f\"File not found: {path}\")\n",
    "\n",
    "# Verify loaded data\n",
    "for crypto, df in crypto_data.items():\n",
    "    print(f\"\\n{crypto} data sample:\")\n",
    "    display(df.head())\n"
   ]
  },
  {
   "cell_type": "code",
   "execution_count": 8,
   "id": "b785c55b-98b8-4891-a45a-760dfbf05b55",
   "metadata": {},
   "outputs": [
    {
     "name": "stdout",
     "output_type": "stream",
     "text": [
      "Preprocessed data for Bitcoin saved to data/cleaned_data/bitcoin_cleaned.csv\n",
      "Preprocessed data for Ethereum saved to data/cleaned_data/ethereum_cleaned.csv\n",
      "Preprocessed data for Solana saved to data/cleaned_data/solana_cleaned.csv\n"
     ]
    }
   ],
   "source": [
    "# Cell 3: Save the preprocessed data\n",
    "for crypto, df in crypto_data.items():\n",
    "    cleaned_data_path = f\"data/cleaned_data/{crypto.lower()}_cleaned.csv\"\n",
    "    df.to_csv(cleaned_data_path)\n",
    "    print(f\"Preprocessed data for {crypto} saved to {cleaned_data_path}\")\n"
   ]
  },
  {
   "cell_type": "code",
   "execution_count": null,
   "id": "9e088eec",
   "metadata": {},
   "outputs": [],
   "source": []
  }
 ],
 "metadata": {
  "kernelspec": {
   "display_name": "Python (base)",
   "language": "python",
   "name": "base"
  },
  "language_info": {
   "codemirror_mode": {
    "name": "ipython",
    "version": 3
   },
   "file_extension": ".py",
   "mimetype": "text/x-python",
   "name": "python",
   "nbconvert_exporter": "python",
   "pygments_lexer": "ipython3",
   "version": "3.11.7"
  }
 },
 "nbformat": 4,
 "nbformat_minor": 5
}
