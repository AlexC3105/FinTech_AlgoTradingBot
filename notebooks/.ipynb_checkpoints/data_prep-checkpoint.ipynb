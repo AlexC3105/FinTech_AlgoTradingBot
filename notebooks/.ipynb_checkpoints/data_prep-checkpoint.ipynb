{
 "cells": [
  {
   "cell_type": "markdown",
   "id": "ef09fc00",
   "metadata": {},
   "source": [
    "# data_prep-checkpoint.ipynb\n",
    "\n",
    "## Notebook Purpose\n",
    "This notebook is designed to load, clean, and preprocess historical cryptocurrency data. It will handle missing values, convert data types, and prepare the data for further analysis and model training.\n",
    "\n",
    "## Instructions\n",
    "1. **Import Necessary Libraries**:\n",
    "   - Import `pandas` for data manipulation.\n",
    "   - Import `numpy` for numerical operations.\n",
    "   - Import `pathlib` for handling file paths.\n",
    "\n",
    "2. **Load Data**:\n",
    "   - Load the CSV file containing historical cryptocurrency data.\n",
    "\n",
    "3. **Preprocess Data**:\n",
    "   - Handle missing values.\n",
    "   - Convert data types as necessary.\n",
    "   - Ensure the data is properly indexed by date.\n",
    "\n",
    "4. **Save Preprocessed Data**:\n",
    "   - Save the cleaned and preprocessed data to a new CSV file for later use.\n",
    "\n",
    "5. **Review Data**:\n",
    "   - Display the first few rows of the preprocessed data to ensure it looks correct.\n",
    "\n",
    "## Example Code\n",
    "```python\n",
    "# Import necessary libraries\n",
    "import pandas as pd\n",
    "import numpy as np\n",
    "from pathlib import Path\n",
    "\n",
    "# Load data\n",
    "data_path = 'data/BTC-USD.csv'  # Update this path based on the selected cryptocurrency\n",
    "data = pd.read_csv(data_path, parse_dates=['Date'], index_col='Date')\n",
    "\n",
    "# Preprocess data\n",
    "data = data.dropna()  # Handle missing values\n",
    "data = data[['Close']]  # Select necessary columns\n",
    "\n",
    "# Save the preprocessed data\n",
    "data.to_csv('data/cleaned_data/BTC_cleaned.csv')\n",
    "\n",
    "# Display the first few rows of the preprocessed data\n",
    "data.head()\n"
   ]
  },
  {
   "cell_type": "code",
   "execution_count": null,
   "id": "58b225ec-7e33-433c-9b33-c4e229ec09be",
   "metadata": {
    "tags": []
   },
   "outputs": [],
   "source": [
    "# Cell 1: Import required libraries\n",
    "import pandas as pd\n",
    "from pathlib import Path\n",
    "\n",
    "# Define global variables\n",
    "global crypto\n",
    "global prices_df\n"
   ]
  },
  {
   "cell_type": "code",
   "execution_count": null,
   "id": "71ceba3c-04de-44e1-9a0e-bc809a48775d",
   "metadata": {
    "tags": []
   },
   "outputs": [],
   "source": [
    "# Cell 2: Determine which file to load; default to Bitcoin if invalid value passed\n",
    "crypto = \"Bitcoin\"  # Example value, update this as necessary\n",
    "\n",
    "pathname = Path()\n",
    "if crypto == \"Bitcoin\":\n",
    "    pathname = Path(\"data/BTC-USD.csv\")\n",
    "elif crypto == \"Ethereum\":\n",
    "    pathname = Path(\"data/ETH-USD.csv\")\n",
    "elif crypto == \"Solana\":\n",
    "    pathname = Path(\"data/SOL-USD.csv\")\n",
    "else:\n",
    "    pathname = Path(\"data/BTC-USD.csv\")\n"
   ]
  },
  {
   "cell_type": "code",
   "execution_count": null,
   "id": "b785c55b-98b8-4891-a45a-760dfbf05b55",
   "metadata": {},
   "outputs": [],
   "source": [
    "# Cell 3: Read file\n",
    "prices_df = pd.read_csv(\n",
    "    pathname, \n",
    "    index_col=\"Date\", \n",
    "    parse_dates=True\n",
    ")\n",
    "\n",
    "# Drop columns except Date and Close\n",
    "prices_df = prices_df[[\"Close\"]]\n",
    "\n",
    "# Drop Nulls\n",
    "prices_df = prices_df.dropna()\n",
    "\n",
    "# Display sample data\n",
    "display(prices_df.head())\n"
   ]
  },
  {
   "cell_type": "code",
   "execution_count": null,
   "id": "f5fccffc-179d-4b8e-9313-d277d5309ff2",
   "metadata": {},
   "outputs": [],
   "source": [
    "# Cell 4: Save the preprocessed data\n",
    "cleaned_data_path = f\"data/cleaned_data/{crypto.lower()}_cleaned.csv\"\n",
    "prices_df.to_csv(cleaned_data_path)\n",
    "print(f\"Preprocessed data saved to {cleaned_data_path}\")\n"
   ]
  },
  {
   "cell_type": "code",
   "execution_count": null,
   "id": "9e088eec",
   "metadata": {},
   "outputs": [],
   "source": []
  }
 ],
 "metadata": {
  "kernelspec": {
   "display_name": "Python 3 (ipykernel)",
   "language": "python",
   "name": "python3"
  },
  "language_info": {
   "codemirror_mode": {
    "name": "ipython",
    "version": 3
   },
   "file_extension": ".py",
   "mimetype": "text/x-python",
   "name": "python",
   "nbconvert_exporter": "python",
   "pygments_lexer": "ipython3",
   "version": "3.11.7"
  }
 },
 "nbformat": 4,
 "nbformat_minor": 5
}
