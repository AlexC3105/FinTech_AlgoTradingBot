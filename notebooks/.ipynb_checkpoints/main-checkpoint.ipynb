{
 "cells": [
  {
   "cell_type": "markdown",
   "id": "0a21fa83",
   "metadata": {},
   "source": [
    "# main-checkpoint.ipynb\n",
    "\n",
    "## Notebook Purpose\n",
    "This notebook serves as the main entry point for the cryptocurrency analysis and prediction project. It provides an interactive form for users to select a cryptocurrency and initiate the analysis and prediction process.\n",
    "\n",
    "## Instructions\n",
    "1. **Import Necessary Libraries**:\n",
    "   - Import `ipywidgets` for creating interactive widgets.\n",
    "   - Import `datetime` for handling date and time functions.\n",
    "\n",
    "2. **Define Global Variables**:\n",
    "   - Define global variables to store the selected cryptocurrency and results of the analysis.\n",
    "\n",
    "3. **Create User Interface**:\n",
    "   - Create dropdown menus and buttons for user interaction.\n",
    "   - Define functions to handle user inputs and trigger the analysis process.\n",
    "\n",
    "4. **Run the Controller Notebook**:\n",
    "   - Based on user inputs, run the `controller.ipynb` notebook to perform the analysis and prediction.\n",
    "\n",
    "## Example Code\n",
    "```python\n",
    "# Import necessary libraries\n",
    "import ipywidgets as widgets\n",
    "import datetime\n",
    "\n",
    "# Define global variables\n",
    "global crypto\n",
    "global describe\n",
    "global prices_plot\n",
    "\n",
    "# Initialize variables\n",
    "crypto_opts = ['Bitcoin', 'Ethereum', 'Solana']\n",
    "out = widgets.Output()\n",
    "crypto = \"\"\n",
    "\n",
    "# Define function executed after desired crypto is selected\n",
    "def on_button_clicked(b):\n",
    "    global crypto\n",
    "    crypto = crypto_dropdown.value\n",
    "    %run controller.ipynb\n",
    "\n",
    "# Create crypto dropdown box\n",
    "crypto_dropdown = widgets.Dropdown(\n",
    "    options=crypto_opts,\n",
    "    value=crypto_opts[0],\n",
    "    disabled=False,\n",
    "    layout=widgets.Layout(width='15%')\n",
    ")\n",
    "crypto_label = widgets.Label(value='Select Desired Crypto: ')\n",
    "\n",
    "# Create button to trigger analysis for desired crypto\n",
    "analyze_crypto = widgets.Button(\n",
    "    description='Analyze Cryptocurrency',\n",
    "    disabled=False,\n",
    "    button_style='', # 'success', 'info', 'warning', 'danger' or ''\n",
    "    layout=widgets.Layout(width='250px', height='30px', border='1px dashed blue')\n",
    ")\n",
    "analyze_crypto.on_click(on_button_clicked)\n",
    "\n",
    "# Build form\n",
    "title = widgets.HTML(value=\"<b>** Crypto Analyzer and Predictor **</b>\")\n",
    "l0 = widgets.HBox(children=[title])\n",
    "l1 = widgets.HBox(children=[crypto_label, crypto_dropdown])\n",
    "l2 = widgets.HBox(children=[analyze_crypto])\n",
    "l3 = widgets.HBox(children=[out])\n",
    "\n",
    "box = widgets.VBox([l0, l1, l2, l3])\n",
    "box.layout = {\"border\": \"2px solid black\"}\n",
    "\n",
    "# Display the form\n",
    "display(box)\n"
   ]
  },
  {
   "cell_type": "code",
   "execution_count": null,
   "id": "a8806e22-bbcd-48e5-a9b6-d687d4e5b453",
   "metadata": {
    "tags": []
   },
   "outputs": [],
   "source": [
    "# Cell 1: Import necessary libraries\n",
    "import ipywidgets as widgets\n",
    "import datetime\n"
   ]
  },
  {
   "cell_type": "code",
   "execution_count": null,
   "id": "09e0d3f4",
   "metadata": {},
   "outputs": [],
   "source": [
    "# Cell 2: Define global variables\n",
    "global crypto\n",
    "global describe\n",
    "global prices_plot\n"
   ]
  },
  {
   "cell_type": "code",
   "execution_count": null,
   "id": "fbd83402",
   "metadata": {},
   "outputs": [],
   "source": [
    "# Cell 3: Initialize variables\n",
    "crypto_opts = ['Bitcoin', 'Ethereum', 'Solana']\n",
    "out = widgets.Output()\n",
    "crypto = \"\"\n"
   ]
  },
  {
   "cell_type": "code",
   "execution_count": null,
   "id": "23a08781",
   "metadata": {},
   "outputs": [],
   "source": [
    "# Cell 4: Define function executed after desired crypto is selected\n",
    "def on_button_clicked(b):\n",
    "    global crypto\n",
    "    crypto = crypto_dropdown.value\n",
    "    %run controller.ipynb\n"
   ]
  },
  {
   "cell_type": "code",
   "execution_count": null,
   "id": "6a46ba7d",
   "metadata": {},
   "outputs": [],
   "source": [
    "# Cell 5: Create crypto dropdown box\n",
    "crypto_dropdown = widgets.Dropdown(\n",
    "    options=crypto_opts,\n",
    "    value=crypto_opts[0],\n",
    "    disabled=False,\n",
    "    layout=widgets.Layout(width='15%')\n",
    ")\n",
    "crypto_label = widgets.Label(value='Select Desired Crypto: ')\n"
   ]
  },
  {
   "cell_type": "code",
   "execution_count": null,
   "id": "56417261",
   "metadata": {},
   "outputs": [],
   "source": [
    "# Cell 6: Create button to trigger analysis for desired crypto\n",
    "analyze_crypto = widgets.Button(\n",
    "    description='Analyze Cryptocurrency',\n",
    "    disabled=False,\n",
    "    button_style='',  # 'success', 'info', 'warning', 'danger' or ''\n",
    "    layout=widgets.Layout(width='250px', height='30px', border='1px dashed blue')\n",
    ")\n",
    "analyze_crypto.on_click(on_button_clicked)\n"
   ]
  },
  {
   "cell_type": "code",
   "execution_count": null,
   "id": "d78bf492",
   "metadata": {},
   "outputs": [],
   "source": [
    "# Cell 7: Build form\n",
    "title = widgets.HTML(value=\"<b>** Crypto Analyzer and Predictor **</b>\")\n",
    "l0 = widgets.HBox(children=[title])\n",
    "l1 = widgets.HBox(children=[crypto_label, crypto_dropdown])\n",
    "l2 = widgets.HBox(children=[analyze_crypto])\n",
    "l3 = widgets.HBox(children=[out])\n",
    "box = widgets.VBox([l0, l1, l2, l3])\n",
    "box.layout = {\"border\": \"2px solid black\"}\n"
   ]
  },
  {
   "cell_type": "code",
   "execution_count": null,
   "id": "9a29b02c",
   "metadata": {},
   "outputs": [],
   "source": [
    "# Cell 8: Display the form\n",
    "display(box)\n"
   ]
  },
  {
   "cell_type": "code",
   "execution_count": null,
   "id": "41822ce1",
   "metadata": {},
   "outputs": [],
   "source": []
  }
 ],
 "metadata": {
  "kernelspec": {
   "display_name": "Python 3 (ipykernel)",
   "language": "python",
   "name": "python3"
  },
  "language_info": {
   "codemirror_mode": {
    "name": "ipython",
    "version": 3
   },
   "file_extension": ".py",
   "mimetype": "text/x-python",
   "name": "python",
   "nbconvert_exporter": "python",
   "pygments_lexer": "ipython3",
   "version": "3.11.7"
  }
 },
 "nbformat": 4,
 "nbformat_minor": 5
}
