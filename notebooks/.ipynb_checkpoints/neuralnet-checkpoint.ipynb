{
 "cells": [
  {
   "cell_type": "markdown",
   "id": "3b69a1e1",
   "metadata": {},
   "source": [
    "# neuralnet-checkpoint.ipynb\n",
    "\n",
    "## Notebook Purpose\n",
    "This notebook is designed to create and train a neural network model using historical stock price data. The trained model will be used for making future price predictions.\n",
    "\n",
    "## Instructions\n",
    "1. **Import Necessary Libraries**:\n",
    "   - Import `numpy` for scientific computation.\n",
    "   - Import `matplotlib` for graphing.\n",
    "   - Import `pandas` for manipulating data.\n",
    "   - Import `MinMaxScaler` from `sklearn.preprocessing` for feature scaling.\n",
    "   - Import `Sequential`, `LSTM`, `Dropout`, and `Dense` from `tensorflow.keras.models` for building the neural network model.\n",
    "\n",
    "2. **Load the Dataset**:\n",
    "   - Load the historical stock price data from a CSV file.\n",
    "\n",
    "3. **Feature Scaling**:\n",
    "   - Scale the features using `MinMaxScaler`.\n",
    "\n",
    "4. **Create a Data Structure**:\n",
    "   - Create a data structure with 60 timesteps and 1 output.\n",
    "\n",
    "5. **Reshape the Data**:\n",
    "   - Reshape the data to be suitable for the LSTM model.\n",
    "\n",
    "6. **Build and Compile the RNN**:\n",
    "   - Build and compile the Recurrent Neural Network (RNN) using LSTM layers.\n",
    "\n",
    "7. **Train the RNN**:\n",
    "   - Train the RNN using the training dataset.\n",
    "\n",
    "8. **Save the Model**:\n",
    "   - Save the trained model to a file.\n",
    "\n",
    "9. **Visualize Training Loss**:\n",
    "   - Plot the training loss to visualize the model training process.\n",
    "\n",
    "## Example Code\n",
    "```python\n",
    "# Import necessary libraries\n",
    "import numpy as np\n",
    "import matplotlib.pyplot as plt\n",
    "import pandas as pd\n",
    "from sklearn.preprocessing import MinMaxScaler\n",
    "from tensorflow.keras.models import Sequential\n",
    "from tensorflow.keras.layers import LSTM, Dropout, Dense\n",
    "\n",
    "# Load the dataset\n",
    "url = 'https://raw.githubusercontent.com/mwitiderrick/stockprice/master/NSE-TATAGLOBAL.csv'\n",
    "dataset_train = pd.read_csv(url)\n",
    "training_set = dataset_train.iloc[:, 1:2].values\n",
    "\n",
    "# Feature scaling\n",
    "sc = MinMaxScaler(feature_range=(0, 1))\n",
    "training_set_scaled = sc.fit_transform(training_set)\n",
    "\n",
    "# Creating a data structure with 60 timesteps and 1 output\n",
    "X_train = []\n",
    "y_train = []\n",
    "for i in range(60, 2035):\n",
    "    X_train.append(training_set_scaled[i-60:i, 0])\n",
    "    y_train.append(training_set_scaled[i, 0])\n",
    "X_train, y_train = np.array(X_train), np.array(y_train)\n",
    "\n",
    "# Reshaping\n",
    "X_train = np.reshape(X_train, (X_train.shape[0], X_train.shape[1], 1))\n",
    "\n",
    "# Building the RNN\n",
    "model = Sequential()\n",
    "\n",
    "model.add(LSTM(units=50, return_sequences=True, input_shape=(X_train.shape[1], 1)))\n",
    "model.add(Dropout(0.2))\n",
    "\n",
    "model.add(LSTM(units=50, return_sequences=True))\n",
    "model.add(Dropout(0.2))\n",
    "\n",
    "model.add(LSTM(units=50, return_sequences=True))\n",
    "model.add(Dropout(0.2))\n",
    "\n",
    "model.add(LSTM(units=50))\n",
    "model.add(Dropout(0.2))\n",
    "\n",
    "model.add(Dense(units=1))\n",
    "\n",
    "model.compile(optimizer='adam', loss='mean_squared_error')\n",
    "\n",
    "# Fitting the RNN to the Training set\n",
    "model.fit(X_train, y_train, epochs=100, batch_size=32)\n",
    "\n",
    "# Save the model\n",
    "model.save('neuralnet_checkpoint_model.h5')\n",
    "\n",
    "# Visualizing the training loss\n",
    "history = model.history.history\n",
    "plt.plot(history['loss'])\n",
    "plt.title('Model Loss')\n",
    "plt.ylabel('Loss')\n",
    "plt.xlabel('Epoch')\n",
    "plt.legend(['Train'], loc='upper left')\n",
    "plt.show()\n"
   ]
  },
  {
   "cell_type": "code",
   "execution_count": null,
   "id": "7e2a716e",
   "metadata": {},
   "outputs": [],
   "source": [
    "# https://colab.research.google.com/drive/18WiSw1K0BW3jOKO56vxn11Fo9IyOuRjh#scrollTo=2SoQJk5BYOas"
   ]
  },
  {
   "cell_type": "code",
   "execution_count": null,
   "id": "de19589e-a8a5-4b3b-ad24-78eb2d73b798",
   "metadata": {},
   "outputs": [],
   "source": [
    "# Cell 1: Import necessary libraries\n",
    "import numpy as np\n",
    "import matplotlib.pyplot as plt\n",
    "import pandas as pd\n",
    "from sklearn.preprocessing import MinMaxScaler\n",
    "from tensorflow.keras.models import Sequential\n",
    "from tensorflow.keras.layers import LSTM, Dropout, Dense\n"
   ]
  },
  {
   "cell_type": "code",
   "execution_count": null,
   "id": "e0ceaec9",
   "metadata": {},
   "outputs": [],
   "source": [
    "# Cell 2: Load the dataset\n",
    "url = 'https://raw.githubusercontent.com/mwitiderrick/stockprice/master/NSE-TATAGLOBAL.csv'\n",
    "dataset_train = pd.read_csv(url)\n",
    "training_set = dataset_train.iloc[:, 1:2].values\n"
   ]
  },
  {
   "cell_type": "code",
   "execution_count": null,
   "id": "f6690fcc",
   "metadata": {},
   "outputs": [],
   "source": [
    "# Cell 3: Feature scaling\n",
    "sc = MinMaxScaler(feature_range=(0, 1))\n",
    "training_set_scaled = sc.fit_transform(training_set)\n"
   ]
  },
  {
   "cell_type": "code",
   "execution_count": null,
   "id": "96d1b577",
   "metadata": {},
   "outputs": [],
   "source": [
    "# Cell 4: Creating a data structure with 60 timesteps and 1 output\n",
    "X_train = []\n",
    "y_train = []\n",
    "for i in range(60, 2035):\n",
    "    X_train.append(training_set_scaled[i-60:i, 0])\n",
    "    y_train.append(training_set_scaled[i, 0])\n",
    "X_train, y_train = np.array(X_train), np.array(y_train)\n"
   ]
  },
  {
   "cell_type": "code",
   "execution_count": null,
   "id": "20e813ae",
   "metadata": {},
   "outputs": [],
   "source": [
    "# Cell 5: Reshaping\n",
    "X_train = np.reshape(X_train, (X_train.shape[0], X_train.shape[1], 1))\n"
   ]
  },
  {
   "cell_type": "code",
   "execution_count": null,
   "id": "c49652fd",
   "metadata": {},
   "outputs": [],
   "source": [
    "# Cell 6: Building the RNN\n",
    "model = Sequential()\n",
    "\n",
    "# Adding the first LSTM layer and some Dropout regularisation\n",
    "model.add(LSTM(units=50, return_sequences=True, input_shape=(X_train.shape[1], 1)))\n",
    "model.add(Dropout(0.2))\n",
    "\n",
    "# Adding a second LSTM layer and some Dropout regularisation\n",
    "model.add(LSTM(units=50, return_sequences=True))\n",
    "model.add(Dropout(0.2))\n",
    "\n",
    "# Adding a third LSTM layer and some Dropout regularisation\n",
    "model.add(LSTM(units=50, return_sequences=True))\n",
    "model.add(Dropout(0.2))\n",
    "\n",
    "# Adding a fourth LSTM layer and some Dropout regularisation\n",
    "model.add(LSTM(units=50))\n",
    "model.add(Dropout(0.2))\n",
    "\n",
    "# Adding the output layer\n",
    "model.add(Dense(units=1))\n",
    "\n",
    "# Compiling the RNN\n",
    "model.compile(optimizer='adam', loss='mean_squared_error')\n"
   ]
  },
  {
   "cell_type": "code",
   "execution_count": null,
   "id": "95110632",
   "metadata": {},
   "outputs": [],
   "source": [
    "# Cell 7: Fitting the RNN to the Training set\n",
    "model.fit(X_train, y_train, epochs=100, batch_size=32)\n"
   ]
  },
  {
   "cell_type": "code",
   "execution_count": null,
   "id": "b40ee935",
   "metadata": {},
   "outputs": [],
   "source": [
    "# Cell 8: Save the model\n",
    "model.save('neuralnet_checkpoint_model.h5')\n"
   ]
  },
  {
   "cell_type": "code",
   "execution_count": null,
   "id": "1ddc8ac1",
   "metadata": {},
   "outputs": [],
   "source": [
    "# Cell 9: Visualizing the training loss\n",
    "history = model.history.history\n",
    "plt.plot(history['loss'])\n",
    "plt.title('Model Loss')\n",
    "plt.ylabel('Loss')\n",
    "plt.xlabel('Epoch')\n",
    "plt.legend(['Train'], loc='upper left')\n",
    "plt.show()\n"
   ]
  },
  {
   "cell_type": "code",
   "execution_count": null,
   "id": "0bb80ced",
   "metadata": {},
   "outputs": [],
   "source": []
  }
 ],
 "metadata": {
  "kernelspec": {
   "display_name": "Python 3 (ipykernel)",
   "language": "python",
   "name": "python3"
  },
  "language_info": {
   "codemirror_mode": {
    "name": "ipython",
    "version": 3
   },
   "file_extension": ".py",
   "mimetype": "text/x-python",
   "name": "python",
   "nbconvert_exporter": "python",
   "pygments_lexer": "ipython3",
   "version": "3.11.7"
  }
 },
 "nbformat": 4,
 "nbformat_minor": 5
}
