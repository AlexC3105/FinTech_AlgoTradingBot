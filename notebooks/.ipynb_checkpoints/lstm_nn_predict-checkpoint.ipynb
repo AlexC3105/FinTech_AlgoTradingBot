{
 "cells": [
  {
   "cell_type": "markdown",
   "id": "e7955c7e",
   "metadata": {},
   "source": [
    "# lstm_nn_predict-checkpoint.ipynb\n",
    "\n",
    "## Notebook Purpose\n",
    "This notebook uses the trained LSTM model to predict cryptocurrency prices for future days. It loads the trained model and test data, generates predictions, and saves the predicted prices.\n",
    "\n",
    "## Instructions\n",
    "1. **Import Necessary Libraries**:\n",
    "   - Import `pandas` for data manipulation.\n",
    "   - Import `joblib` to load the trained model.\n",
    "   - Import `MinMaxScaler` from `sklearn` for data normalization.\n",
    "   - Import `matplotlib` for visualization.\n",
    "\n",
    "2. **Load Test Data and Model**:\n",
    "   - Load the test data and the trained LSTM model.\n",
    "\n",
    "3. **Generate Predictions**:\n",
    "   - Use the model to predict future prices for 1, 3, 5, 7, 14, 21, and 30 days.\n",
    "\n",
    "4. **Save Predictions**:\n",
    "   - Save the generated predictions to a CSV file.\n",
    "\n",
    "5. **Review Predictions**:\n",
    "   - Display the predictions to verify they are as expected.\n",
    "\n",
    "## Example Code\n",
    "```python\n",
    "# Import necessary libraries\n",
    "import pandas as pd\n",
    "import joblib\n",
    "from sklearn.preprocessing import MinMaxScaler\n",
    "import matplotlib.pyplot as plt\n",
    "\n",
    "# Load test data and model\n",
    "data_path = 'data/historical_data/btc_usd_test.csv'  # Update this path based on the selected cryptocurrency\n",
    "data = pd.read_csv(data_path, parse_dates=['Date'], index_col='Date')\n",
    "model = joblib.load('models/trained_lstm_model.pkl')\n",
    "\n",
    "# Generate predictions\n",
    "scaler = MinMaxScaler(feature_range=(0, 1))\n",
    "scaled_data = scaler.fit_transform(data[['Close']])\n",
    "future_predictions = model.predict(scaled_data)\n",
    "\n",
    "# Inverse transform the predictions\n",
    "future_predictions = scaler.inverse_transform(future_predictions)\n",
    "\n",
    "# Save predictions\n",
    "predictions_df = pd.DataFrame(future_predictions, index=data.index, columns=['Predicted'])\n",
    "predictions_df.to_csv('results/lstm_nn_predictions.csv')\n",
    "\n",
    "# Display predictions\n",
    "predictions_df.head()\n",
    "\n",
    "# Plot predictions\n",
    "plt.figure(figsize=(14, 7))\n",
    "plt.plot(data.index, data['Close'], label='Actual Prices')\n",
    "plt.plot(predictions_df.index, predictions_df['Predicted'], label='Predicted Prices')\n",
    "plt.title('LSTM Model Predictions vs Actual Prices')\n",
    "plt.xlabel('Date')\n",
    "plt.ylabel('Price (USD)')\n",
    "plt.legend()\n",
    "plt.show()\n"
   ]
  },
  {
   "cell_type": "code",
   "execution_count": null,
   "metadata": {},
   "outputs": [],
   "source": [
    "# Cell 1: Import necessary libraries\n",
    "import pandas as pd\n",
    "import joblib\n",
    "from sklearn.preprocessing import MinMaxScaler\n",
    "import matplotlib.pyplot as plt\n"
   ]
  },
  {
   "cell_type": "code",
   "execution_count": null,
   "id": "34cddefb",
   "metadata": {},
   "outputs": [],
   "source": [
    "# Cell 2: Define global variables\n",
    "global nn_model\n",
    "global X_test\n",
    "global scaler\n"
   ]
  },
  {
   "cell_type": "code",
   "execution_count": null,
   "id": "98c1ffdc",
   "metadata": {},
   "outputs": [],
   "source": [
    "# Cell 3: Load test data\n",
    "data_path = 'data/historical_data/btc_usd_test.csv'  # Update this path based on the selected cryptocurrency\n",
    "data = pd.read_csv(data_path, parse_dates=['Date'], index_col='Date')\n",
    "print(\"Test data loaded successfully\")\n"
   ]
  },
  {
   "cell_type": "code",
   "execution_count": null,
   "id": "ab497bca",
   "metadata": {},
   "outputs": [],
   "source": [
    "# Cell 4: Load the trained LSTM model\n",
    "model_path = 'models/trained_lstm_model.pkl'  # Update this path based on the saved model\n",
    "nn_model = joblib.load(model_path)\n",
    "print(\"Trained LSTM model loaded successfully\")\n"
   ]
  },
  {
   "cell_type": "code",
   "execution_count": null,
   "id": "8de734b7",
   "metadata": {},
   "outputs": [],
   "source": [
    "# Cell 5: Prepare the data for prediction\n",
    "scaler = MinMaxScaler(feature_range=(0, 1))\n",
    "scaled_data = scaler.fit_transform(data[['Close']])\n"
   ]
  },
  {
   "cell_type": "code",
   "execution_count": null,
   "id": "36ae3ae8",
   "metadata": {},
   "outputs": [],
   "source": [
    "# Cell 6: Generate predictions for 1, 3, 5, 7, 14, 21, and 30 days\n",
    "prediction_days = [1, 3, 5, 7, 14, 21, 30]\n",
    "predictions = {}\n",
    "\n",
    "for days in prediction_days:\n",
    "    X_future = []\n",
    "    start_index = len(scaled_data) - days\n",
    "    for i in range(start_index, start_index + days):\n",
    "        seq = scaled_data[i - days:i, 0]\n",
    "        X_future.append(seq)\n",
    "    X_future = np.array(X_future)\n",
    "    X_future = np.reshape(X_future, (X_future.shape[0], X_future.shape[1], 1))\n",
    "    future_predictions = nn_model.predict(X_future)\n",
    "    future_predictions = scaler.inverse_transform(future_predictions)\n",
    "    predictions[days] = future_predictions\n",
    "    print(f\"Predictions for {days} days generated successfully\")\n"
   ]
  },
  {
   "cell_type": "code",
   "execution_count": null,
   "id": "0ae5cb23",
   "metadata": {},
   "outputs": [],
   "source": [
    "# Cell 7: Save predictions to CSV files\n",
    "for days, preds in predictions.items():\n",
    "    predictions_df = pd.DataFrame(preds, index=data.index[-days:], columns=['Predicted'])\n",
    "    predictions_df.to_csv(f'results/lstm_nn_predictions_{days}_days.csv')\n",
    "    print(f\"Predictions for {days} days saved to 'results/lstm_nn_predictions_{days}_days.csv'\")\n"
   ]
  },
  {
   "cell_type": "code",
   "execution_count": null,
   "id": "2d27f816",
   "metadata": {},
   "outputs": [],
   "source": [
    "# Cell 8: Display a sample of predictions\n",
    "sample_days = 5  # Number of sample days to display\n",
    "sample_predictions = predictions[sample_days]\n",
    "print(f\"Sample predictions for {sample_days} days:\")\n",
    "print(sample_predictions[:sample_days])\n"
   ]
  },
  {
   "cell_type": "code",
   "execution_count": null,
   "id": "b4b10d83",
   "metadata": {},
   "outputs": [],
   "source": [
    "# Cell 9: Plot predictions vs actual prices\n",
    "plt.figure(figsize=(14, 7))\n",
    "plt.plot(data.index, data['Close'], label='Actual Prices')\n",
    "for days, preds in predictions.items():\n",
    "    plt.plot(data.index[-days:], preds, label=f'Predicted Prices ({days} days)')\n",
    "plt.title('LSTM Model Predictions vs Actual Prices')\n",
    "plt.xlabel('Date')\n",
    "plt.ylabel('Price (USD)')\n",
    "plt.legend()\n",
    "plt.show()\n"
   ]
  },
  {
   "cell_type": "code",
   "execution_count": null,
   "id": "bb9fbaab",
   "metadata": {},
   "outputs": [],
   "source": []
  }
 ],
 "metadata": {
  "language_info": {
   "name": "python"
  }
 },
 "nbformat": 4,
 "nbformat_minor": 5
}
