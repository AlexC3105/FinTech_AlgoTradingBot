{
 "cells": [
  {
   "cell_type": "markdown",
   "id": "3ce98ca4",
   "metadata": {},
   "source": [
    "# lstm_neural_network-checkpoint.ipynb\n",
    "\n",
    "## Notebook Purpose\n",
    "This notebook is designed to build, train, and evaluate an LSTM (Long Short-Term Memory) neural network model for predicting cryptocurrency prices. The notebook will preprocess the data, create sequences for the LSTM model, train the model, evaluate its performance, and make future predictions.\n",
    "\n",
    "## Instructions\n",
    "1. **Import Necessary Libraries**:\n",
    "   - Import `pandas` for data manipulation.\n",
    "   - Import `numpy` for numerical operations.\n",
    "   - Import `MinMaxScaler` from `sklearn` for data normalization.\n",
    "   - Import `Sequential`, `LSTM`, and `Dense` from `tensorflow.keras` for building the neural network.\n",
    "   - Import `matplotlib` for plotting.\n",
    "\n",
    "2. **Load Preprocessed Data**:\n",
    "   - Load the preprocessed CSV file created in the first notebook.\n",
    "\n",
    "3. **Preprocess Data**:\n",
    "   - Create sequences of data for training the LSTM model.\n",
    "   - Split the data into training and testing sets.\n",
    "\n",
    "4. **Build and Train LSTM Model**:\n",
    "   - Define the architecture of the LSTM model.\n",
    "   - Compile and train the model.\n",
    "\n",
    "5. **Evaluate Model Performance**:\n",
    "   - Evaluate the model using the testing data.\n",
    "   - Print the training and testing loss.\n",
    "\n",
    "6. **Make Predictions**:\n",
    "   - Use the trained model to make predictions on the testing data.\n",
    "   - Inverse transform the predictions and actual values for comparison.\n",
    "\n",
    "7. **Future Predictions**:\n",
    "   - Use the trained model to make future price predictions.\n",
    "   - Plot the historical prices along with the predicted future prices.\n",
    "\n",
    "## Example Code\n",
    "```python\n",
    "# Import necessary libraries\n",
    "import pandas as pd\n",
    "import numpy as np\n",
    "from sklearn.preprocessing import MinMaxScaler\n",
    "import matplotlib.pyplot as plt\n",
    "from tensorflow.keras.models import Sequential\n",
    "from tensorflow.keras.layers import LSTM, Dense\n",
    "import warnings\n",
    "warnings.filterwarnings(\"ignore\")\n",
    "\n",
    "# Load preprocessed data\n",
    "data_path = 'data/cleaned_data/btc_cleaned.csv'  # Update this path based on the selected cryptocurrency\n",
    "prices_df = pd.read_csv(data_path, index_col='Date', parse_dates=True)\n",
    "\n",
    "# Preprocess data\n",
    "def create_sequences(data, seq_length):\n",
    "    xs, ys = [], []\n",
    "    for i in range(len(data)-seq_length-1):\n",
    "        x = data[i:(i+seq_length), 0]\n",
    "        y = data[i+seq_length, 0]\n",
    "        xs.append(x)\n",
    "        ys.append(y)\n",
    "    return np.array(xs), np.array(ys)\n",
    "\n",
    "close = prices_df['Close'].values.reshape(-1,1)\n",
    "scaler = MinMaxScaler(feature_range=(0,1))\n",
    "scaled_close = scaler.fit_transform(close)\n",
    "seq_length = 60\n",
    "X, y = create_sequences(scaled_close, seq_length)\n",
    "split = int(len(X) * .80)\n",
    "X_train, X_test, y_train, y_test = X[:split], X[split:], y[:split], y[split:]\n",
    "X_train = np.reshape(X_train, (X_train.shape[0], X_train.shape[1], 1))\n",
    "X_test = np.reshape(X_test, (X_test.shape[0], X_test.shape[1], 1))\n",
    "\n",
    "# Build LSTM model\n",
    "nn_model = Sequential()\n",
    "nn_model.add(LSTM(units=50, return_sequences=False, input_shape=(X_train.shape[1], 1)))\n",
    "nn_model.add(Dense(units=1))\n",
    "nn_model.compile(optimizer='adam', loss='mean_squared_error')\n",
    "print(nn_model.summary())\n",
    "\n",
    "# Train the model\n",
    "nn_model.fit(X_train, y_train, epochs=50, batch_size=32)\n",
    "\n",
    "# Evaluate the model\n",
    "nn_train_loss = nn_model.evaluate(X_train, y_train, verbose=0)\n",
    "nn_test_loss = nn_model.evaluate(X_test, y_test, verbose=0)\n",
    "print(f'Train Loss: {nn_train_loss:.4f}')\n",
    "print(f'Test Loss: {nn_test_loss:.4f}')\n",
    "\n",
    "# Predict using Historic Data (Backtest)\n",
    "y_pred = nn_model.predict(X_test)\n",
    "y_pred = scaler.inverse_transform(y_pred)\n",
    "y_test_inv = scaler.inverse_transform(y_test.reshape(-1, 1))\n",
    "\n",
    "# Compare predictions vs actual values\n",
    "for i in range(10):\n",
    "    print(f'Predicted: {y_pred[-(10-i)][0]:.2f}, Actual: {y_test_inv[-(10-i)][0]:.2f}')\n",
    "\n",
    "# Predict the Future\n",
    "X_future = []\n",
    "start_index = len(scaled_close) - seq_length\n",
    "for i in range(start_index, start_index + 30):\n",
    "    seq = scaled_close[i-seq_length:i,0]\n",
    "    X_future.append(seq)\n",
    "X_future = np.array(X_future)\n",
    "X_future = np.reshape(X_future, (X_future.shape[0], X_future.shape[1], 1))\n",
    "nn_future_predictions = nn_model.predict(X_future)\n",
    "nn_future_predictions = scaler.inverse_transform(nn_future_predictions)\n",
    "\n",
    "# Plotting historical and predicted prices\n",
    "last_date = prices_df.index[-1]\n",
    "next_30_days = pd.date_range(start=last_date + pd.Timedelta(days=1), periods=30)\n",
    "nn_dates_future = next_30_days.values\n",
    "plt.figure(figsize=(12, 6))\n",
    "plt.plot(prices_df['Close'], label='Historical Prices')\n",
    "plt.plot(nn_dates_future, nn_future_predictions, label='Predicted Prices', linestyle='--')\n",
    "plt.xlabel('Date')\n",
    "plt.ylabel('Price')\n",
    "plt.title('Historical and Predicted Stock Prices using LSTM Neural Network')\n",
    "plt.legend()\n",
    "plt.savefig('nn_predict.png')\n",
    "plt.show()\n"
   ]
  },
  {
   "cell_type": "code",
   "execution_count": null,
   "id": "9996659a-4f6b-400b-85ae-d1828d3bb614",
   "metadata": {
    "tags": []
   },
   "outputs": [],
   "source": [
    "# Cell 1: Initial imports\n",
    "import pandas as pd\n",
    "from sklearn.preprocessing import MinMaxScaler\n",
    "import matplotlib.pyplot as plt\n",
    "import warnings\n",
    "warnings.filterwarnings(\"ignore\")\n",
    "\n",
    "# Keras modules\n",
    "from tensorflow.keras.models import Sequential\n",
    "from tensorflow.keras.layers import LSTM, Dense\n",
    "\n",
    "global prices_df\n",
    "global nn_model\n",
    "global nn_future_predictions\n"
   ]
  },
  {
   "cell_type": "code",
   "execution_count": null,
   "id": "8efd006a",
   "metadata": {},
   "outputs": [],
   "source": [
    "# Cell 2: Print message indicating start of neural network processing\n",
    "print(\"in neural network\")\n"
   ]
  },
  {
   "cell_type": "code",
   "execution_count": null,
   "id": "636973ee",
   "metadata": {},
   "outputs": [],
   "source": [
    "# Cell 3: Function to create sequences of data\n",
    "def create_sequences(data, seq_length):\n",
    "    xs, ys = [], []\n",
    "    for i in range(len(data)-seq_length-1):\n",
    "        x = data[i:(i+seq_length), 0]\n",
    "        y = data[i+seq_length, 0]\n",
    "        xs.append(x)\n",
    "        ys.append(y)\n",
    "    return np.array(xs), np.array(ys)\n"
   ]
  },
  {
   "cell_type": "code",
   "execution_count": null,
   "id": "08ca24a5",
   "metadata": {},
   "outputs": [],
   "source": [
    "# Cell 4: Extract closing prices\n",
    "close = prices_df['Close'].values.reshape(-1,1)\n",
    "scaler = MinMaxScaler(feature_range=(0,1))\n",
    "scaled_close = scaler.fit_transform(close)\n"
   ]
  },
  {
   "cell_type": "code",
   "execution_count": null,
   "id": "c53672d6",
   "metadata": {},
   "outputs": [],
   "source": [
    "# Cell 5: Create a sequence based on number of days\n",
    "seq_length = 60\n",
    "X, y = create_sequences(scaled_close, seq_length)\n"
   ]
  },
  {
   "cell_type": "code",
   "execution_count": null,
   "id": "9eaa7d57",
   "metadata": {},
   "outputs": [],
   "source": [
    "# Cell 6: Split into training and testing data (80% training, 20% testing)\n",
    "split = int(len(X) * .80)\n",
    "X_train, X_test, y_train, y_test = X[:split], X[split:], y[:split], y[split:]\n"
   ]
  },
  {
   "cell_type": "code",
   "execution_count": null,
   "id": "fa2670e8",
   "metadata": {},
   "outputs": [],
   "source": [
    "# Cell 7: Reshape data for LSTM input [samples, time steps, features]\n",
    "X_train = np.reshape(X_train, (X_train.shape[0], X_train.shape[1], 1))\n",
    "X_test = np.reshape(X_test, (X_test.shape[0], X_test.shape[1], 1))\n"
   ]
  },
  {
   "cell_type": "code",
   "execution_count": null,
   "id": "9999014f",
   "metadata": {},
   "outputs": [],
   "source": [
    "# Cell 8: Define the LSTM model with 50 neurons\n",
    "nn_model = Sequential()\n",
    "nn_model.add(LSTM(units=50, return_sequences=False, input_shape=(X_train.shape[1], 1)))\n",
    "nn_model.add(Dense(units=1))\n"
   ]
  },
  {
   "cell_type": "code",
   "execution_count": null,
   "id": "2611fdd8",
   "metadata": {},
   "outputs": [],
   "source": [
    "# Cell 9: Compile the model\n",
    "nn_model.compile(optimizer='adam', loss='mean_squared_error')\n"
   ]
  },
  {
   "cell_type": "code",
   "execution_count": null,
   "id": "e6554a5a",
   "metadata": {},
   "outputs": [],
   "source": [
    "# Cell 10: Print the model summary\n",
    "print(nn_model.summary())\n"
   ]
  },
  {
   "cell_type": "code",
   "execution_count": null,
   "id": "e55ec359",
   "metadata": {},
   "outputs": [],
   "source": [
    "# Cell 11: Train and Evaluate\n",
    "# Train the model\n",
    "nn_model.fit(X_train, y_train, epochs=50, batch_size=32)\n"
   ]
  },
  {
   "cell_type": "code",
   "execution_count": null,
   "id": "5fbcb453",
   "metadata": {},
   "outputs": [],
   "source": [
    "# Cell 12: Evaluate the model using the testing data\n",
    "nn_train_loss = nn_model.evaluate(X_train, y_train, verbose=0)\n",
    "nn_test_loss = nn_model.evaluate(X_test, y_test, verbose=0)\n",
    "print(f'Train Loss: {nn_train_loss:.4f}')\n",
    "print(f'Test Loss: {nn_test_loss:.4f}')\n"
   ]
  },
  {
   "cell_type": "code",
   "execution_count": null,
   "id": "6f2c709e",
   "metadata": {},
   "outputs": [],
   "source": [
    "# Cell 13: Predict using Historic Data (Backtest)\n",
    "# Predictions\n",
    "y_pred = nn_model.predict(X_test)\n"
   ]
  },
  {
   "cell_type": "code",
   "execution_count": null,
   "id": "079696eb",
   "metadata": {},
   "outputs": [],
   "source": [
    "# Cell 14: Inverse transform the predictions (to get actual prices)\n",
    "y_pred = scaler.inverse_transform(y_pred)\n"
   ]
  },
  {
   "cell_type": "code",
   "execution_count": null,
   "id": "cd678bee",
   "metadata": {},
   "outputs": [],
   "source": [
    "# Cell 15: Inverse transform the actual values for comparison\n",
    "y_test_inv = scaler.inverse_transform(y_test.reshape(-1, 1))\n"
   ]
  },
  {
   "cell_type": "code",
   "execution_count": null,
   "id": "2e2b2dd4",
   "metadata": {},
   "outputs": [],
   "source": [
    "# Cell 16: Compare predictions vs actual values\n",
    "# Example: print the last 10 predictions and actual values\n",
    "for i in range(10):\n",
    "    print(f'Predicted: {y_pred[-(10-i)][0]:.2f}, Actual: {y_test_inv[-(10-i)][0]:.2f}')\n"
   ]
  },
  {
   "cell_type": "code",
   "execution_count": null,
   "id": "6dc2450f",
   "metadata": {},
   "outputs": [],
   "source": [
    "# Cell 17: Predict the Future\n",
    "# Recall seq_length = 60, set above\n",
    "# Predict for 30 days\n",
    "X_future = []\n",
    "start_index = len(scaled_close) - seq_length\n",
    "for i in range(start_index, start_index + 30):\n",
    "    seq = scaled_close[i-seq_length:i,0]\n",
    "    X_future.append(seq)\n"
   ]
  },
  {
   "cell_type": "code",
   "execution_count": null,
   "id": "85bc04a3",
   "metadata": {},
   "outputs": [],
   "source": [
    "# Cell 18: Convert X_future to numpy array and reshape for LSTM input [samples, time steps, features]\n",
    "X_future = np.array(X_future)\n",
    "X_future = np.reshape(X_future, (X_future.shape[0], X_future.shape[1], 1))\n"
   ]
  },
  {
   "cell_type": "code",
   "execution_count": null,
   "id": "f598a4ef",
   "metadata": {},
   "outputs": [],
   "source": [
    "# Cell 19: Predict future prices\n",
    "nn_future_predictions = nn_model.predict(X_future)\n"
   ]
  },
  {
   "cell_type": "code",
   "execution_count": null,
   "id": "8024a88c",
   "metadata": {},
   "outputs": [],
   "source": [
    "# Cell 20: Inverse transform the predictions to get actual prices\n",
    "nn_future_predictions = scaler.inverse_transform(nn_future_predictions)\n"
   ]
  },
  {
   "cell_type": "code",
   "execution_count": null,
   "id": "07d12f0d",
   "metadata": {},
   "outputs": [],
   "source": [
    "# Cell 21: Derive future dates\n",
    "last_date = prices_df.index[-1]\n",
    "# Add 1 day, then derive next 30 days\n",
    "next_30_days = pd.date_range(start=last_date + pd.Timedelta(days=1), periods=30)\n",
    "# Convert to an array\n",
    "nn_dates_future = next_30_days.values\n"
   ]
  },
  {
   "cell_type": "code",
   "execution_count": null,
   "id": "d93edf96",
   "metadata": {},
   "outputs": [],
   "source": [
    "# Cell 22: Print future predictions\n",
    "print(\"nn_future_predictions:\")\n",
    "print(nn_future_predictions)\n"
   ]
  },
  {
   "cell_type": "code",
   "execution_count": null,
   "id": "a745208f",
   "metadata": {},
   "outputs": [],
   "source": [
    "# Cell 23: Plotting historical and predicted prices\n",
    "plt.figure(figsize=(12, 6))\n",
    "plt.plot(prices_df['Close'], label='Historical Prices')\n",
    "plt.plot(nn_dates_future, nn_future_predictions, label='Predicted Prices', linestyle='--')\n",
    "plt.xlabel('Date')\n",
    "plt.ylabel('Price')\n",
    "plt.title('Historical and Predicted Stock Prices using LSTM Neural Network')\n",
    "plt.legend()\n",
    "plt.savefig('../results/output_predictions/nn_predict.png')\n",
    "plt.show()\n"
   ]
  },
  {
   "cell_type": "code",
   "execution_count": null,
   "id": "64603262",
   "metadata": {},
   "outputs": [],
   "source": []
  }
 ],
 "metadata": {
  "kernelspec": {
   "display_name": "Python 3 (ipykernel)",
   "language": "python",
   "name": "python3"
  },
  "language_info": {
   "codemirror_mode": {
    "name": "ipython",
    "version": 3
   },
   "file_extension": ".py",
   "mimetype": "text/x-python",
   "name": "python",
   "nbconvert_exporter": "python",
   "pygments_lexer": "ipython3",
   "version": "3.11.7"
  }
 },
 "nbformat": 4,
 "nbformat_minor": 5
}
