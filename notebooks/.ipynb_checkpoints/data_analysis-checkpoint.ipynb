{
 "cells": [
  {
   "cell_type": "markdown",
   "id": "8e3a939c",
   "metadata": {},
   "source": [
    "# data_analysis-checkpoint.ipynb\n",
    "\n",
    "## Notebook Purpose\n",
    "This notebook is designed to perform exploratory data analysis (EDA) on the preprocessed cryptocurrency data. It will generate visualizations to help understand the data, identify trends, and detect any patterns.\n",
    "\n",
    "## Instructions\n",
    "1. **Import Necessary Libraries**:\n",
    "   - Import `pandas` for data manipulation.\n",
    "   - Import `matplotlib` and `seaborn` for data visualization.\n",
    "\n",
    "2. **Load Preprocessed Data**:\n",
    "   - Load the preprocessed CSV file created in the first notebook.\n",
    "\n",
    "3. **Plot Closing Prices**:\n",
    "   - Generate a plot showing the closing prices over time to observe overall trends.\n",
    "\n",
    "4. **Plot Technical Indicators**:\n",
    "   - Generate plots for the calculated technical indicators (e.g., SMA, EMA) to visualize their behavior over time.\n",
    "\n",
    "5. **Correlation Analysis**:\n",
    "   - Calculate and visualize the correlation matrix to understand relationships between different features.\n",
    "\n",
    "## Example Code\n",
    "```python\n",
    "# Import necessary libraries\n",
    "import pandas as pd\n",
    "import matplotlib.pyplot as plt\n",
    "import seaborn as sns\n",
    "\n",
    "# Load preprocessed data\n",
    "data_path = 'data/historical_data/btc_usd_preprocessed.csv'  # Update this path based on the selected cryptocurrency\n",
    "data = pd.read_csv(data_path, parse_dates=['Date'], index_col='Date')\n",
    "\n",
    "# Plot closing price over time\n",
    "plt.figure(figsize=(14, 7))\n",
    "plt.plot(data['Close'])\n",
    "plt.title('Closing Price Over Time')\n",
    "plt.xlabel('Date')\n",
    "plt.ylabel('Price (USD)')\n",
    "plt.show()\n",
    "\n",
    "# Plot technical indicators\n",
    "plt.figure(figsize=(14, 7))\n",
    "plt.plot(data['Close'], label='Close')\n",
    "plt.plot(data['SMA_20'], label='SMA 20')\n",
    "plt.plot(data['SMA_50'], label='SMA 50')\n",
    "plt.title('Technical Indicators')\n",
    "plt.xlabel('Date')\n",
    "plt.ylabel('Price (USD)')\n",
    "plt.legend()\n",
    "plt.show()\n",
    "\n",
    "# Display correlation matrix\n",
    "plt.figure(figsize=(12, 8))\n",
    "sns.heatmap(data.corr(), annot=True, cmap='coolwarm')\n",
    "plt.title('Correlation Matrix')\n",
    "plt.show()\n"
   ]
  },
  {
   "cell_type": "code",
   "execution_count": null,
   "id": "f18045be-68c4-4ec8-b1a3-330346e37189",
   "metadata": {},
   "outputs": [],
   "source": [
    "# Initial imports\n",
    "import pandas as pd\n",
    "import numpy as np\n",
    "import datetime as dt\n",
    "import matplotlib.pyplot as plt\n",
    "import seaborn as sns\n",
    "\n",
    "# Define global variables\n",
    "global describe\n",
    "global prices_plot\n",
    "global prices_df\n",
    "\n",
    "print(\"Libraries imported and global variables defined.\")\n"
   ]
  },
  {
   "cell_type": "code",
   "execution_count": null,
   "id": "73533168-ed67-472f-a5a1-865211c7a9ec",
   "metadata": {},
   "outputs": [],
   "source": [
    "# Describe the data:\n",
    "describe = prices_df.describe()\n",
    "display(describe)\n",
    "print(\"Data description displayed.\")\n"
   ]
  },
  {
   "cell_type": "code",
   "execution_count": null,
   "id": "83cfbab9-c686-443a-8448-610192041fd9",
   "metadata": {
    "tags": []
   },
   "outputs": [],
   "source": [
    "# Plot our historical prices\n",
    "plt.figure(figsize=(12, 6))\n",
    "plt.plot(prices_df['Close'])\n",
    "plt.xlabel('Date')\n",
    "plt.ylabel('Price')\n",
    "plt.title('Historical Prices')\n",
    "plt.legend()\n",
    "plt.savefig('historical.png')\n",
    "plt.show()\n",
    "print(\"Historical prices plotted and saved as 'historical.png'.\")\n"
   ]
  },
  {
   "cell_type": "code",
   "execution_count": null,
   "id": "75377f73-9432-436b-a236-13110e8871b3",
   "metadata": {},
   "outputs": [],
   "source": [
    "# Calculate rolling standard deviation for 21-day window\n",
    "rolling_std = prices_df.rolling(window=21).std()\n",
    "\n",
    "# Plot rolling standard deviation\n",
    "plt.figure(figsize=(12, 6))\n",
    "plt.plot(rolling_std)\n",
    "plt.xlabel('Date')\n",
    "plt.ylabel('Price')\n",
    "plt.title('Historical 21-Day Rolling Standard Deviation of Closing Prices')\n",
    "plt.legend()\n",
    "plt.savefig('std_dev.png')\n",
    "plt.show()\n",
    "print(\"21-Day rolling standard deviation plotted and saved as 'std_dev.png'.\")\n"
   ]
  },
  {
   "cell_type": "code",
   "execution_count": null,
   "id": "a2686931",
   "metadata": {},
   "outputs": [],
   "source": [
    "# Function to plot correlation matrix\n",
    "def plot_correlation_matrix(df, title):\n",
    "    plt.figure(figsize=(12, 8))\n",
    "    sns.heatmap(df.corr(), annot=True, cmap='coolwarm')\n",
    "    plt.title(title)\n",
    "    plt.show()\n",
    "\n",
    "# Plot correlation matrix for prices_df\n",
    "plot_correlation_matrix(prices_df, 'Correlation Matrix of Prices Data')\n",
    "print(\"Correlation matrix plotted.\")\n"
   ]
  },
  {
   "cell_type": "code",
   "execution_count": null,
   "id": "8a62a99b",
   "metadata": {},
   "outputs": [],
   "source": [
    "# Function to plot technical indicators\n",
    "def plot_technical_indicators(df, crypto):\n",
    "    plt.figure(figsize=(14, 7))\n",
    "    plt.plot(df['Close'], label='Close')\n",
    "    if 'SMA_20' in df.columns:\n",
    "        plt.plot(df['SMA_20'], label='SMA 20')\n",
    "    if 'SMA_50' in df.columns:\n",
    "        plt.plot(df['SMA_50'], label='SMA 50')\n",
    "    plt.title(f'Technical Indicators for {crypto}')\n",
    "    plt.xlabel('Date')\n",
    "    plt.ylabel('Price (USD)')\n",
    "    plt.legend()\n",
    "    plt.show()\n",
    "\n",
    "# Example usage for plotting technical indicators\n",
    "# plot_technical_indicators(prices_df, \"BTC\")\n",
    "\n",
    "print(\"Technical indicators plot function defined.\")\n"
   ]
  },
  {
   "cell_type": "code",
   "execution_count": null,
   "id": "08a851b8",
   "metadata": {},
   "outputs": [],
   "source": [
    "# Additional analysis can be performed here based on the requirements.\n",
    "# This could include plotting more technical indicators, performing seasonal decomposition, etc.\n",
    "\n",
    "# Example placeholder for additional analysis\n",
    "print(\"Perform additional analysis as required.\")\n"
   ]
  },
  {
   "cell_type": "code",
   "execution_count": null,
   "id": "1e1e32e1",
   "metadata": {},
   "outputs": [],
   "source": []
  }
 ],
 "metadata": {
  "kernelspec": {
   "display_name": "Python 3 (ipykernel)",
   "language": "python",
   "name": "python3"
  },
  "language_info": {
   "codemirror_mode": {
    "name": "ipython",
    "version": 3
   },
   "file_extension": ".py",
   "mimetype": "text/x-python",
   "name": "python",
   "nbconvert_exporter": "python",
   "pygments_lexer": "ipython3",
   "version": "3.11.7"
  }
 },
 "nbformat": 4,
 "nbformat_minor": 5
}
