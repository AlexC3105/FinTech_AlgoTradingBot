{
 "cells": [
  {
   "cell_type": "markdown",
   "id": "f8dc1d14",
   "metadata": {},
   "source": [
    "# controller-checkpoint.ipynb\n",
    "\n",
    "## Notebook Purpose\n",
    "This notebook serves as a checkpoint version of the main controller notebook, which orchestrates the execution of various other notebooks in the project. It helps in managing the workflow and ensures that each step is executed in the correct order.\n",
    "\n",
    "## Instructions\n",
    "1. **Import Necessary Libraries**:\n",
    "   - Import `os` and `subprocess` to run other notebooks programmatically.\n",
    "\n",
    "2. **Set Up Global Variables**:\n",
    "   - Define global variables that are necessary for the workflow.\n",
    "\n",
    "3. **Define Function to Run Notebooks**:\n",
    "   - Create a function to run a notebook using `subprocess`.\n",
    "\n",
    "4. **Run Notebooks Sequentially**:\n",
    "   - Use the function to run each notebook in the order required for the project workflow.\n",
    "\n",
    "## Example Code\n",
    "```python\n",
    "# Cell 1: Import necessary libraries\n",
    "import os\n",
    "import subprocess\n",
    "\n",
    "# Cell 2: Set up global variables\n",
    "global crypto\n",
    "crypto = \"BTC\"\n",
    "\n",
    "# Cell 3: Define function to run a notebook\n",
    "def run_notebook(notebook_path):\n",
    "    try:\n",
    "        result = subprocess.run(['jupyter', 'nbconvert', '--to', 'notebook', '--execute', notebook_path], check=True)\n",
    "        print(f\"Notebook {notebook_path} ran successfully.\")\n",
    "    except subprocess.CalledProcessError as e:\n",
    "        print(f\"Error running notebook {notebook_path}: {e}\")\n",
    "\n",
    "# Cell 4: Run Data Preparation Notebook\n",
    "print(\"Running Data Preparation Notebook...\")\n",
    "run_notebook('notebooks/01_data_preparation.ipynb')\n",
    "\n",
    "# Cell 5: Run Data Analysis Notebook\n",
    "print(\"Running Data Analysis Notebook...\")\n",
    "run_notebook('notebooks/02_data_analysis.ipynb')\n",
    "\n",
    "# Cell 6: Run Model Training Notebook\n",
    "print(\"Running Model Training Notebook...\")\n",
    "run_notebook('notebooks/03_model_generation.ipynb')\n",
    "\n",
    "# Cell 7: Run Prediction Generation Notebook (Optional)\n",
    "print(\"Running Prediction Generation Notebook...\")\n",
    "run_notebook('notebooks/04_prediction_generation.ipynb')\n",
    "\n",
    "# Cell 8: Run Backtesting Notebook (Optional)\n",
    "print(\"Running Backtesting Notebook...\")\n",
    "run_notebook('notebooks/05_backtesting.ipynb')\n",
    "\n",
    "# Cell 9: Run Visualization Notebook (Optional)\n",
    "print(\"Running Visualization Notebook...\")\n",
    "run_notebook('notebooks/06_visualization.ipynb')\n"
   ]
  },
  {
   "cell_type": "code",
   "execution_count": 6,
   "id": "2c8a35a9-c057-4eb7-84ad-abc841a863fa",
   "metadata": {},
   "outputs": [
    {
     "name": "stdout",
     "output_type": "stream",
     "text": [
      "Current working directory: /Users/alexandrclimenco/Documents/UM/homework/FinTech_AlgoTradingBot/notebooks/.ipynb_checkpoints\n",
      "New working directory: /Users/alexandrclimenco/Documents/UM/homework/FinTech_AlgoTradingBot\n",
      "Files in the notebooks directory: ['04_prediction_generation.nbconvert.ipynb', 'random_forest_model.nbconvert.ipynb', 'main.ipynb', '03_model_generation.ipynb', '03_model_generation.nbconvert.ipynb', '05_backtesting.nbconvert.ipynb', '01_data_preparation.nbconvert.ipynb', '02_data_analysis.nbconvert.ipynb', '06_visualization.ipynb', '01_data_preparation.ipynb', '04_prediction_generation.ipynb', 'lstm_nn_predict.ipynb', 'controller.ipynb', 'rf_predict.ipynb', '05_backtesting.ipynb', '.ipynb_checkpoints', '02_data_analysis.ipynb', 'rf_predict.nbconvert.ipynb', 'lstm_neural_network.ipynb', '06_visualization.nbconvert.ipynb', 'lstm_neural_network.nbconvert.ipynb', 'lstm_nn_predict.nbconvert.ipynb', 'random_forest_model.ipynb']\n",
      "In controller, value is BTC\n",
      "Running Data Preparation Notebook...\n"
     ]
    },
    {
     "name": "stderr",
     "output_type": "stream",
     "text": [
      "[NbConvertApp] Converting notebook notebooks/01_data_preparation.ipynb to notebook\n",
      "0.00s - Debugger warning: It seems that frozen modules are being used, which may\n",
      "0.00s - make the debugger miss breakpoints. Please pass -Xfrozen_modules=off\n",
      "0.00s - to python to disable frozen modules.\n",
      "0.00s - Note: Debugging will proceed. Set PYDEVD_DISABLE_FILE_VALIDATION=1 to disable this validation.\n",
      "[NbConvertApp] Writing 20652 bytes to notebooks/01_data_preparation.nbconvert.ipynb\n"
     ]
    },
    {
     "name": "stdout",
     "output_type": "stream",
     "text": [
      "Notebook notebooks/01_data_preparation.ipynb ran successfully.\n",
      "Running Data Analysis Notebook...\n"
     ]
    },
    {
     "name": "stderr",
     "output_type": "stream",
     "text": [
      "[NbConvertApp] Converting notebook notebooks/02_data_analysis.ipynb to notebook\n",
      "0.00s - Debugger warning: It seems that frozen modules are being used, which may\n",
      "0.00s - make the debugger miss breakpoints. Please pass -Xfrozen_modules=off\n",
      "0.00s - to python to disable frozen modules.\n",
      "0.00s - Note: Debugging will proceed. Set PYDEVD_DISABLE_FILE_VALIDATION=1 to disable this validation.\n",
      "[NbConvertApp] Writing 316798 bytes to notebooks/02_data_analysis.nbconvert.ipynb\n"
     ]
    },
    {
     "name": "stdout",
     "output_type": "stream",
     "text": [
      "Notebook notebooks/02_data_analysis.ipynb ran successfully.\n",
      "Running Model Training Notebook...\n"
     ]
    },
    {
     "name": "stderr",
     "output_type": "stream",
     "text": [
      "[NbConvertApp] Converting notebook notebooks/03_model_generation.ipynb to notebook\n",
      "0.00s - Debugger warning: It seems that frozen modules are being used, which may\n",
      "0.00s - make the debugger miss breakpoints. Please pass -Xfrozen_modules=off\n",
      "0.00s - to python to disable frozen modules.\n",
      "0.00s - Note: Debugging will proceed. Set PYDEVD_DISABLE_FILE_VALIDATION=1 to disable this validation.\n",
      "[NbConvertApp] Writing 20747 bytes to notebooks/03_model_generation.nbconvert.ipynb\n"
     ]
    },
    {
     "name": "stdout",
     "output_type": "stream",
     "text": [
      "Notebook notebooks/03_model_generation.ipynb ran successfully.\n",
      "Running Prediction Generation Notebook...\n"
     ]
    },
    {
     "name": "stderr",
     "output_type": "stream",
     "text": [
      "[NbConvertApp] Converting notebook notebooks/04_prediction_generation.ipynb to notebook\n",
      "0.00s - Debugger warning: It seems that frozen modules are being used, which may\n",
      "0.00s - make the debugger miss breakpoints. Please pass -Xfrozen_modules=off\n",
      "0.00s - to python to disable frozen modules.\n",
      "0.00s - Note: Debugging will proceed. Set PYDEVD_DISABLE_FILE_VALIDATION=1 to disable this validation.\n",
      "[NbConvertApp] Writing 240150 bytes to notebooks/04_prediction_generation.nbconvert.ipynb\n"
     ]
    },
    {
     "name": "stdout",
     "output_type": "stream",
     "text": [
      "Notebook notebooks/04_prediction_generation.ipynb ran successfully.\n",
      "Running Backtesting Notebook...\n"
     ]
    },
    {
     "name": "stderr",
     "output_type": "stream",
     "text": [
      "[NbConvertApp] Converting notebook notebooks/05_backtesting.ipynb to notebook\n",
      "0.00s - Debugger warning: It seems that frozen modules are being used, which may\n",
      "0.00s - make the debugger miss breakpoints. Please pass -Xfrozen_modules=off\n",
      "0.00s - to python to disable frozen modules.\n",
      "0.00s - Note: Debugging will proceed. Set PYDEVD_DISABLE_FILE_VALIDATION=1 to disable this validation.\n",
      "[NbConvertApp] Writing 618451 bytes to notebooks/05_backtesting.nbconvert.ipynb\n"
     ]
    },
    {
     "name": "stdout",
     "output_type": "stream",
     "text": [
      "Notebook notebooks/05_backtesting.ipynb ran successfully.\n",
      "Running Visualization Notebook...\n"
     ]
    },
    {
     "name": "stderr",
     "output_type": "stream",
     "text": [
      "[NbConvertApp] Converting notebook notebooks/06_visualization.ipynb to notebook\n",
      "0.00s - Debugger warning: It seems that frozen modules are being used, which may\n",
      "0.00s - make the debugger miss breakpoints. Please pass -Xfrozen_modules=off\n",
      "0.00s - to python to disable frozen modules.\n",
      "0.00s - Note: Debugging will proceed. Set PYDEVD_DISABLE_FILE_VALIDATION=1 to disable this validation.\n"
     ]
    },
    {
     "name": "stdout",
     "output_type": "stream",
     "text": [
      "Notebook notebooks/06_visualization.ipynb ran successfully.\n"
     ]
    },
    {
     "name": "stderr",
     "output_type": "stream",
     "text": [
      "[NbConvertApp] Writing 1345919 bytes to notebooks/06_visualization.nbconvert.ipynb\n"
     ]
    }
   ],
   "source": [
    "# Import necessary libraries\n",
    "import os\n",
    "import subprocess\n",
    "\n",
    "# Set up global variables\n",
    "global crypto\n",
    "crypto = \"BTC\"\n",
    "\n",
    "# Define function to run a notebook\n",
    "def run_notebook(notebook_path):\n",
    "    try:\n",
    "        result = subprocess.run(['jupyter', 'nbconvert', '--to', 'notebook', '--execute', notebook_path], check=True)\n",
    "        print(f\"Notebook {notebook_path} ran successfully.\")\n",
    "    except subprocess.CalledProcessError as e:\n",
    "        print(f\"Error running notebook {notebook_path}: {e}\")\n",
    "\n",
    "# Combined all code into a single cell with error handling\n",
    "try:\n",
    "    # Print the current working directory\n",
    "    print(\"Current working directory:\", os.getcwd())\n",
    "\n",
    "    # Change the working directory to the main project folder\n",
    "    os.chdir(\"/Users/alexandrclimenco/Documents/UM/homework/FinTech_AlgoTradingBot\")\n",
    "\n",
    "    # Print the new working directory\n",
    "    print(\"New working directory:\", os.getcwd())\n",
    "\n",
    "    # List the files in the notebooks directory\n",
    "    print(\"Files in the notebooks directory:\", os.listdir('notebooks'))\n",
    "\n",
    "    # Set up global variables\n",
    "    global crypto\n",
    "    crypto = \"BTC\"\n",
    "\n",
    "    # Print the selected cryptocurrency\n",
    "    print(\"In controller, value is\", crypto)\n",
    "\n",
    "    # Run Data Preparation Notebook\n",
    "    print(\"Running Data Preparation Notebook...\")\n",
    "    run_notebook('notebooks/01_data_preparation.ipynb')\n",
    "\n",
    "    # Run Data Analysis Notebook\n",
    "    print(\"Running Data Analysis Notebook...\")\n",
    "    run_notebook('notebooks/02_data_analysis.ipynb')\n",
    "\n",
    "    # Run Model Training Notebook\n",
    "    print(\"Running Model Training Notebook...\")\n",
    "    run_notebook('notebooks/03_model_generation.ipynb')\n",
    "\n",
    "    # Run Prediction Generation Notebook (Optional)\n",
    "    print(\"Running Prediction Generation Notebook...\")\n",
    "    run_notebook('notebooks/04_prediction_generation.ipynb')\n",
    "\n",
    "    # Run Backtesting Notebook (Optional)\n",
    "    print(\"Running Backtesting Notebook...\")\n",
    "    run_notebook('notebooks/05_backtesting.ipynb')\n",
    "\n",
    "    # Run Visualization Notebook (Optional)\n",
    "    print(\"Running Visualization Notebook...\")\n",
    "    run_notebook('notebooks/06_visualization.ipynb')\n",
    "\n",
    "except Exception as e:\n",
    "    print(f\"An error occurred: {e}\")\n"
   ]
  }
 ],
 "metadata": {
  "kernelspec": {
   "display_name": "Python (base)",
   "language": "python",
   "name": "base"
  },
  "language_info": {
   "codemirror_mode": {
    "name": "ipython",
    "version": 3
   },
   "file_extension": ".py",
   "mimetype": "text/x-python",
   "name": "python",
   "nbconvert_exporter": "python",
   "pygments_lexer": "ipython3",
   "version": "3.11.7"
  }
 },
 "nbformat": 4,
 "nbformat_minor": 5
}
