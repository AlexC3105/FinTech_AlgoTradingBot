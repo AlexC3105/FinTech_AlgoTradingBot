{
 "cells": [
  {
   "cell_type": "code",
   "execution_count": null,
   "id": "5cd69ba6-0045-482f-bd44-91e2762f3e04",
   "metadata": {},
   "outputs": [],
   "source": [
    "# Conrol the flow of call to workbooks; make any customizations needed here"
   ]
  },
  {
   "cell_type": "code",
   "execution_count": null,
   "id": "2c8a35a9-c057-4eb7-84ad-abc841a863fa",
   "metadata": {},
   "outputs": [],
   "source": [
    "print(\"in controller, value is\",crypto)\n",
    "\n",
    "%run data_prep.ipynb\n",
    "%run data_analysis.ipynb\n",
    "%run lstm_neural_network.ipynb\n",
    "#%run backtest_lr\n",
    "#%run predict_lr\n",
    "#%run random_forest_model\n",
    "#%run backtest_rf\n",
    "#%run predict_rf"
   ]
  }
 ],
 "metadata": {
  "kernelspec": {
   "display_name": "Python 3 (ipykernel)",
   "language": "python",
   "name": "python3"
  },
  "language_info": {
   "codemirror_mode": {
    "name": "ipython",
    "version": 3
   },
   "file_extension": ".py",
   "mimetype": "text/x-python",
   "name": "python",
   "nbconvert_exporter": "python",
   "pygments_lexer": "ipython3",
   "version": "3.11.7"
  }
 },
 "nbformat": 4,
 "nbformat_minor": 5
}
