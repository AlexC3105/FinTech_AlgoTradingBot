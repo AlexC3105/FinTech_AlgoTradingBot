{
 "cells": [
  {
   "cell_type": "markdown",
   "id": "ad23f6df",
   "metadata": {},
   "source": [
    "# main.ipynb\n",
    "\n",
    "## Notebook Purpose\n",
    "This notebook serves as the main entry point for the cryptocurrency analysis and prediction project. It provides an interface for the user to select a cryptocurrency and trigger the analysis, prediction, and visualization workflows by calling the appropriate notebooks.\n",
    "\n",
    "## Instructions\n",
    "1. **Import Necessary Libraries**:\n",
    "   - Import `ipywidgets` for creating the user interface.\n",
    "   - Import necessary functions from the other notebooks.\n",
    "\n",
    "2. **Define User Interface**:\n",
    "   - Create dropdowns and buttons for user inputs.\n",
    "\n",
    "3. **Trigger Workflow**:\n",
    "   - Based on user inputs, call the respective notebooks to perform data preparation, analysis, model training, prediction, backtesting, and visualization.\n",
    "\n",
    "## Example Code\n",
    "```python\n",
    "# Import necessary libraries\n",
    "import ipywidgets as widgets\n",
    "from IPython.display import display\n",
    "\n",
    "# Define global variables\n",
    "global crypto\n",
    "crypto_opts = ['Bitcoin', 'Ethereum', 'Solana']\n",
    "\n",
    "# Function to handle user input and trigger workflow\n",
    "def on_button_clicked(b):\n",
    "    global crypto\n",
    "    crypto = crypto_dropdown.value\n",
    "    # Run the controller notebook with the selected crypto\n",
    "    %run controller.ipynb\n",
    "\n",
    "# Create UI elements\n",
    "crypto_dropdown = widgets.Dropdown(\n",
    "    options=crypto_opts,\n",
    "    value=crypto_opts[0],\n",
    "    description='Select Cryptocurrency:',\n",
    "    disabled=False,\n",
    "    layout=widgets.Layout(width='300px')\n",
    ")\n",
    "\n",
    "analyze_button = widgets.Button(\n",
    "    description='Analyze Cryptocurrency',\n",
    "    disabled=False,\n",
    "    button_style='',\n",
    "    layout=widgets.Layout(width='300px', height='40px')\n",
    ")\n",
    "analyze_button.on_click(on_button_clicked)\n",
    "\n",
    "# Display the UI\n",
    "display(widgets.VBox([crypto_dropdown, analyze_button]))\n"
   ]
  },
  {
   "cell_type": "code",
   "execution_count": 1,
   "id": "309cfdeb-3fcb-43b2-a40d-8783585086be",
   "metadata": {},
   "outputs": [
    {
     "name": "stdout",
     "output_type": "stream",
     "text": [
      "Libraries imported successfully.\n"
     ]
    }
   ],
   "source": [
    "# Cell 1: Import functions needed for form functionality\n",
    "import ipywidgets as widgets\n",
    "import datetime\n",
    "from IPython.display import display\n",
    "\n",
    "print(\"Libraries imported successfully.\")\n"
   ]
  },
  {
   "cell_type": "code",
   "execution_count": 2,
   "id": "ef1ab657",
   "metadata": {},
   "outputs": [
    {
     "name": "stdout",
     "output_type": "stream",
     "text": [
      "Global variables defined.\n"
     ]
    }
   ],
   "source": [
    "# Cell 2: Define global variables\n",
    "global crypto\n",
    "global describe\n",
    "global prices_plot\n",
    "crypto_opts = ['Bitcoin', 'Ethereum', 'Solana']\n",
    "out = widgets.Output()\n",
    "crypto = \"\"\n",
    "\n",
    "print(\"Global variables defined.\")\n"
   ]
  },
  {
   "cell_type": "code",
   "execution_count": 3,
   "id": "251a34ba",
   "metadata": {},
   "outputs": [
    {
     "name": "stdout",
     "output_type": "stream",
     "text": [
      "Variables initialized.\n"
     ]
    }
   ],
   "source": [
    "# Cell 3: Initialize variables\n",
    "crypto_opts = ['Bitcoin', 'Ethereum', 'Solana']\n",
    "out = widgets.Output()\n",
    "crypto = \"\"\n",
    "\n",
    "print(\"Variables initialized.\")\n"
   ]
  },
  {
   "cell_type": "code",
   "execution_count": 4,
   "id": "2d3fc144",
   "metadata": {},
   "outputs": [
    {
     "name": "stdout",
     "output_type": "stream",
     "text": [
      "Function for button click defined.\n"
     ]
    }
   ],
   "source": [
    "# Cell 4: Define function executed after desired crypto is selected\n",
    "def on_button_clicked(b):\n",
    "    global crypto\n",
    "    crypto = crypto_dropdown.value\n",
    "    print(f\"Selected cryptocurrency: {crypto}\")\n",
    "    with out:\n",
    "        out.clear_output()\n",
    "        # invoke driver/controller program, with selected crypto as parameter\n",
    "        get_ipython().run_line_magic('run', 'controller.ipynb')\n",
    "\n",
    "print(\"Function for button click defined.\")\n"
   ]
  },
  {
   "cell_type": "code",
   "execution_count": 5,
   "id": "def063f7",
   "metadata": {},
   "outputs": [
    {
     "name": "stdout",
     "output_type": "stream",
     "text": [
      "Dropdown box created.\n"
     ]
    }
   ],
   "source": [
    "# Cell 5: Create crypto dropdown box\n",
    "crypto_dropdown = widgets.Dropdown(\n",
    "    options=crypto_opts,\n",
    "    value=crypto_opts[0],\n",
    "    description='Select Cryptocurrency:',\n",
    "    disabled=False,\n",
    "    layout=widgets.Layout(width='300px')\n",
    ")\n",
    "\n",
    "print(\"Dropdown box created.\")\n"
   ]
  },
  {
   "cell_type": "code",
   "execution_count": 6,
   "id": "101c5385",
   "metadata": {},
   "outputs": [
    {
     "name": "stdout",
     "output_type": "stream",
     "text": [
      "Buttons created.\n"
     ]
    }
   ],
   "source": [
    "# Cell 6: Create buttons\n",
    "analyze_crypto = widgets.Button(\n",
    "    description='Analyze Cryptocurrency',\n",
    "    disabled=False,\n",
    "    button_style='',  # 'success', 'info', 'warning', 'danger' or ''\n",
    "    layout=widgets.Layout(width='300px', height='40px')\n",
    ")\n",
    "analyze_crypto.on_click(on_button_clicked)\n",
    "\n",
    "print(\"Buttons created.\")\n"
   ]
  },
  {
   "cell_type": "code",
   "execution_count": 7,
   "id": "da4fd9ee",
   "metadata": {},
   "outputs": [
    {
     "name": "stdout",
     "output_type": "stream",
     "text": [
      "Form built.\n"
     ]
    }
   ],
   "source": [
    "# Cell 7: Build form\n",
    "title = widgets.HTML(value=\"<b>** Crypto Analyzer and Predictor **</b>\")\n",
    "\n",
    "l0 = widgets.HBox(children=[title])\n",
    "l1 = widgets.HBox(children=[crypto_dropdown])\n",
    "l2 = widgets.HBox(children=[analyze_crypto])\n",
    "l3 = widgets.HBox(children=[out])\n",
    "\n",
    "box = widgets.VBox([l0, l1, l2, l3])\n",
    "box.layout = {\"border\": \"2px solid black\"}\n",
    "\n",
    "print(\"Form built.\")\n"
   ]
  },
  {
   "cell_type": "code",
   "execution_count": 8,
   "id": "6eacedbc",
   "metadata": {},
   "outputs": [
    {
     "data": {
      "application/vnd.jupyter.widget-view+json": {
       "model_id": "dcce6ffe11534aeabe36e34dbe8295d3",
       "version_major": 2,
       "version_minor": 0
      },
      "text/plain": [
       "VBox(children=(HBox(children=(HTML(value='<b>** Crypto Analyzer and Predictor **</b>'),)), HBox(children=(Drop…"
      ]
     },
     "metadata": {},
     "output_type": "display_data"
    },
    {
     "name": "stdout",
     "output_type": "stream",
     "text": [
      "Form displayed.\n"
     ]
    }
   ],
   "source": [
    "# Cell 8: Display the form\n",
    "display(box)\n",
    "\n",
    "print(\"Form displayed.\")\n"
   ]
  },
  {
   "cell_type": "code",
   "execution_count": null,
   "id": "2025ec7d",
   "metadata": {},
   "outputs": [],
   "source": []
  }
 ],
 "metadata": {
  "kernelspec": {
   "display_name": "Python (base)",
   "language": "python",
   "name": "base"
  },
  "language_info": {
   "codemirror_mode": {
    "name": "ipython",
    "version": 3
   },
   "file_extension": ".py",
   "mimetype": "text/x-python",
   "name": "python",
   "nbconvert_exporter": "python",
   "pygments_lexer": "ipython3",
   "version": "3.11.7"
  }
 },
 "nbformat": 4,
 "nbformat_minor": 5
}
