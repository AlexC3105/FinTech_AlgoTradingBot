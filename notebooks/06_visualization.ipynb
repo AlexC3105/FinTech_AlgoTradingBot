{
 "cells": [
  {
   "cell_type": "markdown",
   "metadata": {},
   "source": [
    "# 06_visualization.ipynb\n",
    "\n",
    "## Notebook Purpose\n",
    "This notebook is designed to create visualizations to compare predicted prices with actual prices and analyze backtesting results. It will generate plots to help visualize the data and the results of the trading strategies.\n",
    "\n",
    "## Instructions\n",
    "1. **Import Necessary Libraries**:\n",
    "   - Import `pandas` for data manipulation.\n",
    "   - Import `matplotlib` and `seaborn` for data visualization.\n",
    "\n",
    "2. **Load Results**:\n",
    "   - Load the CSV files containing the predictions and backtest results.\n",
    "\n",
    "3. **Plot Predictions vs Actual Prices**:\n",
    "   - Generate a plot to compare the predicted prices with the actual closing prices.\n",
    "\n",
    "4. **Plot Portfolio Value Over Time**:\n",
    "   - Generate a plot to visualize the portfolio value over time from the backtest results.\n",
    "\n",
    "5. **Additional Visualizations**:\n",
    "   - Create any additional visualizations needed to analyze the data and results.\n",
    "\n",
    "## Example Code\n",
    "```python\n",
    "# Import necessary libraries\n",
    "import pandas as pd\n",
    "import matplotlib.pyplot as plt\n",
    "import seaborn as sns\n",
    "\n",
    "# Load results\n",
    "predictions_path = 'results/predictions.csv'\n",
    "backtest_path = 'results/backtest_results.csv'\n",
    "predictions = pd.read_csv(predictions_path, parse_dates=['time'])\n",
    "backtest_results = pd.read_csv(backtest_path, parse_dates=['time'])\n",
    "\n",
    "# Plot predictions vs actual prices\n",
    "plt.figure(figsize=(14, 7))\n",
    "plt.plot(predictions['time'], predictions['close'], label='Actual Price')\n",
    "plt.plot(predictions['time'], predictions['Predictions'], label='Predicted Price')\n",
    "plt.title('Predicted vs Actual Prices')\n",
    "plt.xlabel('Date')\n",
    "plt.ylabel('Price (USD)')\n",
    "plt.legend()\n",
    "plt.show()\n",
    "\n",
    "# Plot portfolio value over time\n",
    "plt.figure(figsize=(14, 7))\n",
    "plt.plot(backtest_results['time'], backtest_results['Portfolio Value'])\n",
    "plt.title('Portfolio Value Over Time')\n",
    "plt.xlabel('Date')\n",
    "plt.ylabel('Portfolio Value (USD)')\n",
    "plt.show()\n",
    "\n",
    "# Plot other visualizations as needed\n"
   ]
  },
  {
   "cell_type": "code",
   "execution_count": null,
   "metadata": {},
   "outputs": [],
   "source": [
    "# Import necessary libraries\n",
    "try:\n",
    "    import pandas as pd\n",
    "    import matplotlib.pyplot as plt\n",
    "    import seaborn as sns\n",
    "    print(\"Libraries imported successfully.\")\n",
    "except ImportError as e:\n",
    "    print(f\"Error importing libraries: {e}\")\n"
   ]
  },
  {
   "cell_type": "code",
   "execution_count": null,
   "metadata": {},
   "outputs": [],
   "source": [
    "# Load results\n",
    "predictions_path = 'results/predictions.csv'\n",
    "backtest_path = 'results/backtest_results.csv'\n",
    "predictions = pd.read_csv(predictions_path, parse_dates=['time'])\n",
    "backtest_results = pd.read_csv(backtest_path, parse_dates=['time'])\n",
    "\n",
    "print(\"Results loaded successfully.\")\n",
    "print(f\"Predictions data shape: {predictions.shape}\")\n",
    "print(f\"Backtest results data shape: {backtest_results.shape}\")\n"
   ]
  },
  {
   "cell_type": "code",
   "execution_count": null,
   "metadata": {},
   "outputs": [],
   "source": [
    "# Plot predictions vs actual prices\n",
    "plt.figure(figsize=(14, 7))\n",
    "plt.plot(predictions['time'], predictions['close'], label='Actual Price')\n",
    "plt.plot(predictions['time'], predictions['Predictions'], label='Predicted Price')\n",
    "plt.title('Predicted vs Actual Prices')\n",
    "plt.xlabel('Date')\n",
    "plt.ylabel('Price (USD)')\n",
    "plt.legend()\n",
    "plt.show()\n"
   ]
  },
  {
   "cell_type": "code",
   "execution_count": null,
   "metadata": {},
   "outputs": [],
   "source": [
    "# Plot portfolio value over time\n",
    "plt.figure(figsize=(14, 7))\n",
    "plt.plot(backtest_results['time'], backtest_results['Portfolio Value'])\n",
    "plt.title('Portfolio Value Over Time')\n",
    "plt.xlabel('Date')\n",
    "plt.ylabel('Portfolio Value (USD)')\n",
    "plt.show()\n"
   ]
  },
  {
   "cell_type": "code",
   "execution_count": null,
   "metadata": {},
   "outputs": [],
   "source": [
    "# Additional visualizations can be added here as needed\n",
    "\n",
    "# Plot distribution of actual vs predicted prices\n",
    "plt.figure(figsize=(14, 7))\n",
    "sns.histplot(predictions['close'], color='blue', label='Actual Price', kde=True)\n",
    "sns.histplot(predictions['Predictions'], color='orange', label='Predicted Price', kde=True)\n",
    "plt.title('Distribution of Actual vs Predicted Prices')\n",
    "plt.xlabel('Price (USD)')\n",
    "plt.ylabel('Frequency')\n",
    "plt.legend()\n",
    "plt.show()\n",
    "\n",
    "# Plotting correlation matrix of backtest results\n",
    "plt.figure(figsize=(12, 8))\n",
    "sns.heatmap(backtest_results.corr(), annot=True, cmap='coolwarm')\n",
    "plt.title('Correlation Matrix of Backtest Results')\n",
    "plt.show()\n"
   ]
  },
  {
   "cell_type": "code",
   "execution_count": null,
   "metadata": {},
   "outputs": [],
   "source": []
  }
 ],
 "metadata": {
  "language_info": {
   "name": "python"
  }
 },
 "nbformat": 4,
 "nbformat_minor": 2
}
