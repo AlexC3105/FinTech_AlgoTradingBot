{
 "cells": [
  {
   "cell_type": "markdown",
   "metadata": {},
   "source": [
    "\n",
    "### 04_prediction_generation.ipynb\n",
    "```markdown\n",
    "# 04_prediction_generation.ipynb\n",
    "\n",
    "## Notebook Purpose\n",
    "This notebook is designed to generate future price predictions using the trained machine learning models. It will load the trained models, apply them to the data, and save the predictions.\n",
    "\n",
    "## Instructions\n",
    "1. **Import Necessary Libraries**:\n",
    "   - Import `pandas` for data manipulation.\n",
    "   - Import `joblib` to load the trained model.\n",
    "   - Import functions from `models.py` for making predictions.\n",
    "\n",
    "2. **Load Preprocessed Data and Model**:\n",
    "   - Load the preprocessed CSV file created in the first notebook.\n",
    "   - Load the trained model from the previous notebook.\n",
    "\n",
    "3. **Generate Predictions**:\n",
    "   - Use the `make_prediction` function to generate predictions based on the trained model.\n",
    "   - Apply the model to the data to predict future prices.\n",
    "\n",
    "4. **Save Predictions**:\n",
    "   - Save the generated predictions to a new CSV file.\n",
    "\n",
    "5. **Review Predictions**:\n",
    "   - Display the first few rows of the predictions to ensure they look correct.\n",
    "\n",
    "## Example Code\n",
    "```python\n",
    "# Import necessary libraries\n",
    "import pandas as pd\n",
    "import joblib\n",
    "from scripts.models import make_prediction\n",
    "\n",
    "# Load preprocessed data and model\n",
    "data_path = 'data/historical_data/btc_usd_preprocessed.csv'  # Update this path based on the selected cryptocurrency\n",
    "data = pd.read_csv(data_path, parse_dates=['Date'], index_col='Date')\n",
    "model = joblib.load('models/trained_model.pkl')\n",
    "\n",
    "# Make predictions\n",
    "predictions = make_prediction(model, data)\n",
    "\n",
    "# Save predictions\n",
    "results = data[['Close']].copy()\n",
    "results['Predictions'] = predictions\n",
    "results.to_csv('results/predictions.csv')\n",
    "\n",
    "# Display predictions\n",
    "results.head()\n"
   ]
  },
  {
   "cell_type": "code",
   "execution_count": null,
   "metadata": {},
   "outputs": [],
   "source": []
  }
 ],
 "metadata": {
  "language_info": {
   "name": "python"
  }
 },
 "nbformat": 4,
 "nbformat_minor": 2
}
