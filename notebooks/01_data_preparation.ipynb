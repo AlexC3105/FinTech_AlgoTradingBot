{
 "cells": [
  {
   "cell_type": "markdown",
   "metadata": {},
   "source": [
    "# 01_data_preparation.ipynb\n",
    "\n",
    "## Notebook Purpose\n",
    "This notebook is designed to load, clean, and preprocess historical cryptocurrency data. It will also calculate technical indicators that will be used for further analysis and model training.\n",
    "\n",
    "## Instructions\n",
    "1. **Import Necessary Libraries**:\n",
    "   - Import `pandas` for data manipulation.\n",
    "   - Import functions from `utils.py` for loading, preprocessing data, and calculating technical indicators.\n",
    "\n",
    "2. **Load Data**:\n",
    "   - Use the `load_data` function to load the CSV file containing historical cryptocurrency data.\n",
    "\n",
    "3. **Preprocess Data**:\n",
    "   - Use the `preprocess_data` function to clean and preprocess the loaded data.\n",
    "   - Ensure any missing values are handled appropriately.\n",
    "\n",
    "4. **Calculate Technical Indicators**:\n",
    "   - Use the `calculate_indicators` function to add technical indicators (e.g., SMA, EMA, RSI) to the data.\n",
    "\n",
    "5. **Save Preprocessed Data**:\n",
    "   - Save the cleaned and preprocessed data, including the calculated technical indicators, to a new CSV file for later use.\n",
    "\n",
    "6. **Review Data**:\n",
    "   - Display the first few rows of the preprocessed data to ensure it looks correct.\n",
    "\n",
    "## Example Code\n",
    "```python\n",
    "# Import necessary libraries\n",
    "import pandas as pd\n",
    "from scripts.utils import load_data, preprocess_data, calculate_indicators\n",
    "\n",
    "# Load data\n",
    "data_path = 'data/historical_data/btc_usd.csv'  # Update this path based on the selected cryptocurrency\n",
    "data = load_data(data_path)\n",
    "\n",
    "# Preprocess data\n",
    "data = preprocess_data(data)\n",
    "\n",
    "# Calculate technical indicators\n",
    "data = calculate_indicators(data)\n",
    "\n",
    "# Save the preprocessed data\n",
    "data.to_csv('data/historical_data/btc_usd_preprocessed.csv')\n",
    "\n",
    "# Display the first few rows of the preprocessed data\n",
    "data.head()\n"
   ]
  },
  {
   "cell_type": "code",
   "execution_count": null,
   "metadata": {},
   "outputs": [],
   "source": []
  }
 ],
 "metadata": {
  "language_info": {
   "name": "python"
  }
 },
 "nbformat": 4,
 "nbformat_minor": 2
}
