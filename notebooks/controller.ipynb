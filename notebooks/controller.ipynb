{
 "cells": [
  {
   "cell_type": "markdown",
   "id": "96999ca7",
   "metadata": {},
   "source": [
    "# controller.ipynb\n",
    "\n",
    "## Notebook Purpose\n",
    "This notebook is designed to control the workflow of the entire project by sequentially running each notebook in the correct order. It ensures that the data is processed, analyzed, models are trained, predictions are made, and results are visualized.\n",
    "\n",
    "## Instructions\n",
    "1. **Import Necessary Libraries**:\n",
    "   - Import `os` and `subprocess` to run other notebooks programmatically.\n",
    "\n",
    "2. **Define Function to Run Notebooks**:\n",
    "   - Create a function to run a notebook using `subprocess`.\n",
    "\n",
    "3. **Run Notebooks Sequentially**:\n",
    "   - Use the function to run each notebook in the order required for the project workflow.\n",
    "\n",
    "## Example Code\n",
    "```python\n",
    "# Import necessary libraries\n",
    "import os\n",
    "import subprocess\n",
    "\n",
    "# Define function to run a notebook\n",
    "def run_notebook(notebook_path):\n",
    "    try:\n",
    "        result = subprocess.run(['jupyter', 'nbconvert', '--to', 'notebook', '--execute', notebook_path], check=True)\n",
    "        print(f\"Notebook {notebook_path} ran successfully.\")\n",
    "    except subprocess.CalledProcessError as e:\n",
    "        print(f\"Error running notebook {notebook_path}: {e}\")\n",
    "\n",
    "# Define the order of notebooks to run\n",
    "notebooks = [\n",
    "    'notebooks/01_data_preparation.ipynb',\n",
    "    'notebooks/02_data_analysis.ipynb',\n",
    "    'notebooks/03_model_generation.ipynb',\n",
    "    'notebooks/04_prediction_generation.ipynb',\n",
    "    'notebooks/05_backtesting.ipynb',\n",
    "    'notebooks/06_visualization.ipynb'\n",
    "]\n",
    "\n",
    "# Run notebooks sequentially\n",
    "for notebook in notebooks:\n",
    "    run_notebook(notebook)\n"
   ]
  },
  {
   "cell_type": "code",
   "execution_count": null,
   "id": "5cd69ba6-0045-482f-bd44-91e2762f3e04",
   "metadata": {},
   "outputs": [],
   "source": [
    "# Import necessary libraries\n",
    "import os\n",
    "import subprocess\n"
   ]
  },
  {
   "cell_type": "code",
   "execution_count": null,
   "id": "2c8a35a9-c057-4eb7-84ad-abc841a863fa",
   "metadata": {},
   "outputs": [],
   "source": [
    "# Define function to run a notebook\n",
    "def run_notebook(notebook_path):\n",
    "    try:\n",
    "        result = subprocess.run(['jupyter', 'nbconvert', '--to', 'notebook', '--execute', notebook_path], check=True)\n",
    "        print(f\"Notebook {notebook_path} ran successfully.\")\n",
    "    except subprocess.CalledProcessError as e:\n",
    "        print(f\"Error running notebook {notebook_path}: {e}\")\n"
   ]
  },
  {
   "cell_type": "code",
   "execution_count": null,
   "id": "fb3de312",
   "metadata": {},
   "outputs": [],
   "source": [
    "# Define the order of notebooks to run\n",
    "notebooks = [\n",
    "    'notebooks/01_data_preparation.ipynb',\n",
    "    'notebooks/02_data_analysis.ipynb',\n",
    "    'notebooks/03_model_generation.ipynb',\n",
    "    'notebooks/04_prediction_generation.ipynb',\n",
    "    'notebooks/05_backtesting.ipynb',\n",
    "    'notebooks/06_visualization.ipynb'\n",
    "]\n"
   ]
  },
  {
   "cell_type": "code",
   "execution_count": null,
   "id": "8ba1f8b4",
   "metadata": {},
   "outputs": [],
   "source": [
    "# Run notebooks sequentially\n",
    "for notebook in notebooks:\n",
    "    run_notebook(notebook)\n"
   ]
  },
  {
   "cell_type": "code",
   "execution_count": null,
   "id": "bc7b0c1a",
   "metadata": {},
   "outputs": [],
   "source": []
  }
 ],
 "metadata": {
  "kernelspec": {
   "display_name": "Python 3 (ipykernel)",
   "language": "python",
   "name": "python3"
  },
  "language_info": {
   "codemirror_mode": {
    "name": "ipython",
    "version": 3
   },
   "file_extension": ".py",
   "mimetype": "text/x-python",
   "name": "python",
   "nbconvert_exporter": "python",
   "pygments_lexer": "ipython3",
   "version": "3.11.7"
  }
 },
 "nbformat": 4,
 "nbformat_minor": 5
}
