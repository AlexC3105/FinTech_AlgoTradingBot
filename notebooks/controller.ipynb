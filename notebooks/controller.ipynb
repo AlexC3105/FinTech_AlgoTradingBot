{
 "cells": [
  {
   "cell_type": "markdown",
   "id": "96999ca7",
   "metadata": {},
   "source": [
    "# controller.ipynb\n",
    "\n",
    "## Notebook Purpose\n",
    "This notebook is designed to control the workflow of the entire project by sequentially running each notebook in the correct order. It ensures that the data is processed, analyzed, models are trained, predictions are made, and results are visualized.\n",
    "\n",
    "## Instructions\n",
    "1. **Import Necessary Libraries**:\n",
    "   - Import `os` and `subprocess` to run other notebooks programmatically.\n",
    "\n",
    "2. **Define Function to Run Notebooks**:\n",
    "   - Create a function to run a notebook using `subprocess`.\n",
    "\n",
    "3. **Run Notebooks Sequentially**:\n",
    "   - Use the function to run each notebook in the order required for the project workflow.\n",
    "\n",
    "## Example Code\n",
    "```python\n",
    "# Import necessary libraries\n",
    "import os\n",
    "import subprocess\n",
    "\n",
    "# Define function to run a notebook\n",
    "def run_notebook(notebook_path):\n",
    "    try:\n",
    "        result = subprocess.run(['jupyter', 'nbconvert', '--to', 'notebook', '--execute', notebook_path], check=True)\n",
    "        print(f\"Notebook {notebook_path} ran successfully.\")\n",
    "    except subprocess.CalledProcessError as e:\n",
    "        print(f\"Error running notebook {notebook_path}: {e}\")\n",
    "\n",
    "# Define the order of notebooks to run\n",
    "notebooks = [\n",
    "    'notebooks/01_data_preparation.ipynb',\n",
    "    'notebooks/02_data_analysis.ipynb',\n",
    "    'notebooks/03_model_generation.ipynb',\n",
    "    'notebooks/04_prediction_generation.ipynb',\n",
    "    'notebooks/05_backtesting.ipynb',\n",
    "    'notebooks/06_visualization.ipynb'\n",
    "]\n",
    "\n",
    "# Run notebooks sequentially\n",
    "for notebook in notebooks:\n",
    "    run_notebook(notebook)\n"
   ]
  },
  {
   "cell_type": "code",
   "execution_count": 9,
   "id": "5cd69ba6-0045-482f-bd44-91e2762f3e04",
   "metadata": {},
   "outputs": [],
   "source": [
    "# Cell 1: Import necessary libraries\n",
    "import os\n",
    "import subprocess\n"
   ]
  },
  {
   "cell_type": "code",
   "execution_count": 10,
   "id": "2c8a35a9-c057-4eb7-84ad-abc841a863fa",
   "metadata": {},
   "outputs": [],
   "source": [
    "# Cell 2: Define function to run a notebook\n",
    "def run_notebook(notebook_path):\n",
    "    try:\n",
    "        result = subprocess.run(['jupyter', 'nbconvert', '--to', 'notebook', '--execute', notebook_path], check=True)\n",
    "        print(f\"Notebook {notebook_path} ran successfully.\")\n",
    "    except subprocess.CalledProcessError as e:\n",
    "        print(f\"Error running notebook {notebook_path}: {e}\")\n"
   ]
  },
  {
   "cell_type": "code",
   "execution_count": 11,
   "id": "fb3de312",
   "metadata": {},
   "outputs": [],
   "source": [
    "# Cell 3: Define the order of notebooks to run\n",
    "notebooks = [\n",
    "    '01_data_preparation.ipynb',\n",
    "    '02_data_analysis.ipynb',\n",
    "    '03_model_generation.ipynb',\n",
    "    '04_prediction_generation.ipynb',\n",
    "    '05_backtesting.ipynb',\n",
    "    '06_visualization.ipynb',\n",
    "    'lstm_neural_network.ipynb',\n",
    "    'lstm_nn_predict.ipynb',\n",
    "    'random_forest_model.ipynb',\n",
    "    'rf_predict.ipynb'\n",
    "]\n"
   ]
  },
  {
   "cell_type": "code",
   "execution_count": 12,
   "id": "8ba1f8b4",
   "metadata": {},
   "outputs": [
    {
     "name": "stderr",
     "output_type": "stream",
     "text": [
      "[NbConvertApp] Converting notebook 01_data_preparation.ipynb to notebook\n",
      "0.00s - Debugger warning: It seems that frozen modules are being used, which may\n",
      "0.00s - make the debugger miss breakpoints. Please pass -Xfrozen_modules=off\n",
      "0.00s - to python to disable frozen modules.\n",
      "0.00s - Note: Debugging will proceed. Set PYDEVD_DISABLE_FILE_VALIDATION=1 to disable this validation.\n",
      "[NbConvertApp] Writing 20655 bytes to 01_data_preparation.nbconvert.ipynb\n"
     ]
    },
    {
     "name": "stdout",
     "output_type": "stream",
     "text": [
      "Notebook 01_data_preparation.ipynb ran successfully.\n"
     ]
    },
    {
     "name": "stderr",
     "output_type": "stream",
     "text": [
      "[NbConvertApp] Converting notebook 02_data_analysis.ipynb to notebook\n",
      "0.00s - Debugger warning: It seems that frozen modules are being used, which may\n",
      "0.00s - make the debugger miss breakpoints. Please pass -Xfrozen_modules=off\n",
      "0.00s - to python to disable frozen modules.\n",
      "0.00s - Note: Debugging will proceed. Set PYDEVD_DISABLE_FILE_VALIDATION=1 to disable this validation.\n",
      "[NbConvertApp] Writing 316642 bytes to 02_data_analysis.nbconvert.ipynb\n"
     ]
    },
    {
     "name": "stdout",
     "output_type": "stream",
     "text": [
      "Notebook 02_data_analysis.ipynb ran successfully.\n"
     ]
    },
    {
     "name": "stderr",
     "output_type": "stream",
     "text": [
      "[NbConvertApp] Converting notebook 03_model_generation.ipynb to notebook\n",
      "0.00s - Debugger warning: It seems that frozen modules are being used, which may\n",
      "0.00s - make the debugger miss breakpoints. Please pass -Xfrozen_modules=off\n",
      "0.00s - to python to disable frozen modules.\n",
      "0.00s - Note: Debugging will proceed. Set PYDEVD_DISABLE_FILE_VALIDATION=1 to disable this validation.\n",
      "[NbConvertApp] Writing 20739 bytes to 03_model_generation.nbconvert.ipynb\n"
     ]
    },
    {
     "name": "stdout",
     "output_type": "stream",
     "text": [
      "Notebook 03_model_generation.ipynb ran successfully.\n"
     ]
    },
    {
     "name": "stderr",
     "output_type": "stream",
     "text": [
      "[NbConvertApp] Converting notebook 04_prediction_generation.ipynb to notebook\n",
      "0.00s - Debugger warning: It seems that frozen modules are being used, which may\n",
      "0.00s - make the debugger miss breakpoints. Please pass -Xfrozen_modules=off\n",
      "0.00s - to python to disable frozen modules.\n",
      "0.00s - Note: Debugging will proceed. Set PYDEVD_DISABLE_FILE_VALIDATION=1 to disable this validation.\n",
      "[NbConvertApp] Writing 240110 bytes to 04_prediction_generation.nbconvert.ipynb\n"
     ]
    },
    {
     "name": "stdout",
     "output_type": "stream",
     "text": [
      "Notebook 04_prediction_generation.ipynb ran successfully.\n"
     ]
    },
    {
     "name": "stderr",
     "output_type": "stream",
     "text": [
      "[NbConvertApp] Converting notebook 05_backtesting.ipynb to notebook\n",
      "0.00s - Debugger warning: It seems that frozen modules are being used, which may\n",
      "0.00s - make the debugger miss breakpoints. Please pass -Xfrozen_modules=off\n",
      "0.00s - to python to disable frozen modules.\n",
      "0.00s - Note: Debugging will proceed. Set PYDEVD_DISABLE_FILE_VALIDATION=1 to disable this validation.\n",
      "[NbConvertApp] Writing 618575 bytes to 05_backtesting.nbconvert.ipynb\n"
     ]
    },
    {
     "name": "stdout",
     "output_type": "stream",
     "text": [
      "Notebook 05_backtesting.ipynb ran successfully.\n"
     ]
    },
    {
     "name": "stderr",
     "output_type": "stream",
     "text": [
      "[NbConvertApp] Converting notebook 06_visualization.ipynb to notebook\n",
      "0.00s - Debugger warning: It seems that frozen modules are being used, which may\n",
      "0.00s - make the debugger miss breakpoints. Please pass -Xfrozen_modules=off\n",
      "0.00s - to python to disable frozen modules.\n",
      "0.00s - Note: Debugging will proceed. Set PYDEVD_DISABLE_FILE_VALIDATION=1 to disable this validation.\n",
      "[NbConvertApp] Writing 1345940 bytes to 06_visualization.nbconvert.ipynb\n"
     ]
    },
    {
     "name": "stdout",
     "output_type": "stream",
     "text": [
      "Notebook 06_visualization.ipynb ran successfully.\n"
     ]
    },
    {
     "name": "stderr",
     "output_type": "stream",
     "text": [
      "[NbConvertApp] Converting notebook lstm_neural_network.ipynb to notebook\n",
      "0.00s - Debugger warning: It seems that frozen modules are being used, which may\n",
      "0.00s - make the debugger miss breakpoints. Please pass -Xfrozen_modules=off\n",
      "0.00s - to python to disable frozen modules.\n",
      "0.00s - Note: Debugging will proceed. Set PYDEVD_DISABLE_FILE_VALIDATION=1 to disable this validation.\n",
      "[NbConvertApp] Writing 284829 bytes to lstm_neural_network.nbconvert.ipynb\n"
     ]
    },
    {
     "name": "stdout",
     "output_type": "stream",
     "text": [
      "Notebook lstm_neural_network.ipynb ran successfully.\n"
     ]
    },
    {
     "name": "stderr",
     "output_type": "stream",
     "text": [
      "[NbConvertApp] Converting notebook lstm_nn_predict.ipynb to notebook\n",
      "0.00s - Debugger warning: It seems that frozen modules are being used, which may\n",
      "0.00s - make the debugger miss breakpoints. Please pass -Xfrozen_modules=off\n",
      "0.00s - to python to disable frozen modules.\n",
      "0.00s - Note: Debugging will proceed. Set PYDEVD_DISABLE_FILE_VALIDATION=1 to disable this validation.\n",
      "[NbConvertApp] Writing 576886 bytes to lstm_nn_predict.nbconvert.ipynb\n"
     ]
    },
    {
     "name": "stdout",
     "output_type": "stream",
     "text": [
      "Notebook lstm_nn_predict.ipynb ran successfully.\n"
     ]
    },
    {
     "name": "stderr",
     "output_type": "stream",
     "text": [
      "[NbConvertApp] Converting notebook random_forest_model.ipynb to notebook\n",
      "0.00s - Debugger warning: It seems that frozen modules are being used, which may\n",
      "0.00s - make the debugger miss breakpoints. Please pass -Xfrozen_modules=off\n",
      "0.00s - to python to disable frozen modules.\n",
      "0.00s - Note: Debugging will proceed. Set PYDEVD_DISABLE_FILE_VALIDATION=1 to disable this validation.\n",
      "[NbConvertApp] Writing 222133 bytes to random_forest_model.nbconvert.ipynb\n"
     ]
    },
    {
     "name": "stdout",
     "output_type": "stream",
     "text": [
      "Notebook random_forest_model.ipynb ran successfully.\n"
     ]
    },
    {
     "name": "stderr",
     "output_type": "stream",
     "text": [
      "[NbConvertApp] Converting notebook rf_predict.ipynb to notebook\n",
      "0.00s - Debugger warning: It seems that frozen modules are being used, which may\n",
      "0.00s - make the debugger miss breakpoints. Please pass -Xfrozen_modules=off\n",
      "0.00s - to python to disable frozen modules.\n",
      "0.00s - Note: Debugging will proceed. Set PYDEVD_DISABLE_FILE_VALIDATION=1 to disable this validation.\n"
     ]
    },
    {
     "name": "stdout",
     "output_type": "stream",
     "text": [
      "Notebook rf_predict.ipynb ran successfully.\n"
     ]
    },
    {
     "name": "stderr",
     "output_type": "stream",
     "text": [
      "[NbConvertApp] Writing 303790 bytes to rf_predict.nbconvert.ipynb\n"
     ]
    }
   ],
   "source": [
    "# Cell 4: Run notebooks sequentially\n",
    "for notebook in notebooks:\n",
    "    run_notebook(notebook)\n"
   ]
  },
  {
   "cell_type": "code",
   "execution_count": null,
   "id": "bc7b0c1a",
   "metadata": {},
   "outputs": [],
   "source": []
  }
 ],
 "metadata": {
  "kernelspec": {
   "display_name": "Python (base)",
   "language": "python",
   "name": "base"
  },
  "language_info": {
   "codemirror_mode": {
    "name": "ipython",
    "version": 3
   },
   "file_extension": ".py",
   "mimetype": "text/x-python",
   "name": "python",
   "nbconvert_exporter": "python",
   "pygments_lexer": "ipython3",
   "version": "3.11.7"
  }
 },
 "nbformat": 4,
 "nbformat_minor": 5
}
