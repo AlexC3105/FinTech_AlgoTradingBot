{
 "cells": [
  {
   "cell_type": "markdown",
   "metadata": {},
   "source": [
    "# 05_backtesting.ipynb\n",
    "\n",
    "## Notebook Purpose\n",
    "This notebook is designed to backtest trading strategies using historical data. It will apply the strategies to the data, evaluate their performance, and visualize the results.\n",
    "\n",
    "## Instructions\n",
    "1. **Import Necessary Libraries**:\n",
    "   - Import `pandas` for data manipulation.\n",
    "   - Import functions from `backtesting.py` for running backtests.\n",
    "\n",
    "2. **Load Preprocessed Data**:\n",
    "   - Load the preprocessed CSV file created in the first notebook.\n",
    "\n",
    "3. **Define Trading Strategy**:\n",
    "   - Use or modify the provided `example_strategy` function or define a new strategy function.\n",
    "\n",
    "4. **Run Backtest**:\n",
    "   - Use the `run_backtest` function to apply the trading strategy to the historical data.\n",
    "   - Evaluate the performance of the strategy.\n",
    "\n",
    "5. **Save Backtest Results**:\n",
    "   - Save the backtest results to a new CSV file.\n",
    "\n",
    "6. **Visualize Results**:\n",
    "   - Generate visualizations to analyze the performance of the trading strategy over time.\n",
    "\n",
    "## Example Code\n",
    "```python\n",
    "# Import necessary libraries\n",
    "import pandas as pd\n",
    "from scripts.backtesting import run_backtest, example_strategy\n",
    "\n",
    "# Load preprocessed data\n",
    "data_path = 'data/historical_data/btc_usd_preprocessed.csv'  # Update this path based on the selected cryptocurrency\n",
    "data = pd.read_csv(data_path, parse_dates=['time'], index_col='time')\n",
    "\n",
    "# Run backtest\n",
    "results = run_backtest(data, example_strategy)\n",
    "\n",
    "# Save backtest results\n",
    "results.to_csv('results/backtest_results.csv')\n",
    "\n",
    "# Display backtest results\n",
    "results.head()\n",
    "\n",
    "# Plot portfolio value over time\n",
    "import matplotlib.pyplot as plt\n",
    "plt.figure(figsize=(14, 7))\n",
    "plt.plot(results.index, results['Portfolio Value'])\n",
    "plt.title('Portfolio Value Over Time')\n",
    "plt.xlabel('Date')\n",
    "plt.ylabel('Portfolio Value (USD)')\n",
    "plt.show()\n"
   ]
  },
  {
   "cell_type": "code",
   "execution_count": null,
   "metadata": {},
   "outputs": [],
   "source": [
    "# Import necessary libraries\n",
    "try:\n",
    "    import pandas as pd\n",
    "    import matplotlib.pyplot as plt\n",
    "    from scripts.backtesting import run_backtest, example_strategy\n",
    "    print(\"Libraries imported successfully.\")\n",
    "except ImportError as e:\n",
    "    print(f\"Error importing libraries: {e}\")\n"
   ]
  },
  {
   "cell_type": "code",
   "execution_count": null,
   "metadata": {},
   "outputs": [],
   "source": [
    "# Load preprocessed data\n",
    "data_path = 'data/historical_data/btc_usd_preprocessed.csv'  # Update this path based on the selected cryptocurrency\n",
    "try:\n",
    "    data = pd.read_csv(data_path, parse_dates=['time'], index_col='time')\n",
    "    print(f\"Data loaded successfully from {data_path}\")\n",
    "except FileNotFoundError as e:\n",
    "    print(f\"Error loading data: {e}\")\n"
   ]
  },
  {
   "cell_type": "code",
   "execution_count": null,
   "metadata": {},
   "outputs": [],
   "source": [
    "# Run backtest\n",
    "try:\n",
    "    results = run_backtest(data, example_strategy)\n",
    "    print(\"Backtest completed successfully.\")\n",
    "except Exception as e:\n",
    "    print(f\"Error during backtest: {e}\")\n"
   ]
  },
  {
   "cell_type": "code",
   "execution_count": null,
   "metadata": {},
   "outputs": [],
   "source": [
    "# Save backtest results\n",
    "results_path = 'results/backtest_results.csv'\n",
    "try:\n",
    "    results.to_csv(results_path)\n",
    "    print(f\"Backtest results saved to {results_path}\")\n",
    "except Exception as e:\n",
    "    print(f\"Error saving backtest results: {e}\")\n"
   ]
  },
  {
   "cell_type": "code",
   "execution_count": null,
   "metadata": {},
   "outputs": [],
   "source": [
    "# Display backtest results\n",
    "try:\n",
    "    display(results.head())\n",
    "except Exception as e:\n",
    "    print(f\"Error displaying backtest results: {e}\")\n"
   ]
  },
  {
   "cell_type": "code",
   "execution_count": null,
   "metadata": {},
   "outputs": [],
   "source": [
    "# Plot portfolio value over time\n",
    "try:\n",
    "    plt.figure(figsize=(14, 7))\n",
    "    plt.plot(results.index, results['Portfolio Value'])\n",
    "    plt.title('Portfolio Value Over Time')\n",
    "    plt.xlabel('Date')\n",
    "    plt.ylabel('Portfolio Value (USD)')\n",
    "    plt.show()\n",
    "except Exception as e:\n",
    "    print(f\"Error plotting portfolio value: {e}\")\n"
   ]
  },
  {
   "cell_type": "code",
   "execution_count": null,
   "metadata": {},
   "outputs": [],
   "source": []
  }
 ],
 "metadata": {
  "language_info": {
   "name": "python"
  }
 },
 "nbformat": 4,
 "nbformat_minor": 2
}
