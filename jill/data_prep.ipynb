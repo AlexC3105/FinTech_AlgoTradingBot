{
 "cells": [
  {
   "cell_type": "code",
   "execution_count": null,
   "id": "58b225ec-7e33-433c-9b33-c4e229ec09be",
   "metadata": {
    "tags": []
   },
   "outputs": [],
   "source": [
    "# Import required libraries\n",
    "import pandas as pd\n",
    "from pathlib import Path\n",
    "\n",
    "# Define global variables\n",
    "global crypto\n",
    "global prices_df"
   ]
  },
  {
   "cell_type": "code",
   "execution_count": null,
   "id": "71ceba3c-04de-44e1-9a0e-bc809a48775d",
   "metadata": {
    "tags": []
   },
   "outputs": [],
   "source": [
    "# Determine which file to load; default to Bitcoin if invalid value passed\n",
    "match crypto :\n",
    "    case \"Bitcoin\":\n",
    "         pathname = Path(\"data/BTC-USD.csv\")\n",
    "    case \"Etherium\":\n",
    "         pathname = Path(\"data/ETH-USD.csv\")\n",
    "    case \"Solana\":\n",
    "         pathname = Path(\"data/SOL-USD.csv\")  \n",
    "    case _:\n",
    "         pathname = Path(\"data/BTC-USD.csv\")\n"
   ]
  },
  {
   "cell_type": "code",
   "execution_count": null,
   "id": "b785c55b-98b8-4891-a45a-760dfbf05b55",
   "metadata": {},
   "outputs": [],
   "source": [
    "# Read file\n",
    "prices_df = pd.read_csv(\n",
    "    pathname, \n",
    "    index_col=\"Date\", \n",
    "    parse_dates=True\n",
    ")\n",
    "\n",
    "# Drop columns except Date and Close\n",
    "prices_df = prices_df[[\"Close\"]]\n",
    "\n",
    "# Drop Nulls\n",
    "prices_df = prices_df.dropna()\n",
    "\n",
    "# Display sample data\n",
    "display(prices_df.head())"
   ]
  },
  {
   "cell_type": "code",
   "execution_count": null,
   "id": "f5fccffc-179d-4b8e-9313-d277d5309ff2",
   "metadata": {},
   "outputs": [],
   "source": []
  }
 ],
 "metadata": {
  "kernelspec": {
   "display_name": "Python 3 (ipykernel)",
   "language": "python",
   "name": "python3"
  },
  "language_info": {
   "codemirror_mode": {
    "name": "ipython",
    "version": 3
   },
   "file_extension": ".py",
   "mimetype": "text/x-python",
   "name": "python",
   "nbconvert_exporter": "python",
   "pygments_lexer": "ipython3",
   "version": "3.11.7"
  }
 },
 "nbformat": 4,
 "nbformat_minor": 5
}
