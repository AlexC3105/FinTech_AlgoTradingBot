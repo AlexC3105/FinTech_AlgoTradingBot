{
 "cells": [
  {
   "cell_type": "code",
   "execution_count": 5,
   "id": "58b225ec-7e33-433c-9b33-c4e229ec09be",
   "metadata": {
    "tags": []
   },
   "outputs": [],
   "source": [
    "# Import required libraries\n",
    "import pandas as pd\n",
    "from pathlib import Path\n",
    "\n",
    "# Define global variables\n",
    "global crypto\n",
    "global prices_df"
   ]
  },
  {
   "cell_type": "code",
   "execution_count": 14,
   "id": "71ceba3c-04de-44e1-9a0e-bc809a48775d",
   "metadata": {
    "tags": []
   },
   "outputs": [],
   "source": [
    "# Determine which file to load; default to Bitcoin if invalid value passed\n",
    "match crypto :\n",
    "    case \"Bitcoin\":\n",
    "         pathname = Path(\"data/BTC-USD.csv\")\n",
    "    case \"Etherium\":\n",
    "         pathname = Path(\"data/ETH-USD.csv\")\n",
    "    case \"Solana\":\n",
    "         pathname = Path(\"data/SOL-USD.csv\")  \n",
    "    case _:\n",
    "         pathname = Path(\"data/BTC-USD.csv\")\n"
   ]
  },
  {
   "cell_type": "code",
   "execution_count": 33,
   "id": "b785c55b-98b8-4891-a45a-760dfbf05b55",
   "metadata": {},
   "outputs": [
    {
     "data": {
      "text/html": [
       "<div>\n",
       "<style scoped>\n",
       "    .dataframe tbody tr th:only-of-type {\n",
       "        vertical-align: middle;\n",
       "    }\n",
       "\n",
       "    .dataframe tbody tr th {\n",
       "        vertical-align: top;\n",
       "    }\n",
       "\n",
       "    .dataframe thead th {\n",
       "        text-align: right;\n",
       "    }\n",
       "</style>\n",
       "<table border=\"1\" class=\"dataframe\">\n",
       "  <thead>\n",
       "    <tr style=\"text-align: right;\">\n",
       "      <th></th>\n",
       "      <th>Close</th>\n",
       "    </tr>\n",
       "    <tr>\n",
       "      <th>Date</th>\n",
       "      <th></th>\n",
       "    </tr>\n",
       "  </thead>\n",
       "  <tbody>\n",
       "    <tr>\n",
       "      <th>2021-07-01</th>\n",
       "      <td>33572.117188</td>\n",
       "    </tr>\n",
       "    <tr>\n",
       "      <th>2021-07-02</th>\n",
       "      <td>33897.046875</td>\n",
       "    </tr>\n",
       "    <tr>\n",
       "      <th>2021-07-03</th>\n",
       "      <td>34668.546875</td>\n",
       "    </tr>\n",
       "    <tr>\n",
       "      <th>2021-07-04</th>\n",
       "      <td>35287.781250</td>\n",
       "    </tr>\n",
       "    <tr>\n",
       "      <th>2021-07-05</th>\n",
       "      <td>33746.003906</td>\n",
       "    </tr>\n",
       "  </tbody>\n",
       "</table>\n",
       "</div>"
      ],
      "text/plain": [
       "                   Close\n",
       "Date                    \n",
       "2021-07-01  33572.117188\n",
       "2021-07-02  33897.046875\n",
       "2021-07-03  34668.546875\n",
       "2021-07-04  35287.781250\n",
       "2021-07-05  33746.003906"
      ]
     },
     "metadata": {},
     "output_type": "display_data"
    }
   ],
   "source": [
    "# Read file\n",
    "prices_df = pd.read_csv(\n",
    "    pathname, \n",
    "    index_col=\"Date\", \n",
    "    parse_dates=True\n",
    ")\n",
    "\n",
    "# Drop columns except Date and Close\n",
    "prices_df = prices_df[[\"Close\"]]\n",
    "\n",
    "# Drop Nulls\n",
    "prices_df = prices_df.dropna()\n",
    "\n",
    "# Display sample data\n",
    "display(prices_df.head())"
   ]
  },
  {
   "cell_type": "code",
   "execution_count": null,
   "id": "f5fccffc-179d-4b8e-9313-d277d5309ff2",
   "metadata": {},
   "outputs": [],
   "source": []
  }
 ],
 "metadata": {
  "kernelspec": {
   "display_name": "Python 3 (ipykernel)",
   "language": "python",
   "name": "python3"
  },
  "language_info": {
   "codemirror_mode": {
    "name": "ipython",
    "version": 3
   },
   "file_extension": ".py",
   "mimetype": "text/x-python",
   "name": "python",
   "nbconvert_exporter": "python",
   "pygments_lexer": "ipython3",
   "version": "3.11.7"
  }
 },
 "nbformat": 4,
 "nbformat_minor": 5
}
