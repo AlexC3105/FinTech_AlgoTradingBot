{
 "cells": [
  {
   "cell_type": "code",
   "execution_count": null,
   "id": "9b7fcbb4-3a51-4883-84fe-b1c6138d8855",
   "metadata": {},
   "outputs": [],
   "source": [
    "# Provide analysis of historical data"
   ]
  },
  {
   "cell_type": "code",
   "execution_count": null,
   "id": "f18045be-68c4-4ec8-b1a3-330346e37189",
   "metadata": {},
   "outputs": [],
   "source": [
    "#Initial imports\n",
    "import pandas as pd\n",
    "import numpy as np\n",
    "import datetime as dt\n",
    "import hvplot.pandas\n",
    "#import holoviews as hv\n",
    "import matplotlib.pyplot as plt\n",
    "\n",
    "# Define global variables\n",
    "global describe\n",
    "global prices_plot\n",
    "global prices_df\n",
    "#global rolling_std_plot\n",
    "#global closing_plot"
   ]
  },
  {
   "cell_type": "code",
   "execution_count": null,
   "id": "73533168-ed67-472f-a5a1-865211c7a9ec",
   "metadata": {},
   "outputs": [],
   "source": [
    "# Describe the data:\n",
    "describe = prices_df.describe()\n",
    "display(describe)"
   ]
  },
  {
   "cell_type": "code",
   "execution_count": null,
   "id": "83cfbab9-c686-443a-8448-610192041fd9",
   "metadata": {
    "tags": []
   },
   "outputs": [],
   "source": [
    "# Plot our historical prices\n",
    "#prices_plot = prices_df.hvplot.line(\n",
    "#    xlabel='Date',\n",
    "#    ylabel = 'Closing Price',\n",
    "#    title= 'Historical Prices')\n",
    "\n",
    "#display(prices_plot)\n",
    "\n",
    "# Plotting historical and predicted prices\n",
    "plt.figure(figsize=(12, 6))\n",
    "plt.plot(prices_df['Close'])\n",
    "plt.xlabel('Date')\n",
    "plt.ylabel('Price')\n",
    "plt.title('Historical Prices')\n",
    "#plt.legend()\n",
    "plt.savefig('historical.png')\n",
    "plt.show()"
   ]
  },
  {
   "cell_type": "code",
   "execution_count": null,
   "id": "75377f73-9432-436b-a236-13110e8871b3",
   "metadata": {},
   "outputs": [],
   "source": [
    "#Calculate rolling standard deviation for 21-day window\n",
    "\n",
    "rolling_std = prices_df.rolling(window=21).std()\n",
    "\n",
    "#Plot rolling standard deviation \n",
    "#rolling_std_plot = rolling_std.hvplot(\n",
    "#    xlabel='Date',\n",
    "#    title= '21 Day Rolling Standard Deviation of Closing Prices'\n",
    "#    )\n",
    "\n",
    "#display(rolling_std_plot)\n",
    "\n",
    "# Plotting historical and predicted prices\n",
    "plt.figure(figsize=(12, 6))\n",
    "plt.plot(rolling_std)\n",
    "plt.xlabel('Date')\n",
    "plt.ylabel('Price')\n",
    "plt.title('Historical 21-Day Rolling Standard Deviation of Closing Prices')\n",
    "#plt.legend()\n",
    "plt.savefig('std_dev.png')\n",
    "plt.show()\n"
   ]
  }
 ],
 "metadata": {
  "kernelspec": {
   "display_name": "Python 3 (ipykernel)",
   "language": "python",
   "name": "python3"
  },
  "language_info": {
   "codemirror_mode": {
    "name": "ipython",
    "version": 3
   },
   "file_extension": ".py",
   "mimetype": "text/x-python",
   "name": "python",
   "nbconvert_exporter": "python",
   "pygments_lexer": "ipython3",
   "version": "3.11.7"
  }
 },
 "nbformat": 4,
 "nbformat_minor": 5
}
