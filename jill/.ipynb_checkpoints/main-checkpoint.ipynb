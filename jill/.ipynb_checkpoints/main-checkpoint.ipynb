{
 "cells": [
  {
   "cell_type": "markdown",
   "id": "f0df0bc1-83d8-46c4-8f70-164f50ed64dc",
   "metadata": {},
   "source": [
    "# Form to present to user, to launch functionality."
   ]
  },
  {
   "cell_type": "code",
   "execution_count": 20,
   "id": "a8806e22-bbcd-48e5-a9b6-d687d4e5b453",
   "metadata": {
    "tags": []
   },
   "outputs": [],
   "source": [
    "# import functions needed for form functionality\n",
    "import ipywidgets as widgets\n",
    "#import hvplot.pandas\n",
    "#import holoviews as hv\n",
    "import datetime\n",
    "#import babel.numbers"
   ]
  },
  {
   "cell_type": "code",
   "execution_count": null,
   "id": "f2fa1a8f-de85-4003-9d28-0575899e9cd6",
   "metadata": {},
   "outputs": [],
   "source": [
    "# Define global variables\n",
    "global crypto\n",
    "global describe\n",
    "global prices_plot"
   ]
  },
  {
   "cell_type": "code",
   "execution_count": 22,
   "id": "e339b7c5-998e-49b7-802b-5b1d9cea3f61",
   "metadata": {
    "tags": []
   },
   "outputs": [],
   "source": [
    "# initialize variables\n",
    "crypto_opts=['Bitcoin','Etherium','Solana']\n",
    "out = widgets.Output()\n",
    "crypto=\"\"\n"
   ]
  },
  {
   "cell_type": "code",
   "execution_count": 24,
   "id": "e4afda0e-d165-41f4-a3ff-1dca7311740b",
   "metadata": {
    "tags": []
   },
   "outputs": [],
   "source": [
    "# define function executed after desired crypto is selected\n",
    "def on_button_clicked(b):\n",
    "    \n",
    "    global crypto\n",
    "    crypto=crypto_dropdown.value\n",
    "    \n",
    "    # invoke driver/controller program, with selected crypto as parm\n",
    "    %run controller.ipynb\n"
   ]
  },
  {
   "cell_type": "code",
   "execution_count": 26,
   "id": "e873ebe2-690f-4dbf-a090-2ddc24f397b1",
   "metadata": {
    "tags": []
   },
   "outputs": [],
   "source": [
    "# crypto dropdown box\n",
    "crypto_dropdown = widgets.Dropdown(\n",
    "    options=crypto_opts,\n",
    "    value=crypto_opts[0],\n",
    "    disabled=False,\n",
    "    layout=widgets.Layout(width='15%')\n",
    ")\n",
    "crypto_label = widgets.Label(value='Select Desired Crypto: ')"
   ]
  },
  {
   "cell_type": "code",
   "execution_count": 28,
   "id": "d734bb8e-a823-455d-910e-7db0b511b313",
   "metadata": {
    "tags": []
   },
   "outputs": [],
   "source": [
    "# buttons:\n",
    "\n",
    "# button to trigger analysis for desired crypto\n",
    "analyze_crypto = widgets.Button(\n",
    "    description='Analyze Cryptocurrency',\n",
    "    disabled=False,\n",
    "    button_style='', # 'success', 'info', 'warning', 'danger' or ''\n",
    "    layout=widgets.Layout(width='250px', height='30px', border='1px dashed blue')\n",
    "#    icon='dollar-sign'\n",
    ")\n",
    "analyze_crypto.on_click(on_button_clicked)"
   ]
  },
  {
   "cell_type": "code",
   "execution_count": 30,
   "id": "aba1eeaf-d120-46ee-bc4c-b705e76be88d",
   "metadata": {
    "tags": []
   },
   "outputs": [
    {
     "data": {
      "application/vnd.jupyter.widget-view+json": {
       "model_id": "61a00af774674f34a9c1e31a04d3ab6f",
       "version_major": 2,
       "version_minor": 0
      },
      "text/plain": [
       "VBox(children=(HBox(children=(HTML(value='<b>** Crypto Analyzer and Predictor **</b>'),)), HBox(children=(Labe…"
      ]
     },
     "metadata": {},
     "output_type": "display_data"
    }
   ],
   "source": [
    "# build form\n",
    "title = widgets.HTML(value=\"<b>** Crypto Analyzer and Predictor **</b>\")\n",
    "\n",
    "l0 = widgets.HBox(children=[title])\n",
    "l1 = widgets.HBox(children=[crypto_label,crypto_dropdown])\n",
    "l2 = widgets.HBox(children=[analyze_crypto])\n",
    "l3 = widgets.HBox(children=[out])\n",
    "\n",
    "box = widgets.VBox([l0,l1,l2, l3])\n",
    "box.layout={\"border\":\"2px solid black\"}\n",
    "\n",
    "# display the form:\n",
    "display(box)"
   ]
  },
  {
   "cell_type": "code",
   "execution_count": null,
   "id": "1f7cfebc-838b-44c7-a35e-f05cb72bb397",
   "metadata": {},
   "outputs": [],
   "source": [
    "display(describe)"
   ]
  },
  {
   "cell_type": "code",
   "execution_count": null,
   "id": "1d00c122-fd40-4bed-a12a-8986cfa88994",
   "metadata": {},
   "outputs": [],
   "source": [
    "display(prices_plot)"
   ]
  }
 ],
 "metadata": {
  "kernelspec": {
   "display_name": "Python 3 (ipykernel)",
   "language": "python",
   "name": "python3"
  },
  "language_info": {
   "codemirror_mode": {
    "name": "ipython",
    "version": 3
   },
   "file_extension": ".py",
   "mimetype": "text/x-python",
   "name": "python",
   "nbconvert_exporter": "python",
   "pygments_lexer": "ipython3",
   "version": "3.11.7"
  }
 },
 "nbformat": 4,
 "nbformat_minor": 5
}
