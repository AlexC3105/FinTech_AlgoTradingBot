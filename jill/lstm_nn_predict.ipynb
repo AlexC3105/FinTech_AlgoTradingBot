{
 "cells": [
  {
   "cell_type": "markdown",
   "id": "24202b31-b220-40f7-8626-f5964e2be919",
   "metadata": {},
   "source": [
    "# use our neural network model to predict prices out 20 days"
   ]
  },
  {
   "cell_type": "code",
   "execution_count": null,
   "id": "08c704b8-ecf6-46bf-a4d3-99013be3ffd5",
   "metadata": {},
   "outputs": [],
   "source": [
    "global nn_model"
   ]
  },
  {
   "cell_type": "code",
   "execution_count": null,
   "id": "1af4f4c9-7a74-4cf6-a05f-0ecb05d29a14",
   "metadata": {},
   "outputs": [],
   "source": [
    "# # Predictions\n",
    "future = model.predict(X_test)"
   ]
  }
 ],
 "metadata": {
  "kernelspec": {
   "display_name": "Python 3 (ipykernel)",
   "language": "python",
   "name": "python3"
  },
  "language_info": {
   "codemirror_mode": {
    "name": "ipython",
    "version": 3
   },
   "file_extension": ".py",
   "mimetype": "text/x-python",
   "name": "python",
   "nbconvert_exporter": "python",
   "pygments_lexer": "ipython3",
   "version": "3.11.7"
  }
 },
 "nbformat": 4,
 "nbformat_minor": 5
}
